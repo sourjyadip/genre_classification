{
  "nbformat": 4,
  "nbformat_minor": 0,
  "metadata": {
    "colab": {
      "name": "crnn_siamese.ipynb",
      "provenance": [],
      "machine_shape": "hm"
    },
    "kernelspec": {
      "name": "python3",
      "display_name": "Python 3"
    },
    "language_info": {
      "name": "python"
    },
    "accelerator": "GPU"
  },
  "cells": [
    {
      "cell_type": "code",
      "metadata": {
        "colab": {
          "base_uri": "https://localhost:8080/"
        },
        "id": "oNXxaMb8rN5R",
        "outputId": "872a7d6d-c728-4a69-8d4b-4953432203f6"
      },
      "source": [
        "from google.colab import drive\n",
        "drive.mount(\"/content/drive\")"
      ],
      "execution_count": 1,
      "outputs": [
        {
          "output_type": "stream",
          "text": [
            "Mounted at /content/drive\n"
          ],
          "name": "stdout"
        }
      ]
    },
    {
      "cell_type": "code",
      "metadata": {
        "id": "IptnkqufqT4K"
      },
      "source": [
        "import random\n",
        "import numpy as np\n",
        "import keras\n",
        "from keras.models import Sequential, Model\n",
        "from keras.layers import Flatten, Dense, Concatenate, Dot, Lambda, Input\n",
        "from keras.optimizers import Adam\n",
        "import matplotlib.pyplot as plt\n",
        "import tensorflow as tf\n",
        "import pandas as pd\n",
        "from keras.preprocessing.image import ImageDataGenerator\n",
        "from keras.utils.np_utils import to_categorical"
      ],
      "execution_count": 2,
      "outputs": []
    },
    {
      "cell_type": "code",
      "metadata": {
        "id": "HdDA9o5jrq1o"
      },
      "source": [
        "def prepare_datasets():\n",
        "    \n",
        "    npzfile = np.load('/content/drive/MyDrive/data/shuffled_train.npz') #change path\n",
        "    print(npzfile.files)\n",
        "    x_train = npzfile['arr_0']\n",
        "    y_train = npzfile['arr_1']\n",
        "    x_train = x_train[0:1000]\n",
        "    y_train = y_train[0:1000]\n",
        "    print(x_train.shape, y_train.shape)\n",
        "\n",
        "    npzfile = np.load('/content/drive/MyDrive/data/shuffled_valid.npz') #change path\n",
        "    print(npzfile.files)\n",
        "    x_validation = npzfile['arr_0']\n",
        "    y_validation = npzfile['arr_1']\n",
        "    print(x_validation.shape, y_validation.shape)\n",
        "\n",
        "\n",
        "\n",
        "    #x_train = x_train[... , np.newaxis]\n",
        "    #x_validation = x_validation[... , np.newaxis]\n",
        "    #x_test = x_test[... , np.newaxis]\n",
        "    return x_train, x_validation, y_train, y_validation\n"
      ],
      "execution_count": 3,
      "outputs": []
    },
    {
      "cell_type": "code",
      "metadata": {
        "colab": {
          "base_uri": "https://localhost:8080/"
        },
        "id": "Mw3nXGMzr3Mj",
        "outputId": "1af72745-8856-4479-9095-54feeb55432c"
      },
      "source": [
        "x_train, x_validation, y_train, y_validation = prepare_datasets()"
      ],
      "execution_count": 4,
      "outputs": [
        {
          "output_type": "stream",
          "text": [
            "['arr_0', 'arr_1']\n",
            "(1000, 640, 128) (1000, 8)\n",
            "['arr_0', 'arr_1']\n",
            "(800, 640, 128) (800, 8)\n"
          ],
          "name": "stdout"
        }
      ]
    },
    {
      "cell_type": "code",
      "metadata": {
        "colab": {
          "base_uri": "https://localhost:8080/"
        },
        "id": "OAM34YWYbuI9",
        "outputId": "9c9901f2-3da2-4cd4-b941-171f4c9f317e"
      },
      "source": [
        "x_test ,  y_test =  x_validation, y_validation\n",
        "x_train = x_train[... , np.newaxis]\n",
        "x_test = x_test[... , np.newaxis]\n",
        "print('Training', x_train.shape, x_train.max())\n",
        "print('Testing', x_test.shape, x_test.max())\n"
      ],
      "execution_count": 5,
      "outputs": [
        {
          "output_type": "stream",
          "text": [
            "Training (1000, 640, 128, 1) 1.554312234475218e-15\n",
            "Testing (800, 640, 128, 1) 1.554312234475218e-15\n"
          ],
          "name": "stdout"
        }
      ]
    },
    {
      "cell_type": "code",
      "metadata": {
        "colab": {
          "base_uri": "https://localhost:8080/"
        },
        "id": "SntLGP74d6yK",
        "outputId": "3e11fbeb-d9e8-456d-9ccc-f6ef91371863"
      },
      "source": [
        "\n",
        "Y_train = []\n",
        "Y_test = []\n",
        "for i in range(y_train.shape[0]):\n",
        "  index = tf.argmax(y_train[i], axis=0)\n",
        "  Y_train.append(index)\n",
        "y_train = np.array(Y_train)\n",
        "for i in range(y_test.shape[0]):\n",
        "  index = tf.argmax(y_test[i], axis=0)\n",
        "  Y_test.append(index)\n",
        "y_test = np.array(Y_test)\n",
        "print(y_train.shape, y_test.shape)\n",
        "\n",
        "print(y_train[2]) #check values"
      ],
      "execution_count": 6,
      "outputs": [
        {
          "output_type": "stream",
          "text": [
            "(1000,) (800,)\n",
            "5\n"
          ],
          "name": "stdout"
        }
      ]
    },
    {
      "cell_type": "code",
      "metadata": {
        "colab": {
          "base_uri": "https://localhost:8080/"
        },
        "id": "Bx8T6St4dBVq",
        "outputId": "178dc894-6023-4033-9fe1-3e4aa6b85edb"
      },
      "source": [
        "train_groups = [x_train[np.where(y_train==i)[0]] for i in np.unique(y_train)]\n",
        "test_groups = [x_test[np.where(y_test==i)[0]] for i in np.unique(y_train)]\n",
        "print('train groups:', [x.shape[0] for x in train_groups])\n",
        "print('test groups:', [x.shape[0] for x in test_groups])"
      ],
      "execution_count": 7,
      "outputs": [
        {
          "output_type": "stream",
          "text": [
            "train groups: [121, 116, 123, 135, 123, 134, 119, 129]\n",
            "test groups: [100, 100, 100, 100, 100, 100, 100, 100]\n"
          ],
          "name": "stdout"
        }
      ]
    },
    {
      "cell_type": "code",
      "metadata": {
        "id": "o-0B6A4ggGjh"
      },
      "source": [
        "def gen_random_batch(in_groups, batch_halfsize = 8):\n",
        "    out_img_a, out_img_b, out_score = [], [], []\n",
        "    all_groups = list(range(len(in_groups)))\n",
        "    for match_group in [True, False]:\n",
        "        group_idx = np.random.choice(all_groups, size = batch_halfsize)\n",
        "        out_img_a += [in_groups[c_idx][np.random.choice(range(in_groups[c_idx].shape[0]))] for c_idx in group_idx]\n",
        "        if match_group:\n",
        "            b_group_idx = group_idx\n",
        "            out_score += [1]*batch_halfsize\n",
        "        else:\n",
        "            # anything but the same group\n",
        "            non_group_idx = [np.random.choice([i for i in all_groups if i!=c_idx]) for c_idx in group_idx] \n",
        "            b_group_idx = non_group_idx\n",
        "            out_score += [0]*batch_halfsize\n",
        "            \n",
        "        out_img_b += [in_groups[c_idx][np.random.choice(range(in_groups[c_idx].shape[0]))] for c_idx in b_group_idx]\n",
        "            \n",
        "    return np.stack(out_img_a,0), np.stack(out_img_b,0), np.stack(out_score,0)\n",
        "    \n",
        "pv_a, pv_b, pv_sim = gen_random_batch(train_groups, 3)"
      ],
      "execution_count": 8,
      "outputs": []
    },
    {
      "cell_type": "code",
      "metadata": {
        "colab": {
          "base_uri": "https://localhost:8080/"
        },
        "id": "vFOStct_ge1M",
        "outputId": "0b999ea5-3e19-4f32-ae5f-7747f8f830cd"
      },
      "source": [
        "#from kaggle notebook https://www.kaggle.com/kmader/image-similarity-with-siamese-networks\n",
        "from keras.models import Model\n",
        "from keras.layers import Input, Conv2D, BatchNormalization, MaxPool2D, Activation, Flatten, Dense, Dropout, LSTM, Reshape\n",
        "img_in = Input(shape = x_train.shape[1:], name = 'FeatureNet_ImageInput')\n",
        "n_layer = img_in\n",
        "\n",
        "n_layer = Conv2D(68, kernel_size = (3,3), activation = 'relu')(n_layer)\n",
        "n_layer = MaxPool2D((2,2))(n_layer)\n",
        "n_layer = BatchNormalization()(n_layer)\n",
        "n_layer = Dropout(0.4)(n_layer)\n",
        "n_layer = Conv2D(137, kernel_size = (3,3), activation = 'relu')(n_layer)\n",
        "n_layer = MaxPool2D((3,3))(n_layer)\n",
        "n_layer = BatchNormalization()(n_layer)\n",
        "n_layer = Dropout(0.4)(n_layer)\n",
        "n_layer = Conv2D(137, kernel_size = (3,3), activation = 'relu')(n_layer)\n",
        "n_layer = MaxPool2D((4,4))(n_layer)\n",
        "n_layer = BatchNormalization()(n_layer)\n",
        "n_layer = Dropout(0.4)(n_layer)\n",
        "n_layer = Conv2D(137, kernel_size = (3,3), activation = 'relu')(n_layer)\n",
        "n_layer = MaxPool2D((4,4), padding = 'same')(n_layer)\n",
        "n_layer = BatchNormalization()(n_layer)\n",
        "n_layer = Dropout(0.4)(n_layer)\n",
        "\n",
        "n_layer = Reshape(target_shape=(6,137))(n_layer)\n",
        "\n",
        "n_layer = LSTM(68, dropout = 0.2, recurrent_dropout = 0.4, return_sequences = True)(n_layer)\n",
        "n_layer = LSTM(68, dropout = 0.2, recurrent_dropout = 0.4)(n_layer)\n",
        "n_layer = Dense(32, activation = 'relu')(n_layer)\n",
        "\n",
        "'''\n",
        "n_layer = Flatten()(n_layer)\n",
        "n_layer = Dense(300, activation = 'relu')(n_layer)\n",
        "n_layer = Dropout(0.2)(n_layer)\n",
        "n_layer = Dense(100, activation = 'relu')(n_layer)\n",
        "n_layer = Dropout(0.2)(n_layer)\n",
        "\n",
        "for i in range(3):\n",
        "    n_layer = Conv2D(8*2**i, kernel_size = (1,1), activation = 'linear')(n_layer)\n",
        "    n_layer = BatchNormalization()(n_layer)\n",
        "    n_layer = Activation('relu')(n_layer)\n",
        "    n_layer = Conv2D(16*2**i, kernel_size = (1,1), activation = 'linear')(n_layer)\n",
        "    n_layer = BatchNormalization()(n_layer)\n",
        "    n_layer = Activation('relu')(n_layer)\n",
        "    n_layer = MaxPool2D((2,2))(n_layer)\n",
        "n_layer = Flatten()(n_layer)\n",
        "n_layer = Dense(32, activation = 'linear')(n_layer)\n",
        "n_layer = Dropout(0.5)(n_layer)\n",
        "n_layer = BatchNormalization()(n_layer)\n",
        "n_layer = Activation('relu')(n_layer)\n",
        "'''\n",
        "feature_model = Model(inputs = [img_in], outputs = [n_layer], name = 'FeatureGenerationModel')\n",
        "feature_model.summary()"
      ],
      "execution_count": 11,
      "outputs": [
        {
          "output_type": "stream",
          "text": [
            "WARNING:tensorflow:Layer lstm_2 will not use cuDNN kernels since it doesn't meet the criteria. It will use a generic GPU kernel as fallback when running on GPU.\n",
            "WARNING:tensorflow:Layer lstm_3 will not use cuDNN kernels since it doesn't meet the criteria. It will use a generic GPU kernel as fallback when running on GPU.\n",
            "Model: \"FeatureGenerationModel\"\n",
            "_________________________________________________________________\n",
            "Layer (type)                 Output Shape              Param #   \n",
            "=================================================================\n",
            "FeatureNet_ImageInput (Input [(None, 640, 128, 1)]     0         \n",
            "_________________________________________________________________\n",
            "conv2d_8 (Conv2D)            (None, 638, 126, 68)      680       \n",
            "_________________________________________________________________\n",
            "max_pooling2d_8 (MaxPooling2 (None, 319, 63, 68)       0         \n",
            "_________________________________________________________________\n",
            "batch_normalization_8 (Batch (None, 319, 63, 68)       272       \n",
            "_________________________________________________________________\n",
            "dropout_8 (Dropout)          (None, 319, 63, 68)       0         \n",
            "_________________________________________________________________\n",
            "conv2d_9 (Conv2D)            (None, 317, 61, 137)      83981     \n",
            "_________________________________________________________________\n",
            "max_pooling2d_9 (MaxPooling2 (None, 105, 20, 137)      0         \n",
            "_________________________________________________________________\n",
            "batch_normalization_9 (Batch (None, 105, 20, 137)      548       \n",
            "_________________________________________________________________\n",
            "dropout_9 (Dropout)          (None, 105, 20, 137)      0         \n",
            "_________________________________________________________________\n",
            "conv2d_10 (Conv2D)           (None, 103, 18, 137)      169058    \n",
            "_________________________________________________________________\n",
            "max_pooling2d_10 (MaxPooling (None, 25, 4, 137)        0         \n",
            "_________________________________________________________________\n",
            "batch_normalization_10 (Batc (None, 25, 4, 137)        548       \n",
            "_________________________________________________________________\n",
            "dropout_10 (Dropout)         (None, 25, 4, 137)        0         \n",
            "_________________________________________________________________\n",
            "conv2d_11 (Conv2D)           (None, 23, 2, 137)        169058    \n",
            "_________________________________________________________________\n",
            "max_pooling2d_11 (MaxPooling (None, 6, 1, 137)         0         \n",
            "_________________________________________________________________\n",
            "batch_normalization_11 (Batc (None, 6, 1, 137)         548       \n",
            "_________________________________________________________________\n",
            "dropout_11 (Dropout)         (None, 6, 1, 137)         0         \n",
            "_________________________________________________________________\n",
            "reshape_2 (Reshape)          (None, 6, 137)            0         \n",
            "_________________________________________________________________\n",
            "lstm_2 (LSTM)                (None, 6, 68)             56032     \n",
            "_________________________________________________________________\n",
            "lstm_3 (LSTM)                (None, 68)                37264     \n",
            "_________________________________________________________________\n",
            "dense_1 (Dense)              (None, 32)                2208      \n",
            "=================================================================\n",
            "Total params: 520,197\n",
            "Trainable params: 519,239\n",
            "Non-trainable params: 958\n",
            "_________________________________________________________________\n"
          ],
          "name": "stdout"
        }
      ]
    },
    {
      "cell_type": "code",
      "metadata": {
        "colab": {
          "base_uri": "https://localhost:8080/"
        },
        "id": "yKyIHiBtgtNG",
        "outputId": "27703fd8-41e3-4b24-b4b0-e189e7cff7e2"
      },
      "source": [
        "from keras.layers import concatenate\n",
        "img_a_in = Input(shape = x_train.shape[1:], name = 'ImageA_Input')\n",
        "img_b_in = Input(shape = x_train.shape[1:], name = 'ImageB_Input')\n",
        "img_a_feat = feature_model(img_a_in)\n",
        "img_b_feat = feature_model(img_b_in)\n",
        "combined_features = concatenate([img_a_feat, img_b_feat], name = 'merge_features')\n",
        "combined_features = Dense(16, activation = 'linear')(combined_features)\n",
        "combined_features = BatchNormalization()(combined_features)\n",
        "combined_features = Activation('relu')(combined_features)\n",
        "combined_features = Dense(4, activation = 'linear')(combined_features)\n",
        "combined_features = BatchNormalization()(combined_features)\n",
        "combined_features = Activation('relu')(combined_features)\n",
        "combined_features = Dense(1, activation = 'sigmoid')(combined_features)\n",
        "similarity_model = Model(inputs = [img_a_in, img_b_in], outputs = [combined_features], name = 'Similarity_Model')\n",
        "similarity_model.summary()"
      ],
      "execution_count": 12,
      "outputs": [
        {
          "output_type": "stream",
          "text": [
            "Model: \"Similarity_Model\"\n",
            "__________________________________________________________________________________________________\n",
            "Layer (type)                    Output Shape         Param #     Connected to                     \n",
            "==================================================================================================\n",
            "ImageA_Input (InputLayer)       [(None, 640, 128, 1) 0                                            \n",
            "__________________________________________________________________________________________________\n",
            "ImageB_Input (InputLayer)       [(None, 640, 128, 1) 0                                            \n",
            "__________________________________________________________________________________________________\n",
            "FeatureGenerationModel (Functio (None, 32)           520197      ImageA_Input[0][0]               \n",
            "                                                                 ImageB_Input[0][0]               \n",
            "__________________________________________________________________________________________________\n",
            "merge_features (Concatenate)    (None, 64)           0           FeatureGenerationModel[0][0]     \n",
            "                                                                 FeatureGenerationModel[1][0]     \n",
            "__________________________________________________________________________________________________\n",
            "dense_2 (Dense)                 (None, 16)           1040        merge_features[0][0]             \n",
            "__________________________________________________________________________________________________\n",
            "batch_normalization_12 (BatchNo (None, 16)           64          dense_2[0][0]                    \n",
            "__________________________________________________________________________________________________\n",
            "activation (Activation)         (None, 16)           0           batch_normalization_12[0][0]     \n",
            "__________________________________________________________________________________________________\n",
            "dense_3 (Dense)                 (None, 4)            68          activation[0][0]                 \n",
            "__________________________________________________________________________________________________\n",
            "batch_normalization_13 (BatchNo (None, 4)            16          dense_3[0][0]                    \n",
            "__________________________________________________________________________________________________\n",
            "activation_1 (Activation)       (None, 4)            0           batch_normalization_13[0][0]     \n",
            "__________________________________________________________________________________________________\n",
            "dense_4 (Dense)                 (None, 1)            5           activation_1[0][0]               \n",
            "==================================================================================================\n",
            "Total params: 521,390\n",
            "Trainable params: 520,392\n",
            "Non-trainable params: 998\n",
            "__________________________________________________________________________________________________\n"
          ],
          "name": "stdout"
        }
      ]
    },
    {
      "cell_type": "code",
      "metadata": {
        "colab": {
          "base_uri": "https://localhost:8080/"
        },
        "id": "ZhpvhyFzgvRD",
        "outputId": "dd892ac8-2e8c-4858-95ff-ee6b414a5d84"
      },
      "source": [
        "similarity_model.compile(optimizer='adam', loss = 'binary_crossentropy', metrics = ['acc'])\n",
        "\n",
        "def siam_gen(in_groups, batch_size = 32):\n",
        "    while True:\n",
        "        pv_a, pv_b, pv_sim = gen_random_batch(train_groups, batch_size//2)\n",
        "        yield [pv_a, pv_b], pv_sim\n",
        "# we want a constant validation group to have a frame of reference for model performance\n",
        "valid_a, valid_b, valid_sim = gen_random_batch(test_groups, 1024)\n",
        "loss_history = similarity_model.fit_generator(siam_gen(train_groups), \n",
        "                               steps_per_epoch = 500,\n",
        "                               validation_data=([valid_a, valid_b], valid_sim),\n",
        "                                              epochs = 10,\n",
        "                                             verbose = True)\n"
      ],
      "execution_count": 13,
      "outputs": [
        {
          "output_type": "stream",
          "text": [
            "/usr/local/lib/python3.7/dist-packages/keras/engine/training.py:1915: UserWarning: `Model.fit_generator` is deprecated and will be removed in a future version. Please use `Model.fit`, which supports generators.\n",
            "  warnings.warn('`Model.fit_generator` is deprecated and '\n"
          ],
          "name": "stderr"
        },
        {
          "output_type": "stream",
          "text": [
            "Epoch 1/10\n",
            "500/500 [==============================] - 209s 292ms/step - loss: 0.7049 - acc: 0.5326 - val_loss: 0.6912 - val_acc: 0.5142\n",
            "Epoch 2/10\n",
            "500/500 [==============================] - 139s 277ms/step - loss: 0.6856 - acc: 0.5544 - val_loss: 0.6843 - val_acc: 0.5469\n",
            "Epoch 3/10\n",
            "500/500 [==============================] - 138s 276ms/step - loss: 0.6792 - acc: 0.5645 - val_loss: 0.6760 - val_acc: 0.5869\n",
            "Epoch 4/10\n",
            "500/500 [==============================] - 138s 276ms/step - loss: 0.6576 - acc: 0.6059 - val_loss: 0.7619 - val_acc: 0.5381\n",
            "Epoch 5/10\n",
            "500/500 [==============================] - 138s 277ms/step - loss: 0.6434 - acc: 0.6331 - val_loss: 0.6413 - val_acc: 0.6255\n",
            "Epoch 6/10\n",
            "500/500 [==============================] - 139s 279ms/step - loss: 0.6269 - acc: 0.6531 - val_loss: 0.6612 - val_acc: 0.6191\n",
            "Epoch 7/10\n",
            "500/500 [==============================] - 140s 280ms/step - loss: 0.6189 - acc: 0.6581 - val_loss: 0.6708 - val_acc: 0.6016\n",
            "Epoch 8/10\n",
            "500/500 [==============================] - 140s 280ms/step - loss: 0.6105 - acc: 0.6606 - val_loss: 0.6953 - val_acc: 0.5923\n",
            "Epoch 9/10\n",
            "500/500 [==============================] - 140s 280ms/step - loss: 0.5943 - acc: 0.6771 - val_loss: 0.7319 - val_acc: 0.6133\n",
            "Epoch 10/10\n",
            "500/500 [==============================] - 139s 279ms/step - loss: 0.5661 - acc: 0.7057 - val_loss: 0.7014 - val_acc: 0.6230\n"
          ],
          "name": "stdout"
        }
      ]
    },
    {
      "cell_type": "code",
      "metadata": {
        "colab": {
          "base_uri": "https://localhost:8080/",
          "height": 573
        },
        "id": "fiI-T4aajbIv",
        "outputId": "aa4727ed-2bb7-47bc-b8fb-8567e5a804be"
      },
      "source": [
        "plt.plot(loss_history.history['acc'])\n",
        "plt.plot(loss_history.history['val_acc'])\n",
        "plt.title('model acc')\n",
        "plt.ylabel('acc')\n",
        "plt.xlabel('epoch')\n",
        "plt.legend(['train', 'test'], loc='upper left')\n",
        "plt.show()\n",
        "# summarize history for loss\n",
        "plt.plot(loss_history.history['loss'])\n",
        "plt.plot(loss_history.history['val_loss'])\n",
        "plt.title('model loss')\n",
        "plt.ylabel('loss')\n",
        "plt.xlabel('epoch')\n",
        "plt.legend(['train', 'test'], loc='upper left')\n",
        "plt.show()"
      ],
      "execution_count": 14,
      "outputs": [
        {
          "output_type": "display_data",
          "data": {
            "image/png": "[encoded data removed]",
            "text/plain": [
              "<Figure size 432x288 with 1 Axes>"
            ]
          },
          "metadata": {
            "tags": [],
            "needs_background": "light"
          }
        },
        {
          "output_type": "display_data",
          "data": {
            "image/png": "[encoded data removed]",
            "text/plain": [
              "<Figure size 432x288 with 1 Axes>"
            ]
          },
          "metadata": {
            "tags": [],
            "needs_background": "light"
          }
        }
      ]
    }
  ]
}
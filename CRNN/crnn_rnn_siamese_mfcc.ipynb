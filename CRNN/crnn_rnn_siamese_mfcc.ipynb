{
  "nbformat": 4,
  "nbformat_minor": 0,
  "metadata": {
    "colab": {
      "name": "crnn-rnn_siamese_mfcc.ipynb",
      "provenance": [],
      "machine_shape": "hm"
    },
    "kernelspec": {
      "name": "python3",
      "display_name": "Python 3"
    },
    "language_info": {
      "name": "python"
    },
    "accelerator": "GPU"
  },
  "cells": [
    {
      "cell_type": "code",
      "metadata": {
        "colab": {
          "base_uri": "https://localhost:8080/"
        },
        "id": "oNXxaMb8rN5R",
        "outputId": "c35fba01-e077-4e5e-cd3f-6acaa725e33f"
      },
      "source": [
        "from google.colab import drive\n",
        "drive.mount(\"/content/drive\")"
      ],
      "execution_count": 1,
      "outputs": [
        {
          "output_type": "stream",
          "text": [
            "Mounted at /content/drive\n"
          ],
          "name": "stdout"
        }
      ]
    },
    {
      "cell_type": "code",
      "metadata": {
        "id": "IptnkqufqT4K"
      },
      "source": [
        "import random\n",
        "import numpy as np\n",
        "import keras\n",
        "from keras.models import Sequential, Model\n",
        "from keras.layers import Flatten, Dense, Concatenate, Dot, Lambda, Input\n",
        "from keras.optimizers import Adam\n",
        "import matplotlib.pyplot as plt\n",
        "import tensorflow as tf\n",
        "import pandas as pd\n",
        "from keras.preprocessing.image import ImageDataGenerator\n",
        "from keras.utils.np_utils import to_categorical"
      ],
      "execution_count": 1,
      "outputs": []
    },
    {
      "cell_type": "code",
      "metadata": {
        "id": "HdDA9o5jrq1o"
      },
      "source": [
        "def prepare_datasets():\n",
        "    \n",
        "    npzfile = np.load('/content/drive/MyDrive/fma_mfcc/shuffled_train.npz') #change path\n",
        "    print(npzfile.files)\n",
        "    x_train = npzfile['arr_0']\n",
        "    y_train = npzfile['arr_1']\n",
        "    x_train = x_train[0:2000]\n",
        "    y_train = y_train[0:2000]\n",
        "    print(x_train.shape, y_train.shape)\n",
        "\n",
        "    npzfile = np.load('/content/drive/MyDrive/fma_mfcc/shuffled_valid.npz') #change path\n",
        "    print(npzfile.files)\n",
        "    x_validation = npzfile['arr_0']\n",
        "    y_validation = npzfile['arr_1']\n",
        "    print(x_validation.shape, y_validation.shape)\n",
        "\n",
        "\n",
        "\n",
        "    #x_train = x_train[... , np.newaxis]\n",
        "    #x_validation = x_validation[... , np.newaxis]\n",
        "    #x_test = x_test[... , np.newaxis]\n",
        "    return x_train, x_validation, y_train, y_validation\n"
      ],
      "execution_count": 2,
      "outputs": []
    },
    {
      "cell_type": "code",
      "metadata": {
        "colab": {
          "base_uri": "https://localhost:8080/"
        },
        "id": "Mw3nXGMzr3Mj",
        "outputId": "a0e81aeb-677a-4272-f5a1-8b9baf9c0f2f"
      },
      "source": [
        "x_train, x_validation, y_train, y_validation = prepare_datasets()"
      ],
      "execution_count": 3,
      "outputs": [
        {
          "output_type": "stream",
          "text": [
            "['arr_0', 'arr_1']\n",
            "(2000, 10, 130, 13) (2000,)\n",
            "['arr_0', 'arr_1']\n",
            "(799, 10, 130, 13) (799,)\n"
          ],
          "name": "stdout"
        }
      ]
    },
    {
      "cell_type": "code",
      "metadata": {
        "colab": {
          "base_uri": "https://localhost:8080/"
        },
        "id": "OAM34YWYbuI9",
        "outputId": "822b2d4b-ec7b-4bf9-ec00-b6c0e2347f4b"
      },
      "source": [
        "x_test ,  y_test =  x_validation, y_validation\n",
        "#x_train = x_train[... , np.newaxis]\n",
        "#x_test = x_test[... , np.newaxis]\n",
        "print('Training', x_train.shape, x_train.max())\n",
        "print('Testing', x_test.shape, x_test.max())\n"
      ],
      "execution_count": 4,
      "outputs": [
        {
          "output_type": "stream",
          "text": [
            "Training (2000, 10, 130, 13) 74.13542604597258\n",
            "Testing (799, 10, 130, 13) 71.31276365835367\n"
          ],
          "name": "stdout"
        }
      ]
    },
    {
      "cell_type": "code",
      "metadata": {
        "colab": {
          "base_uri": "https://localhost:8080/"
        },
        "id": "SntLGP74d6yK",
        "outputId": "f6883d29-f924-4c98-84b2-067876b608d0"
      },
      "source": [
        "'''\n",
        "Y_train = []\n",
        "Y_test = []\n",
        "for i in range(y_train.shape[0]):\n",
        "  index = tf.argmax(y_train[i], axis=0)\n",
        "  Y_train.append(index)\n",
        "y_train = np.array(Y_train)\n",
        "for i in range(y_test.shape[0]):\n",
        "  index = tf.argmax(y_test[i], axis=0)\n",
        "  Y_test.append(index)\n",
        "y_test = np.array(Y_test)\n",
        "print(y_train.shape, y_test.shape)\n",
        "'''\n",
        "print(y_train[2]) #check values"
      ],
      "execution_count": 5,
      "outputs": [
        {
          "output_type": "stream",
          "text": [
            "6\n"
          ],
          "name": "stdout"
        }
      ]
    },
    {
      "cell_type": "code",
      "metadata": {
        "colab": {
          "base_uri": "https://localhost:8080/"
        },
        "id": "Bx8T6St4dBVq",
        "outputId": "ab3c015c-d6c9-4f05-cb8e-6a844b04b612"
      },
      "source": [
        "train_groups = [x_train[np.where(y_train==i)[0]] for i in np.unique(y_train)]\n",
        "test_groups = [x_test[np.where(y_test==i)[0]] for i in np.unique(y_train)]\n",
        "print('train groups:', [x.shape[0] for x in train_groups])\n",
        "print('test groups:', [x.shape[0] for x in test_groups])"
      ],
      "execution_count": 6,
      "outputs": [
        {
          "output_type": "stream",
          "text": [
            "train groups: [276, 228, 262, 234, 243, 226, 263, 268]\n",
            "test groups: [100, 100, 100, 100, 100, 99, 100, 100]\n"
          ],
          "name": "stdout"
        }
      ]
    },
    {
      "cell_type": "code",
      "metadata": {
        "id": "o-0B6A4ggGjh"
      },
      "source": [
        "def gen_random_batch(in_groups, batch_halfsize = 8):\n",
        "    out_img_a, out_img_b, out_score = [], [], []\n",
        "    all_groups = list(range(len(in_groups)))\n",
        "    for match_group in [True, False]:\n",
        "        group_idx = np.random.choice(all_groups, size = batch_halfsize)\n",
        "        out_img_a += [in_groups[c_idx][np.random.choice(range(in_groups[c_idx].shape[0]))] for c_idx in group_idx]\n",
        "        if match_group:\n",
        "            b_group_idx = group_idx\n",
        "            out_score += [1]*batch_halfsize\n",
        "        else:\n",
        "            # anything but the same group\n",
        "            non_group_idx = [np.random.choice([i for i in all_groups if i!=c_idx]) for c_idx in group_idx] \n",
        "            b_group_idx = non_group_idx\n",
        "            out_score += [0]*batch_halfsize\n",
        "            \n",
        "        out_img_b += [in_groups[c_idx][np.random.choice(range(in_groups[c_idx].shape[0]))] for c_idx in b_group_idx]\n",
        "            \n",
        "    return np.stack(out_img_a,0), np.stack(out_img_b,0), np.stack(out_score,0)\n",
        "    \n",
        "pv_a, pv_b, pv_sim = gen_random_batch(train_groups, 3)"
      ],
      "execution_count": 7,
      "outputs": []
    },
    {
      "cell_type": "code",
      "metadata": {
        "colab": {
          "base_uri": "https://localhost:8080/"
        },
        "id": "vFOStct_ge1M",
        "outputId": "b2665b1c-22c4-4c61-d8ba-4a77527f10e2"
      },
      "source": [
        "#from kaggle notebook https://www.kaggle.com/kmader/image-similarity-with-siamese-networks\n",
        "from keras.models import Model\n",
        "from keras.layers import Input, Conv2D, BatchNormalization, MaxPool2D, Activation, Flatten, Dense, Dropout, LSTM, Reshape\n",
        "img_in = Input(shape = x_train.shape[1:], name = 'FeatureNet_ImageInput')\n",
        "n_layer = img_in\n",
        "\n",
        "n_layer = Conv2D(169, kernel_size = (3,3), activation = 'relu', padding = 'same')(n_layer)\n",
        "n_layer = MaxPool2D((2,2), padding = 'same')(n_layer)\n",
        "n_layer = BatchNormalization()(n_layer)\n",
        "n_layer = Dropout(0.4)(n_layer)\n",
        "n_layer = Conv2D(339, kernel_size = (3,3), activation = 'relu')(n_layer)\n",
        "n_layer = MaxPool2D((3,3), padding = 'same')(n_layer)\n",
        "n_layer = BatchNormalization()(n_layer)\n",
        "n_layer = Dropout(0.4)(n_layer)\n",
        "n_layer = Conv2D(339, kernel_size = (3,3), activation = 'relu', padding = 'same')(n_layer)\n",
        "n_layer = MaxPool2D((4,4), padding = 'same')(n_layer)\n",
        "n_layer = BatchNormalization()(n_layer)\n",
        "n_layer = Dropout(0.4)(n_layer)\n",
        "n_layer = Conv2D(339, kernel_size = (3,3), activation = 'relu', padding = 'same')(n_layer)\n",
        "n_layer = MaxPool2D((4,4), padding = 'same')(n_layer)\n",
        "n_layer = BatchNormalization()(n_layer)\n",
        "n_layer = Dropout(0.4)(n_layer)\n",
        "\n",
        "n_layer = Flatten()(n_layer)\n",
        "n_layer = Dense(169, activation = 'relu')(n_layer)\n",
        "n_layer = Dropout(0.5)(n_layer)\n",
        "n_layer = BatchNormalization()(n_layer)\n",
        "n_layer = Activation('relu')(n_layer)\n",
        "'''\n",
        "\n",
        "n_layer = Reshape(target_shape=(2,339))(n_layer)\n",
        "\n",
        "n_layer = LSTM(169, dropout = 0.2, recurrent_dropout = 0.4, return_sequences = True)(n_layer)\n",
        "n_layer = LSTM(169, dropout = 0.2, recurrent_dropout = 0.4)(n_layer)\n",
        "n_layer = Dense(169, activation = 'relu')(n_layer)\n",
        "\n",
        "\n",
        "n_layer = Flatten()(n_layer)\n",
        "n_layer = Dense(300, activation = 'relu')(n_layer)\n",
        "n_layer = Dropout(0.2)(n_layer)\n",
        "n_layer = Dense(100, activation = 'relu')(n_layer)\n",
        "n_layer = Dropout(0.2)(n_layer)\n",
        "\n",
        "for i in range(3):\n",
        "    n_layer = Conv2D(8*2**i, kernel_size = (1,1), activation = 'linear')(n_layer)\n",
        "    n_layer = BatchNormalization()(n_layer)\n",
        "    n_layer = Activation('relu')(n_layer)\n",
        "    n_layer = Conv2D(16*2**i, kernel_size = (1,1), activation = 'linear')(n_layer)\n",
        "    n_layer = BatchNormalization()(n_layer)\n",
        "    n_layer = Activation('relu')(n_layer)\n",
        "    n_layer = MaxPool2D((2,2))(n_layer)\n",
        "n_layer = Flatten()(n_layer)\n",
        "n_layer = Dense(32, activation = 'linear')(n_layer)\n",
        "n_layer = Dropout(0.5)(n_layer)\n",
        "n_layer = BatchNormalization()(n_layer)\n",
        "n_layer = Activation('relu')(n_layer)\n",
        "'''\n",
        "feature_model = Model(inputs = [img_in], outputs = [n_layer], name = 'FeatureGenerationModel')\n",
        "feature_model.summary()"
      ],
      "execution_count": 8,
      "outputs": [
        {
          "output_type": "stream",
          "text": [
            "Model: \"FeatureGenerationModel\"\n",
            "_________________________________________________________________\n",
            "Layer (type)                 Output Shape              Param #   \n",
            "=================================================================\n",
            "FeatureNet_ImageInput (Input [(None, 10, 130, 13)]     0         \n",
            "_________________________________________________________________\n",
            "conv2d (Conv2D)              (None, 10, 130, 169)      19942     \n",
            "_________________________________________________________________\n",
            "max_pooling2d (MaxPooling2D) (None, 5, 65, 169)        0         \n",
            "_________________________________________________________________\n",
            "batch_normalization (BatchNo (None, 5, 65, 169)        676       \n",
            "_________________________________________________________________\n",
            "dropout (Dropout)            (None, 5, 65, 169)        0         \n",
            "_________________________________________________________________\n",
            "conv2d_1 (Conv2D)            (None, 3, 63, 339)        515958    \n",
            "_________________________________________________________________\n",
            "max_pooling2d_1 (MaxPooling2 (None, 1, 21, 339)        0         \n",
            "_________________________________________________________________\n",
            "batch_normalization_1 (Batch (None, 1, 21, 339)        1356      \n",
            "_________________________________________________________________\n",
            "dropout_1 (Dropout)          (None, 1, 21, 339)        0         \n",
            "_________________________________________________________________\n",
            "conv2d_2 (Conv2D)            (None, 1, 21, 339)        1034628   \n",
            "_________________________________________________________________\n",
            "max_pooling2d_2 (MaxPooling2 (None, 1, 6, 339)         0         \n",
            "_________________________________________________________________\n",
            "batch_normalization_2 (Batch (None, 1, 6, 339)         1356      \n",
            "_________________________________________________________________\n",
            "dropout_2 (Dropout)          (None, 1, 6, 339)         0         \n",
            "_________________________________________________________________\n",
            "conv2d_3 (Conv2D)            (None, 1, 6, 339)         1034628   \n",
            "_________________________________________________________________\n",
            "max_pooling2d_3 (MaxPooling2 (None, 1, 2, 339)         0         \n",
            "_________________________________________________________________\n",
            "batch_normalization_3 (Batch (None, 1, 2, 339)         1356      \n",
            "_________________________________________________________________\n",
            "dropout_3 (Dropout)          (None, 1, 2, 339)         0         \n",
            "_________________________________________________________________\n",
            "flatten (Flatten)            (None, 678)               0         \n",
            "_________________________________________________________________\n",
            "dense (Dense)                (None, 169)               114751    \n",
            "_________________________________________________________________\n",
            "dropout_4 (Dropout)          (None, 169)               0         \n",
            "_________________________________________________________________\n",
            "batch_normalization_4 (Batch (None, 169)               676       \n",
            "_________________________________________________________________\n",
            "activation (Activation)      (None, 169)               0         \n",
            "=================================================================\n",
            "Total params: 2,725,327\n",
            "Trainable params: 2,722,617\n",
            "Non-trainable params: 2,710\n",
            "_________________________________________________________________\n"
          ],
          "name": "stdout"
        }
      ]
    },
    {
      "cell_type": "code",
      "metadata": {
        "colab": {
          "base_uri": "https://localhost:8080/"
        },
        "id": "yKyIHiBtgtNG",
        "outputId": "371e818c-6e9b-420a-d91d-db635729f613"
      },
      "source": [
        "from keras.layers import concatenate\n",
        "img_a_in = Input(shape = x_train.shape[1:], name = 'ImageA_Input')\n",
        "img_b_in = Input(shape = x_train.shape[1:], name = 'ImageB_Input')\n",
        "img_a_feat = feature_model(img_a_in)\n",
        "img_b_feat = feature_model(img_b_in)\n",
        "combined_features = concatenate([img_a_feat, img_b_feat], name = 'merge_features')\n",
        "combined_features = Dense(16, activation = 'linear')(combined_features)\n",
        "combined_features = BatchNormalization()(combined_features)\n",
        "combined_features = Activation('relu')(combined_features)\n",
        "combined_features = Dense(4, activation = 'linear')(combined_features)\n",
        "combined_features = BatchNormalization()(combined_features)\n",
        "combined_features = Activation('relu')(combined_features)\n",
        "combined_features = Dense(1, activation = 'sigmoid')(combined_features)\n",
        "similarity_model = Model(inputs = [img_a_in, img_b_in], outputs = [combined_features], name = 'Similarity_Model')\n",
        "similarity_model.summary()"
      ],
      "execution_count": 9,
      "outputs": [
        {
          "output_type": "stream",
          "text": [
            "Model: \"Similarity_Model\"\n",
            "__________________________________________________________________________________________________\n",
            "Layer (type)                    Output Shape         Param #     Connected to                     \n",
            "==================================================================================================\n",
            "ImageA_Input (InputLayer)       [(None, 10, 130, 13) 0                                            \n",
            "__________________________________________________________________________________________________\n",
            "ImageB_Input (InputLayer)       [(None, 10, 130, 13) 0                                            \n",
            "__________________________________________________________________________________________________\n",
            "FeatureGenerationModel (Functio (None, 169)          2725327     ImageA_Input[0][0]               \n",
            "                                                                 ImageB_Input[0][0]               \n",
            "__________________________________________________________________________________________________\n",
            "merge_features (Concatenate)    (None, 338)          0           FeatureGenerationModel[0][0]     \n",
            "                                                                 FeatureGenerationModel[1][0]     \n",
            "__________________________________________________________________________________________________\n",
            "dense_1 (Dense)                 (None, 16)           5424        merge_features[0][0]             \n",
            "__________________________________________________________________________________________________\n",
            "batch_normalization_5 (BatchNor (None, 16)           64          dense_1[0][0]                    \n",
            "__________________________________________________________________________________________________\n",
            "activation_1 (Activation)       (None, 16)           0           batch_normalization_5[0][0]      \n",
            "__________________________________________________________________________________________________\n",
            "dense_2 (Dense)                 (None, 4)            68          activation_1[0][0]               \n",
            "__________________________________________________________________________________________________\n",
            "batch_normalization_6 (BatchNor (None, 4)            16          dense_2[0][0]                    \n",
            "__________________________________________________________________________________________________\n",
            "activation_2 (Activation)       (None, 4)            0           batch_normalization_6[0][0]      \n",
            "__________________________________________________________________________________________________\n",
            "dense_3 (Dense)                 (None, 1)            5           activation_2[0][0]               \n",
            "==================================================================================================\n",
            "Total params: 2,730,904\n",
            "Trainable params: 2,728,154\n",
            "Non-trainable params: 2,750\n",
            "__________________________________________________________________________________________________\n"
          ],
          "name": "stdout"
        }
      ]
    },
    {
      "cell_type": "code",
      "metadata": {
        "colab": {
          "base_uri": "https://localhost:8080/"
        },
        "id": "ZhpvhyFzgvRD",
        "outputId": "94de521e-563c-45de-dc68-102e041b051a"
      },
      "source": [
        "similarity_model.compile(optimizer='adam', loss = 'binary_crossentropy', metrics = [keras.metrics.AUC()])\n",
        "\n",
        "def siam_gen(in_groups, batch_size = 32):\n",
        "    while True:\n",
        "        pv_a, pv_b, pv_sim = gen_random_batch(train_groups, batch_size//2)\n",
        "        yield [pv_a, pv_b], pv_sim\n",
        "# we want a constant validation group to have a frame of reference for model performance\n",
        "valid_a, valid_b, valid_sim = gen_random_batch(test_groups, 1024)\n",
        "loss_history = similarity_model.fit_generator(siam_gen(train_groups), \n",
        "                               steps_per_epoch = 500,\n",
        "                               validation_data=([valid_a, valid_b], valid_sim),\n",
        "                                              epochs = 20,\n",
        "                                             verbose = True)\n"
      ],
      "execution_count": 10,
      "outputs": [
        {
          "output_type": "stream",
          "text": [
            "/usr/local/lib/python3.7/dist-packages/keras/engine/training.py:1915: UserWarning: `Model.fit_generator` is deprecated and will be removed in a future version. Please use `Model.fit`, which supports generators.\n",
            "  warnings.warn('`Model.fit_generator` is deprecated and '\n"
          ],
          "name": "stderr"
        },
        {
          "output_type": "stream",
          "text": [
            "Epoch 1/20\n",
            "500/500 [==============================] - 32s 19ms/step - loss: 0.7149 - auc: 0.5162 - val_loss: 0.6851 - val_auc: 0.5817\n",
            "Epoch 2/20\n",
            "500/500 [==============================] - 8s 16ms/step - loss: 0.6878 - auc: 0.5621 - val_loss: 0.6880 - val_auc: 0.5589\n",
            "Epoch 3/20\n",
            "500/500 [==============================] - 8s 16ms/step - loss: 0.6804 - auc: 0.5939 - val_loss: 0.6804 - val_auc: 0.6068\n",
            "Epoch 4/20\n",
            "500/500 [==============================] - 8s 16ms/step - loss: 0.6726 - auc: 0.6150 - val_loss: 0.6805 - val_auc: 0.5984\n",
            "Epoch 5/20\n",
            "500/500 [==============================] - 8s 16ms/step - loss: 0.6731 - auc: 0.6085 - val_loss: 0.6838 - val_auc: 0.5757\n",
            "Epoch 6/20\n",
            "500/500 [==============================] - 8s 16ms/step - loss: 0.6706 - auc: 0.6169 - val_loss: 0.6721 - val_auc: 0.6151\n",
            "Epoch 7/20\n",
            "500/500 [==============================] - 8s 16ms/step - loss: 0.6653 - auc: 0.6309 - val_loss: 0.6727 - val_auc: 0.6099\n",
            "Epoch 8/20\n",
            "500/500 [==============================] - 8s 16ms/step - loss: 0.6669 - auc: 0.6270 - val_loss: 0.6650 - val_auc: 0.6374\n",
            "Epoch 9/20\n",
            "500/500 [==============================] - 8s 16ms/step - loss: 0.6651 - auc: 0.6319 - val_loss: 0.6672 - val_auc: 0.6332\n",
            "Epoch 10/20\n",
            "500/500 [==============================] - 8s 16ms/step - loss: 0.6634 - auc: 0.6363 - val_loss: 0.6668 - val_auc: 0.6314\n",
            "Epoch 11/20\n",
            "500/500 [==============================] - 8s 16ms/step - loss: 0.6576 - auc: 0.6480 - val_loss: 0.6745 - val_auc: 0.6134\n",
            "Epoch 12/20\n",
            "500/500 [==============================] - 8s 16ms/step - loss: 0.6604 - auc: 0.6430 - val_loss: 0.6768 - val_auc: 0.6107\n",
            "Epoch 13/20\n",
            "500/500 [==============================] - 8s 16ms/step - loss: 0.6525 - auc: 0.6579 - val_loss: 0.6515 - val_auc: 0.6538\n",
            "Epoch 14/20\n",
            "500/500 [==============================] - 8s 16ms/step - loss: 0.6439 - auc: 0.6735 - val_loss: 0.6556 - val_auc: 0.6481\n",
            "Epoch 15/20\n",
            "500/500 [==============================] - 8s 16ms/step - loss: 0.6450 - auc: 0.6716 - val_loss: 0.6550 - val_auc: 0.6523\n",
            "Epoch 16/20\n",
            "500/500 [==============================] - 8s 16ms/step - loss: 0.6363 - auc: 0.6867 - val_loss: 0.6599 - val_auc: 0.6432\n",
            "Epoch 17/20\n",
            "500/500 [==============================] - 8s 16ms/step - loss: 0.6268 - auc: 0.6979 - val_loss: 0.6700 - val_auc: 0.6114\n",
            "Epoch 18/20\n",
            "500/500 [==============================] - 8s 16ms/step - loss: 0.6274 - auc: 0.6973 - val_loss: 0.6779 - val_auc: 0.6052\n",
            "Epoch 19/20\n",
            "500/500 [==============================] - 8s 16ms/step - loss: 0.6201 - auc: 0.7079 - val_loss: 0.6729 - val_auc: 0.6120\n",
            "Epoch 20/20\n",
            "500/500 [==============================] - 8s 16ms/step - loss: 0.6127 - auc: 0.7160 - val_loss: 0.6633 - val_auc: 0.6485\n"
          ],
          "name": "stdout"
        }
      ]
    },
    {
      "cell_type": "code",
      "metadata": {
        "colab": {
          "base_uri": "https://localhost:8080/",
          "height": 573
        },
        "id": "fiI-T4aajbIv",
        "outputId": "98757d30-f392-49d4-f855-045eb71eed48"
      },
      "source": [
        "plt.plot(loss_history.history['auc'])\n",
        "plt.plot(loss_history.history['val_auc'])\n",
        "plt.title('model auc')\n",
        "plt.ylabel('auc')\n",
        "plt.xlabel('epoch')\n",
        "plt.legend(['train', 'test'], loc='upper left')\n",
        "plt.show()\n",
        "# summarize history for loss\n",
        "plt.plot(loss_history.history['loss'])\n",
        "plt.plot(loss_history.history['val_loss'])\n",
        "plt.title('model loss')\n",
        "plt.ylabel('loss')\n",
        "plt.xlabel('epoch')\n",
        "plt.legend(['train', 'test'], loc='upper left')\n",
        "plt.show()"
      ],
      "execution_count": 11,
      "outputs": [
        {
          "output_type": "display_data",
          "data": {
            "image/png": "[encoded data removed]",
            "text/plain": [
              "<Figure size 432x288 with 1 Axes>"
            ]
          },
          "metadata": {
            "tags": [],
            "needs_background": "light"
          }
        },
        {
          "output_type": "display_data",
          "data": {
            "image/png": "[encoded data removed]",
            "text/plain": [
              "<Figure size 432x288 with 1 Axes>"
            ]
          },
          "metadata": {
            "tags": [],
            "needs_background": "light"
          }
        }
      ]
    }
  ]
}
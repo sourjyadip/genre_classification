{
  "nbformat": 4,
  "nbformat_minor": 0,
  "metadata": {
    "colab": {
      "name": "genre_cnn.ipynb",
      "provenance": [],
      "collapsed_sections": []
    },
    "kernelspec": {
      "name": "python3",
      "display_name": "Python 3"
    },
    "language_info": {
      "name": "python"
    },
    "accelerator": "GPU"
  },
  "cells": [
    {
      "cell_type": "code",
      "metadata": {
        "colab": {
          "base_uri": "https://localhost:8080/"
        },
        "id": "GeNEK9k7Hmwv",
        "outputId": "de05affd-8b89-4a76-e9a7-a9cffa30a66c"
      },
      "source": [
        "!git clone https://github.com/sourjyadip/genre_classification"
      ],
      "execution_count": 1,
      "outputs": [
        {
          "output_type": "stream",
          "text": [
            "Cloning into 'genre_classification'...\n",
            "remote: Enumerating objects: 21, done.\u001b[K\n",
            "remote: Counting objects: 100% (21/21), done.\u001b[K\n",
            "remote: Compressing objects: 100% (16/16), done.\u001b[K\n",
            "remote: Total 21 (delta 6), reused 19 (delta 4), pack-reused 0\u001b[K\n",
            "Unpacking objects: 100% (21/21), done.\n"
          ],
          "name": "stdout"
        }
      ]
    },
    {
      "cell_type": "code",
      "metadata": {
        "colab": {
          "base_uri": "https://localhost:8080/"
        },
        "id": "uKSXfRGsICDH",
        "outputId": "a05b7076-4899-48b2-fc10-21871d971a74"
      },
      "source": [
        "import cv2\n",
        "from google.colab import drive\n",
        "drive.mount(\"/content/drive\")"
      ],
      "execution_count": 2,
      "outputs": [
        {
          "output_type": "stream",
          "text": [
            "Mounted at /content/drive\n"
          ],
          "name": "stdout"
        }
      ]
    },
    {
      "cell_type": "code",
      "metadata": {
        "colab": {
          "base_uri": "https://localhost:8080/"
        },
        "id": "kbF9Zcb0Id8f",
        "outputId": "00b1b7d5-f44a-4c5c-f265-f6d8215bf3a5"
      },
      "source": [
        "!sudo pip3 install python-dotenv"
      ],
      "execution_count": 3,
      "outputs": [
        {
          "output_type": "stream",
          "text": [
            "Collecting python-dotenv\n",
            "  Downloading https://files.pythonhosted.org/packages/86/62/aacbd1489fc6026c9278e9fd5cfdd49c5b1b5375d3c97a624e8f8f999eb2/python_dotenv-0.17.0-py2.py3-none-any.whl\n",
            "Installing collected packages: python-dotenv\n",
            "Successfully installed python-dotenv-0.17.0\n"
          ],
          "name": "stdout"
        }
      ]
    },
    {
      "cell_type": "code",
      "metadata": {
        "colab": {
          "base_uri": "https://localhost:8080/"
        },
        "id": "TlVCjNsjONBz",
        "outputId": "f0335647-2854-41fa-ec58-4639b5fb3e66"
      },
      "source": [
        "!python /content/genre_classification/alexnet.py"
      ],
      "execution_count": 4,
      "outputs": [
        {
          "output_type": "stream",
          "text": [
            "2021-04-12 03:01:12.864442: I tensorflow/stream_executor/platform/default/dso_loader.cc:49] Successfully opened dynamic library libcudart.so.11.0\n",
            "['arr_0', 'arr_1']\n",
            "tcmalloc: large alloc 4190371840 bytes == 0x55d7d6f0a000 @  0x7fd8eb5e31e7 0x7fd8e8f5146e 0x7fd8e8fa1c7b 0x7fd8e8f54ce8 0x55d7d09f3c25 0x55d7d09b48e9 0x55d7d0a28ade 0x55d7d0a22b0e 0x55d7d09b577a 0x55d7d0a2486a 0x55d7d09b772b 0x55d7d09f85e9 0x55d7d09f855c 0x55d7d0a9be59 0x55d7d0a23fad 0x55d7d09b569a 0x55d7d0a23a45 0x55d7d0a22b0e 0x55d7d0a22813 0x55d7d0aec592 0x55d7d0aec90d 0x55d7d0aec7b6 0x55d7d0ac4103 0x55d7d0ac3dac 0x7fd8ea3cdbf7 0x55d7d0ac3c8a\n",
            "(6394, 640, 128) (6394, 8)\n",
            "['arr_0', 'arr_1']\n",
            "(800, 640, 128) (800, 8)\n",
            "['arr_0', 'arr_1']\n",
            "(800, 640, 128) (800,)\n",
            "Dataset split\n",
            "2021-04-12 03:02:59.454340: I tensorflow/compiler/jit/xla_cpu_device.cc:41] Not creating XLA devices, tf_xla_enable_xla_devices not set\n",
            "2021-04-12 03:02:59.467927: I tensorflow/stream_executor/platform/default/dso_loader.cc:49] Successfully opened dynamic library libcuda.so.1\n",
            "2021-04-12 03:02:59.606904: I tensorflow/stream_executor/cuda/cuda_gpu_executor.cc:941] successful NUMA node read from SysFS had negative value (-1), but there must be at least one NUMA node, so returning NUMA node zero\n",
            "2021-04-12 03:02:59.607587: I tensorflow/core/common_runtime/gpu/gpu_device.cc:1720] Found device 0 with properties: \n",
            "pciBusID: 0000:00:04.0 name: Tesla V100-SXM2-16GB computeCapability: 7.0\n",
            "coreClock: 1.53GHz coreCount: 80 deviceMemorySize: 15.78GiB deviceMemoryBandwidth: 836.37GiB/s\n",
            "2021-04-12 03:02:59.607658: I tensorflow/stream_executor/platform/default/dso_loader.cc:49] Successfully opened dynamic library libcudart.so.11.0\n",
            "2021-04-12 03:02:59.722921: I tensorflow/stream_executor/platform/default/dso_loader.cc:49] Successfully opened dynamic library libcublas.so.11\n",
            "2021-04-12 03:02:59.723114: I tensorflow/stream_executor/platform/default/dso_loader.cc:49] Successfully opened dynamic library libcublasLt.so.11\n",
            "2021-04-12 03:02:59.909328: I tensorflow/stream_executor/platform/default/dso_loader.cc:49] Successfully opened dynamic library libcufft.so.10\n",
            "2021-04-12 03:02:59.929245: I tensorflow/stream_executor/platform/default/dso_loader.cc:49] Successfully opened dynamic library libcurand.so.10\n",
            "2021-04-12 03:03:00.139634: I tensorflow/stream_executor/platform/default/dso_loader.cc:49] Successfully opened dynamic library libcusolver.so.10\n",
            "2021-04-12 03:03:00.158966: I tensorflow/stream_executor/platform/default/dso_loader.cc:49] Successfully opened dynamic library libcusparse.so.11\n",
            "2021-04-12 03:03:00.166886: I tensorflow/stream_executor/platform/default/dso_loader.cc:49] Successfully opened dynamic library libcudnn.so.8\n",
            "2021-04-12 03:03:00.167081: I tensorflow/stream_executor/cuda/cuda_gpu_executor.cc:941] successful NUMA node read from SysFS had negative value (-1), but there must be at least one NUMA node, so returning NUMA node zero\n",
            "2021-04-12 03:03:00.167798: I tensorflow/stream_executor/cuda/cuda_gpu_executor.cc:941] successful NUMA node read from SysFS had negative value (-1), but there must be at least one NUMA node, so returning NUMA node zero\n",
            "2021-04-12 03:03:00.171339: I tensorflow/core/common_runtime/gpu/gpu_device.cc:1862] Adding visible gpu devices: 0\n",
            "2021-04-12 03:03:00.172575: I tensorflow/core/platform/cpu_feature_guard.cc:142] This TensorFlow binary is optimized with oneAPI Deep Neural Network Library (oneDNN) to use the following CPU instructions in performance-critical operations:  AVX512F\n",
            "To enable them in other operations, rebuild TensorFlow with the appropriate compiler flags.\n",
            "2021-04-12 03:03:00.172757: I tensorflow/compiler/jit/xla_gpu_device.cc:99] Not creating XLA devices, tf_xla_enable_xla_devices not set\n",
            "2021-04-12 03:03:00.172916: I tensorflow/stream_executor/cuda/cuda_gpu_executor.cc:941] successful NUMA node read from SysFS had negative value (-1), but there must be at least one NUMA node, so returning NUMA node zero\n",
            "2021-04-12 03:03:00.173622: I tensorflow/core/common_runtime/gpu/gpu_device.cc:1720] Found device 0 with properties: \n",
            "pciBusID: 0000:00:04.0 name: Tesla V100-SXM2-16GB computeCapability: 7.0\n",
            "coreClock: 1.53GHz coreCount: 80 deviceMemorySize: 15.78GiB deviceMemoryBandwidth: 836.37GiB/s\n",
            "2021-04-12 03:03:00.173682: I tensorflow/stream_executor/platform/default/dso_loader.cc:49] Successfully opened dynamic library libcudart.so.11.0\n",
            "2021-04-12 03:03:00.173737: I tensorflow/stream_executor/platform/default/dso_loader.cc:49] Successfully opened dynamic library libcublas.so.11\n",
            "2021-04-12 03:03:00.173773: I tensorflow/stream_executor/platform/default/dso_loader.cc:49] Successfully opened dynamic library libcublasLt.so.11\n",
            "2021-04-12 03:03:00.173805: I tensorflow/stream_executor/platform/default/dso_loader.cc:49] Successfully opened dynamic library libcufft.so.10\n",
            "2021-04-12 03:03:00.173829: I tensorflow/stream_executor/platform/default/dso_loader.cc:49] Successfully opened dynamic library libcurand.so.10\n",
            "2021-04-12 03:03:00.173857: I tensorflow/stream_executor/platform/default/dso_loader.cc:49] Successfully opened dynamic library libcusolver.so.10\n",
            "2021-04-12 03:03:00.173884: I tensorflow/stream_executor/platform/default/dso_loader.cc:49] Successfully opened dynamic library libcusparse.so.11\n",
            "2021-04-12 03:03:00.173911: I tensorflow/stream_executor/platform/default/dso_loader.cc:49] Successfully opened dynamic library libcudnn.so.8\n",
            "2021-04-12 03:03:00.173994: I tensorflow/stream_executor/cuda/cuda_gpu_executor.cc:941] successful NUMA node read from SysFS had negative value (-1), but there must be at least one NUMA node, so returning NUMA node zero\n",
            "2021-04-12 03:03:00.174639: I tensorflow/stream_executor/cuda/cuda_gpu_executor.cc:941] successful NUMA node read from SysFS had negative value (-1), but there must be at least one NUMA node, so returning NUMA node zero\n",
            "2021-04-12 03:03:00.175279: I tensorflow/core/common_runtime/gpu/gpu_device.cc:1862] Adding visible gpu devices: 0\n",
            "2021-04-12 03:03:00.179410: I tensorflow/stream_executor/platform/default/dso_loader.cc:49] Successfully opened dynamic library libcudart.so.11.0\n",
            "2021-04-12 03:03:02.497606: I tensorflow/core/common_runtime/gpu/gpu_device.cc:1261] Device interconnect StreamExecutor with strength 1 edge matrix:\n",
            "2021-04-12 03:03:02.497666: I tensorflow/core/common_runtime/gpu/gpu_device.cc:1267]      0 \n",
            "2021-04-12 03:03:02.497681: I tensorflow/core/common_runtime/gpu/gpu_device.cc:1280] 0:   N \n",
            "2021-04-12 03:03:02.504180: I tensorflow/stream_executor/cuda/cuda_gpu_executor.cc:941] successful NUMA node read from SysFS had negative value (-1), but there must be at least one NUMA node, so returning NUMA node zero\n",
            "2021-04-12 03:03:02.505014: I tensorflow/stream_executor/cuda/cuda_gpu_executor.cc:941] successful NUMA node read from SysFS had negative value (-1), but there must be at least one NUMA node, so returning NUMA node zero\n",
            "2021-04-12 03:03:02.505728: I tensorflow/stream_executor/cuda/cuda_gpu_executor.cc:941] successful NUMA node read from SysFS had negative value (-1), but there must be at least one NUMA node, so returning NUMA node zero\n",
            "2021-04-12 03:03:02.506324: W tensorflow/core/common_runtime/gpu/gpu_bfc_allocator.cc:39] Overriding allow_growth setting because the TF_FORCE_GPU_ALLOW_GROWTH environment variable is set. Original config value was 0.\n",
            "2021-04-12 03:03:02.506383: I tensorflow/core/common_runtime/gpu/gpu_device.cc:1406] Created TensorFlow device (/job:localhost/replica:0/task:0/device:GPU:0 with 14786 MB memory) -> physical GPU (device: 0, name: Tesla V100-SXM2-16GB, pci bus id: 0000:00:04.0, compute capability: 7.0)\n",
            "Model: \"sequential\"\n",
            "_________________________________________________________________\n",
            "Layer (type)                 Output Shape              Param #   \n",
            "=================================================================\n",
            "conv2d (Conv2D)              (None, 64, 64, 96)        11712     \n",
            "_________________________________________________________________\n",
            "batch_normalization (BatchNo (None, 64, 64, 96)        384       \n",
            "_________________________________________________________________\n",
            "max_pooling2d (MaxPooling2D) (None, 32, 32, 96)        0         \n",
            "_________________________________________________________________\n",
            "conv2d_1 (Conv2D)            (None, 32, 32, 256)       614656    \n",
            "_________________________________________________________________\n",
            "batch_normalization_1 (Batch (None, 32, 32, 256)       1024      \n",
            "_________________________________________________________________\n",
            "max_pooling2d_1 (MaxPooling2 (None, 16, 16, 256)       0         \n",
            "_________________________________________________________________\n",
            "conv2d_2 (Conv2D)            (None, 16, 16, 384)       885120    \n",
            "_________________________________________________________________\n",
            "batch_normalization_2 (Batch (None, 16, 16, 384)       1536      \n",
            "_________________________________________________________________\n",
            "conv2d_3 (Conv2D)            (None, 16, 16, 384)       1327488   \n",
            "_________________________________________________________________\n",
            "batch_normalization_3 (Batch (None, 16, 16, 384)       1536      \n",
            "_________________________________________________________________\n",
            "conv2d_4 (Conv2D)            (None, 16, 16, 256)       884992    \n",
            "_________________________________________________________________\n",
            "batch_normalization_4 (Batch (None, 16, 16, 256)       1024      \n",
            "_________________________________________________________________\n",
            "max_pooling2d_2 (MaxPooling2 (None, 8, 8, 256)         0         \n",
            "_________________________________________________________________\n",
            "flatten (Flatten)            (None, 16384)             0         \n",
            "_________________________________________________________________\n",
            "dense (Dense)                (None, 4096)              67112960  \n",
            "_________________________________________________________________\n",
            "dropout (Dropout)            (None, 4096)              0         \n",
            "_________________________________________________________________\n",
            "dense_1 (Dense)              (None, 4096)              16781312  \n",
            "_________________________________________________________________\n",
            "dropout_1 (Dropout)          (None, 4096)              0         \n",
            "_________________________________________________________________\n",
            "dense_2 (Dense)              (None, 8)                 32776     \n",
            "=================================================================\n",
            "Total params: 87,656,520\n",
            "Trainable params: 87,653,768\n",
            "Non-trainable params: 2,752\n",
            "_________________________________________________________________\n",
            "None\n",
            "Model built\n",
            "Network compiled\n",
            "tcmalloc: large alloc 2095185920 bytes == 0x55d925cda000 @  0x7fd8eb5e31e7 0x7fd8e8f5146e 0x7fd8e8fa1c7b 0x7fd8e8fa1d97 0x7fd8e8fa1fe9 0x7fd8e8fa4d7d 0x7fd8a8b57b01 0x7fd8a8b01e10 0x7fd8a8b02c21 0x55d7d09f3c84 0x55d7d09b47f2 0x55d7d0a2863d 0x55d7d0a22b0e 0x55d7d09b577a 0x55d7d0a23a45 0x55d7d09b569a 0x55d7d0a23a45 0x55d7d0a22b0e 0x55d7d09b577a 0x55d7d0a2486a 0x55d7d0a22b0e 0x55d7d09b577a 0x55d7d0a2486a 0x55d7d0a22b0e 0x55d7d09b577a 0x55d7d0a2486a 0x55d7d0a22b0e 0x55d7d08f4e2b 0x55d7d0a251e6 0x55d7d0a22e0d 0x55d7d09b577a\n",
            "2021-04-12 03:03:04.825168: I tensorflow/compiler/mlir/mlir_graph_optimization_pass.cc:116] None of the MLIR optimization passes are enabled (registered 2)\n",
            "2021-04-12 03:03:04.836712: I tensorflow/core/platform/profile_utils/cpu_utils.cc:112] CPU Frequency: 2000134999 Hz\n",
            "Epoch 1/50\n",
            "2021-04-12 03:03:05.908217: I tensorflow/stream_executor/platform/default/dso_loader.cc:49] Successfully opened dynamic library libcublas.so.11\n",
            "2021-04-12 03:03:07.298935: I tensorflow/stream_executor/platform/default/dso_loader.cc:49] Successfully opened dynamic library libcublasLt.so.11\n",
            "2021-04-12 03:03:07.365646: I tensorflow/stream_executor/platform/default/dso_loader.cc:49] Successfully opened dynamic library libcudnn.so.8\n",
            "200/200 [==============================] - 24s 33ms/step - loss: 4.4107 - accuracy: 0.2303 - val_loss: 2.3814 - val_accuracy: 0.1975\n",
            "Epoch 2/50\n",
            "200/200 [==============================] - 5s 24ms/step - loss: 1.8669 - accuracy: 0.3522 - val_loss: 2.2515 - val_accuracy: 0.1975\n",
            "Epoch 3/50\n",
            "200/200 [==============================] - 5s 24ms/step - loss: 1.6393 - accuracy: 0.3977 - val_loss: 1.5922 - val_accuracy: 0.4375\n",
            "Epoch 4/50\n",
            "200/200 [==============================] - 5s 24ms/step - loss: 1.5965 - accuracy: 0.4261 - val_loss: 2.8251 - val_accuracy: 0.2013\n",
            "Epoch 5/50\n",
            "200/200 [==============================] - 5s 24ms/step - loss: 1.5538 - accuracy: 0.4579 - val_loss: 1.8977 - val_accuracy: 0.3625\n",
            "Epoch 6/50\n",
            "200/200 [==============================] - 5s 24ms/step - loss: 1.5415 - accuracy: 0.4525 - val_loss: 12.7163 - val_accuracy: 0.1013\n",
            "Epoch 7/50\n",
            "200/200 [==============================] - 5s 24ms/step - loss: 1.5397 - accuracy: 0.4659 - val_loss: 2.0239 - val_accuracy: 0.2850\n",
            "Epoch 8/50\n",
            "200/200 [==============================] - 5s 24ms/step - loss: 1.4990 - accuracy: 0.4837 - val_loss: 4.4110 - val_accuracy: 0.1425\n",
            "Epoch 9/50\n",
            "200/200 [==============================] - 5s 24ms/step - loss: 1.4399 - accuracy: 0.5015 - val_loss: 2.1701 - val_accuracy: 0.2325\n",
            "Epoch 10/50\n",
            "200/200 [==============================] - 5s 24ms/step - loss: 1.4446 - accuracy: 0.4984 - val_loss: 1.7037 - val_accuracy: 0.4013\n",
            "Epoch 11/50\n",
            "200/200 [==============================] - 5s 24ms/step - loss: 1.3668 - accuracy: 0.5241 - val_loss: 2.6961 - val_accuracy: 0.1925\n",
            "Epoch 12/50\n",
            "200/200 [==============================] - 5s 24ms/step - loss: 1.3531 - accuracy: 0.5361 - val_loss: 3.0684 - val_accuracy: 0.3013\n",
            "Epoch 13/50\n",
            "200/200 [==============================] - 5s 24ms/step - loss: 1.3402 - accuracy: 0.5377 - val_loss: 7.5343 - val_accuracy: 0.1262\n",
            "Epoch 14/50\n",
            "200/200 [==============================] - 5s 24ms/step - loss: 1.3335 - accuracy: 0.5306 - val_loss: 2.5893 - val_accuracy: 0.2700\n",
            "Epoch 15/50\n",
            "200/200 [==============================] - 5s 24ms/step - loss: 1.2791 - accuracy: 0.5535 - val_loss: 4.6686 - val_accuracy: 0.1562\n",
            "Epoch 16/50\n",
            "200/200 [==============================] - 5s 24ms/step - loss: 1.2549 - accuracy: 0.5729 - val_loss: 2.4214 - val_accuracy: 0.2525\n",
            "Epoch 17/50\n",
            "200/200 [==============================] - 5s 24ms/step - loss: 1.2278 - accuracy: 0.5699 - val_loss: 2.9842 - val_accuracy: 0.2488\n",
            "Epoch 18/50\n",
            "200/200 [==============================] - 5s 24ms/step - loss: 1.2382 - accuracy: 0.5743 - val_loss: 3.2235 - val_accuracy: 0.2438\n",
            "Epoch 19/50\n",
            "200/200 [==============================] - 5s 24ms/step - loss: 1.1877 - accuracy: 0.5948 - val_loss: 2.6059 - val_accuracy: 0.3237\n",
            "Epoch 20/50\n",
            "200/200 [==============================] - 5s 24ms/step - loss: 1.1284 - accuracy: 0.6021 - val_loss: 3.3671 - val_accuracy: 0.3050\n",
            "Epoch 21/50\n",
            "200/200 [==============================] - 5s 24ms/step - loss: 1.1294 - accuracy: 0.6155 - val_loss: 2.4391 - val_accuracy: 0.2663\n",
            "Epoch 22/50\n",
            "200/200 [==============================] - 5s 24ms/step - loss: 1.0983 - accuracy: 0.6250 - val_loss: 3.5866 - val_accuracy: 0.2300\n",
            "Epoch 23/50\n",
            "200/200 [==============================] - 5s 24ms/step - loss: 1.0686 - accuracy: 0.6301 - val_loss: 4.9823 - val_accuracy: 0.2113\n",
            "Epoch 24/50\n",
            "200/200 [==============================] - 5s 24ms/step - loss: 1.0140 - accuracy: 0.6463 - val_loss: 4.6514 - val_accuracy: 0.2075\n",
            "Epoch 25/50\n",
            "200/200 [==============================] - 5s 24ms/step - loss: 1.0105 - accuracy: 0.6413 - val_loss: 1.4882 - val_accuracy: 0.5288\n",
            "Epoch 26/50\n",
            "200/200 [==============================] - 5s 24ms/step - loss: 0.9811 - accuracy: 0.6619 - val_loss: 2.0513 - val_accuracy: 0.3638\n",
            "Epoch 27/50\n",
            "200/200 [==============================] - 5s 24ms/step - loss: 0.9253 - accuracy: 0.6702 - val_loss: 2.7593 - val_accuracy: 0.2950\n",
            "Epoch 28/50\n",
            "200/200 [==============================] - 5s 24ms/step - loss: 0.8889 - accuracy: 0.6879 - val_loss: 2.7487 - val_accuracy: 0.3262\n",
            "Epoch 29/50\n",
            "200/200 [==============================] - 5s 25ms/step - loss: 0.8642 - accuracy: 0.6927 - val_loss: 14.1141 - val_accuracy: 0.1850\n",
            "Epoch 30/50\n",
            "200/200 [==============================] - 5s 24ms/step - loss: 0.8036 - accuracy: 0.7176 - val_loss: 2.4513 - val_accuracy: 0.3400\n",
            "Epoch 31/50\n",
            "200/200 [==============================] - 5s 24ms/step - loss: 0.7779 - accuracy: 0.7244 - val_loss: 11.2276 - val_accuracy: 0.1475\n",
            "Epoch 32/50\n",
            "200/200 [==============================] - 5s 24ms/step - loss: 0.7339 - accuracy: 0.7382 - val_loss: 2.0928 - val_accuracy: 0.4038\n",
            "Epoch 33/50\n",
            "200/200 [==============================] - 5s 24ms/step - loss: 0.6848 - accuracy: 0.7640 - val_loss: 7.1880 - val_accuracy: 0.2050\n",
            "Epoch 34/50\n",
            "200/200 [==============================] - 5s 24ms/step - loss: 0.6472 - accuracy: 0.7707 - val_loss: 4.7996 - val_accuracy: 0.3313\n",
            "Epoch 35/50\n",
            "200/200 [==============================] - 5s 24ms/step - loss: 0.6399 - accuracy: 0.7821 - val_loss: 3.5198 - val_accuracy: 0.2587\n",
            "Epoch 36/50\n",
            "200/200 [==============================] - 5s 24ms/step - loss: 0.5922 - accuracy: 0.7948 - val_loss: 4.0439 - val_accuracy: 0.3038\n",
            "Epoch 37/50\n",
            "200/200 [==============================] - 5s 24ms/step - loss: 0.5677 - accuracy: 0.7983 - val_loss: 2.8170 - val_accuracy: 0.4000\n",
            "Epoch 38/50\n",
            "200/200 [==============================] - 5s 24ms/step - loss: 0.4970 - accuracy: 0.8281 - val_loss: 2.2057 - val_accuracy: 0.4450\n",
            "Epoch 39/50\n",
            "200/200 [==============================] - 5s 24ms/step - loss: 0.4813 - accuracy: 0.8358 - val_loss: 4.2832 - val_accuracy: 0.2937\n",
            "Epoch 40/50\n",
            "200/200 [==============================] - 5s 24ms/step - loss: 0.4173 - accuracy: 0.8565 - val_loss: 9.2071 - val_accuracy: 0.2212\n",
            "Epoch 41/50\n",
            "200/200 [==============================] - 5s 24ms/step - loss: 0.4078 - accuracy: 0.8547 - val_loss: 3.7436 - val_accuracy: 0.3900\n",
            "Epoch 42/50\n",
            "200/200 [==============================] - 5s 24ms/step - loss: 0.4103 - accuracy: 0.8562 - val_loss: 2.3154 - val_accuracy: 0.4050\n",
            "Epoch 43/50\n",
            "200/200 [==============================] - 5s 24ms/step - loss: 0.3597 - accuracy: 0.8729 - val_loss: 4.6004 - val_accuracy: 0.3413\n",
            "Epoch 44/50\n",
            "200/200 [==============================] - 5s 24ms/step - loss: 0.3402 - accuracy: 0.8860 - val_loss: 3.7444 - val_accuracy: 0.3725\n",
            "Epoch 45/50\n",
            "200/200 [==============================] - 5s 24ms/step - loss: 0.3310 - accuracy: 0.8823 - val_loss: 2.7355 - val_accuracy: 0.3688\n",
            "Epoch 46/50\n",
            "200/200 [==============================] - 5s 24ms/step - loss: 0.3078 - accuracy: 0.8971 - val_loss: 2.6051 - val_accuracy: 0.4625\n",
            "Epoch 47/50\n",
            "200/200 [==============================] - 5s 24ms/step - loss: 0.3112 - accuracy: 0.8975 - val_loss: 2.4772 - val_accuracy: 0.4613\n",
            "Epoch 48/50\n",
            "200/200 [==============================] - 5s 24ms/step - loss: 0.2439 - accuracy: 0.9192 - val_loss: 2.0872 - val_accuracy: 0.5050\n",
            "Epoch 49/50\n",
            "200/200 [==============================] - 5s 24ms/step - loss: 0.2698 - accuracy: 0.9106 - val_loss: 3.0929 - val_accuracy: 0.4638\n",
            "Epoch 50/50\n",
            "200/200 [==============================] - 5s 24ms/step - loss: 0.2628 - accuracy: 0.9153 - val_loss: 6.1991 - val_accuracy: 0.2850\n",
            "Network trained\n"
          ],
          "name": "stdout"
        }
      ]
    }
  ]
}
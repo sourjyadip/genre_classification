{
  "nbformat": 4,
  "nbformat_minor": 0,
  "metadata": {
    "colab": {
      "name": "genre_tripletloss.ipynb",
      "provenance": [],
      "machine_shape": "hm"
    },
    "kernelspec": {
      "name": "python3",
      "display_name": "Python 3"
    },
    "language_info": {
      "name": "python"
    },
    "accelerator": "GPU"
  },
  "cells": [
    {
      "cell_type": "code",
      "metadata": {
        "id": "H_wpO-Fec_8P",
        "colab": {
          "base_uri": "https://localhost:8080/"
        },
        "outputId": "a6a1435f-4d38-4fe0-d91e-deed26fb9c0c"
      },
      "source": [
        "from google.colab import drive\n",
        "drive.mount(\"/content/drive\")"
      ],
      "execution_count": 1,
      "outputs": [
        {
          "output_type": "stream",
          "text": [
            "Drive already mounted at /content/drive; to attempt to forcibly remount, call drive.mount(\"/content/drive\", force_remount=True).\n"
          ],
          "name": "stdout"
        }
      ]
    },
    {
      "cell_type": "code",
      "metadata": {
        "colab": {
          "base_uri": "https://localhost:8080/"
        },
        "id": "FWf3lfnByDoo",
        "outputId": "f44129e4-ca2a-4c4a-f3da-16ba3c43c027"
      },
      "source": [
        "!pip install tensorflow_addons"
      ],
      "execution_count": 2,
      "outputs": [
        {
          "output_type": "stream",
          "text": [
            "Requirement already satisfied: tensorflow_addons in /usr/local/lib/python3.7/dist-packages (0.13.0)\n",
            "Requirement already satisfied: typeguard>=2.7 in /usr/local/lib/python3.7/dist-packages (from tensorflow_addons) (2.7.1)\n"
          ],
          "name": "stdout"
        }
      ]
    },
    {
      "cell_type": "code",
      "metadata": {
        "id": "Kpk9QRbcdB-L"
      },
      "source": [
        "import random\n",
        "import numpy as np\n",
        "import matplotlib.pyplot as plt\n",
        "import tensorflow as tf\n",
        "import pandas as pd\n",
        "import random\n",
        "import tensorflow as tf\n",
        "from pathlib import Path\n",
        "from tensorflow.keras import applications\n",
        "from tensorflow.keras import layers\n",
        "from tensorflow.keras import losses\n",
        "from tensorflow.keras import optimizers\n",
        "from tensorflow.keras import metrics\n",
        "from tensorflow.keras import Model\n",
        "from tensorflow.keras.applications import resnet\n",
        "import tensorflow.keras.backend as K\n",
        "\n",
        "import tensorflow_addons as tfa\n"
      ],
      "execution_count": 3,
      "outputs": []
    },
    {
      "cell_type": "code",
      "metadata": {
        "id": "WqceoeqEdFBt"
      },
      "source": [
        "def prepare_datasets():\n",
        "    \n",
        "    npzfile = np.load('/content/drive/MyDrive/fma_mfcc/shuffled_train.npz') #change path\n",
        "    print(npzfile.files)\n",
        "    x_train = npzfile['arr_0']\n",
        "    y_train = npzfile['arr_1']\n",
        "    #x_validation = x_train[2001:5000]\n",
        "    #y_validation = y_train[2001:5000]\n",
        "    x_train = x_train[0:1000]\n",
        "    y_train = y_train[0:1000]\n",
        "    print(x_train.shape, y_train.shape)\n",
        "\n",
        "    npzfile = np.load('/content/drive/MyDrive/fma_mfcc/shuffled_valid.npz') #change path\n",
        "    print(npzfile.files)\n",
        "    x_validation = npzfile['arr_0']\n",
        "    y_validation = npzfile['arr_1']\n",
        "    \n",
        "    print(x_validation.shape, y_validation.shape)\n",
        "\n",
        "\n",
        "\n",
        "    #x_train = x_train[... , np.newaxis]\n",
        "    #x_validation = x_validation[... , np.newaxis]\n",
        "    #x_test = x_test[... , np.newaxis]\n",
        "    return x_train, x_validation, y_train, y_validation"
      ],
      "execution_count": 4,
      "outputs": []
    },
    {
      "cell_type": "code",
      "metadata": {
        "id": "HmateRJJdHld",
        "colab": {
          "base_uri": "https://localhost:8080/"
        },
        "outputId": "cd2f4d1d-b1f1-4740-c1b9-6f88847140fd"
      },
      "source": [
        "x_train, x_validation, y_train, y_validation = prepare_datasets()"
      ],
      "execution_count": 5,
      "outputs": [
        {
          "output_type": "stream",
          "text": [
            "['arr_0', 'arr_1']\n",
            "(1000, 10, 130, 13) (1000,)\n",
            "['arr_0', 'arr_1']\n",
            "(799, 10, 130, 13) (799,)\n"
          ],
          "name": "stdout"
        }
      ]
    },
    {
      "cell_type": "code",
      "metadata": {
        "id": "TtSW4EU9dKEL",
        "colab": {
          "base_uri": "https://localhost:8080/"
        },
        "outputId": "2b0999c0-fe7e-4a89-f3d3-a144ea578917"
      },
      "source": [
        "x_test ,  y_test =  x_validation, y_validation\n",
        "#x_train = x_train[... , np.newaxis]\n",
        "#x_test = x_test[... , np.newaxis]\n",
        "print('Training', x_train.shape, x_train.max())\n",
        "print('Testing', x_test.shape, x_test.max())"
      ],
      "execution_count": 6,
      "outputs": [
        {
          "output_type": "stream",
          "text": [
            "Training (1000, 10, 130, 13) 74.13542604597258\n",
            "Testing (799, 10, 130, 13) 71.31276365835367\n"
          ],
          "name": "stdout"
        }
      ]
    },
    {
      "cell_type": "code",
      "metadata": {
        "id": "eDKbyZXkdMlA",
        "colab": {
          "base_uri": "https://localhost:8080/"
        },
        "outputId": "350f4309-9377-4f55-d76b-204ba0f5cd92"
      },
      "source": [
        "'''\n",
        "Y_train = []\n",
        "Y_test = []\n",
        "for i in range(y_train.shape[0]):\n",
        "  index = tf.argmax(y_train[i], axis=0)\n",
        "  Y_train.append(index)\n",
        "y_train = np.array(Y_train)\n",
        "for i in range(y_test.shape[0]):\n",
        "  index = tf.argmax(y_test[i], axis=0)\n",
        "  Y_test.append(index)\n",
        "y_test = np.array(Y_test)\n",
        "print(y_train.shape, y_test.shape)\n",
        "'''\n",
        "print(y_train[2]) #check values"
      ],
      "execution_count": 7,
      "outputs": [
        {
          "output_type": "stream",
          "text": [
            "6\n"
          ],
          "name": "stdout"
        }
      ]
    },
    {
      "cell_type": "code",
      "metadata": {
        "id": "MYejJ0bYdQR1",
        "colab": {
          "base_uri": "https://localhost:8080/"
        },
        "outputId": "90026c92-dcb3-46a8-8157-0acebcd678d7"
      },
      "source": [
        "train_groups = [x_train[np.where(y_train==i)[0]] for i in np.unique(y_train)]\n",
        "test_groups = [x_test[np.where(y_test==i)[0]] for i in np.unique(y_train)]\n",
        "print('train groups:', [x.shape[0] for x in train_groups])\n",
        "print('test groups:', [x.shape[0] for x in test_groups])"
      ],
      "execution_count": 8,
      "outputs": [
        {
          "output_type": "stream",
          "text": [
            "train groups: [142, 111, 139, 119, 122, 109, 129, 129]\n",
            "test groups: [100, 100, 100, 100, 100, 99, 100, 100]\n"
          ],
          "name": "stdout"
        }
      ]
    },
    {
      "cell_type": "code",
      "metadata": {
        "id": "NNPwrRBkmzpo"
      },
      "source": [
        "IMG_SHAPE = (10, 130, 13)\n",
        "# specify the batch size and number of epochs\n",
        "BATCH_SIZE = 16\n",
        "EPOCHS = 50"
      ],
      "execution_count": 9,
      "outputs": []
    },
    {
      "cell_type": "code",
      "metadata": {
        "id": "KDk3a70EnKOR"
      },
      "source": [
        "def build_siamese_model(inputShape, embeddingDim=48):\n",
        "\t# specify the inputs for the feature extractor network\n",
        "\tinputs = layers.Input(inputShape)\n",
        "\t# define the first set of CONV => RELU => POOL => DROPOUT layers\n",
        "\tx = layers.Conv2D(256, (3, 3), padding=\"same\", activation=\"relu\")(inputs)\n",
        "\tx = layers.MaxPooling2D(pool_size=(2, 2), padding = 'same')(x)\n",
        "\tx = layers.Dropout(0.4)(x)\n",
        "\t# second set of CONV => RELU => POOL => DROPOUT layers\n",
        "\tx = layers.Conv2D(256, (3, 3), padding=\"same\", activation=\"relu\")(x)\n",
        "\tx = layers.MaxPooling2D(pool_size=(2,2), padding = 'same')(x)\n",
        "\tx = layers.Dropout(0.4)(x)\n",
        "  # third set of CONV => RELU => POOL => DROPOUT layers\n",
        "\tx = layers.Conv2D(128, (3, 3), padding=\"same\", activation=\"relu\")(x)\n",
        "\tx = layers.MaxPooling2D(pool_size=(2,2), padding = 'same')(x)\n",
        "\tx = layers.Dropout(0.4)(x)\n",
        "  # fourth set of CONV => RELU => POOL => DROPOUT layers\n",
        "\tx = layers.Conv2D(128, (3, 3), padding=\"same\", activation=\"relu\")(x)\n",
        "\tx = layers.MaxPooling2D(pool_size=(2,2), padding = 'same')(x)\n",
        "\tx = layers.Dropout(0.4)(x)\n",
        " \t# prepare the final outputs\n",
        "\tx = layers.Flatten()(x)\n",
        "\t#pooledOutput = layers.GlobalAveragePooling2D()(x)\n",
        "\toutputs = layers.Dense(embeddingDim)(x)\n",
        "\t# build the model\n",
        "\tmodel = Model(inputs, outputs)\n",
        "\t# return the model to the calling function\n",
        "\treturn model"
      ],
      "execution_count": 10,
      "outputs": []
    },
    {
      "cell_type": "code",
      "metadata": {
        "id": "jF-i7xj4nghT"
      },
      "source": [
        "def make_pairs(images, labels):\n",
        "\t# initialize two empty lists to hold the (image, image) pairs and\n",
        "\t# labels to indicate if a pair is positive or negative\n",
        "\tpairImages = []\n",
        "\tpairLabels = []\n",
        "\t# calculate the total number of classes present in the dataset\n",
        "\t# and then build a list of indexes for each class label that\n",
        "\t# provides the indexes for all examples with a given label\n",
        "\tnumClasses = len(np.unique(labels))\n",
        "\tidx = [np.where(labels == i)[0] for i in range(0, numClasses)]\n",
        "\t# loop over all images\n",
        "\tfor idxA in range(len(images)):\n",
        "\t\t# grab the current image and label belonging to the current\n",
        "\t\t# iteration\n",
        "\t\tcurrentImage = images[idxA]\n",
        "\t\tlabel = labels[idxA]\n",
        "\t\t# randomly pick an image that belongs to the *same* class\n",
        "\t\t# label\n",
        "\t\tidxB = np.random.choice(idx[label])\n",
        "\t\tposImage = images[idxB]\n",
        "\t\t# prepare a positive pair and update the images and labels\n",
        "\t\t# lists, respectively\n",
        "\t\tpairImages.append([currentImage, posImage])\n",
        "\t\tpairLabels.append([1])\n",
        "\t\t# grab the indices for each of the class labels *not* equal to\n",
        "\t\t# the current label and randomly pick an image corresponding\n",
        "\t\t# to a label *not* equal to the current label\n",
        "\t\tnegIdx = np.where(labels != label)[0]\n",
        "\t\tnegImage = images[np.random.choice(negIdx)]\n",
        "\t\t# prepare a negative pair of images and update our lists\n",
        "\t\tpairImages.append([currentImage, negImage])\n",
        "\t\tpairLabels.append([0])\n",
        "\t# return a 2-tuple of our image pairs and labels\n",
        "\treturn (np.array(pairImages), np.array(pairLabels))"
      ],
      "execution_count": 11,
      "outputs": []
    },
    {
      "cell_type": "code",
      "metadata": {
        "id": "NY-MwuE1oJbt"
      },
      "source": [
        "def euclidean_distance(vectors):\n",
        "\t# unpack the vectors into separate lists\n",
        "\t(featsA, featsB) = vectors\n",
        "\t# compute the sum of squared distances between the vectors\n",
        "\tsumSquared = K.sum(K.square(featsA - featsB), axis=1,\n",
        "\t\tkeepdims=True)\n",
        "\t# return the euclidean distance between the vectors\n",
        "\treturn K.sqrt(K.maximum(sumSquared, K.epsilon()))\n",
        "\n"
      ],
      "execution_count": 12,
      "outputs": []
    },
    {
      "cell_type": "code",
      "metadata": {
        "id": "4jI8HKIloKFi"
      },
      "source": [
        "def plot_training(H):\n",
        "\t# construct a plot that plots and saves the training history\n",
        "\tplt.style.use(\"ggplot\")\n",
        "\tplt.figure()\n",
        "\tplt.plot(H.history[\"loss\"], label=\"train_loss\")\n",
        "\tplt.plot(H.history[\"val_loss\"], label=\"val_loss\")\n",
        "\tplt.plot(H.history[\"accuracy\"], label=\"train_acc\")\n",
        "\tplt.plot(H.history[\"val_accuracy\"], label=\"val_acc\")\n",
        "\tplt.title(\"Training Loss and Accuracy\")\n",
        "\tplt.xlabel(\"Epoch #\")\n",
        "\tplt.ylabel(\"Loss/Accuracy\")\n",
        "\tplt.legend(loc=\"lower left\")"
      ],
      "execution_count": 13,
      "outputs": []
    },
    {
      "cell_type": "code",
      "metadata": {
        "colab": {
          "base_uri": "https://localhost:8080/"
        },
        "id": "bvvjRiNiocGp",
        "outputId": "1b329e62-8e1b-44f5-aaf8-44ba81dcbaf7"
      },
      "source": [
        "print(\"preparing positive and negative pairs...\")\n",
        "(pairTrain, labelTrain) = make_pairs(x_train, y_train)\n",
        "(pairTest, labelTest) = make_pairs(x_test, y_test)"
      ],
      "execution_count": 14,
      "outputs": [
        {
          "output_type": "stream",
          "text": [
            "preparing positive and negative pairs...\n"
          ],
          "name": "stdout"
        }
      ]
    },
    {
      "cell_type": "code",
      "metadata": {
        "colab": {
          "base_uri": "https://localhost:8080/"
        },
        "id": "RY9a8vuvozh7",
        "outputId": "4fd70d22-4841-4838-e7f7-9045eaf7c01e"
      },
      "source": [
        "print(\"building siamese network...\")\n",
        "imgA = layers.Input(shape=IMG_SHAPE)\n",
        "imgB = layers.Input(shape=IMG_SHAPE)\n",
        "featureExtractor = build_siamese_model(IMG_SHAPE)\n",
        "featsA = featureExtractor(imgA)\n",
        "featsB = featureExtractor(imgB)\n",
        "featureExtractor.summary()"
      ],
      "execution_count": 15,
      "outputs": [
        {
          "output_type": "stream",
          "text": [
            "building siamese network...\n",
            "Model: \"model\"\n",
            "_________________________________________________________________\n",
            "Layer (type)                 Output Shape              Param #   \n",
            "=================================================================\n",
            "input_3 (InputLayer)         [(None, 10, 130, 13)]     0         \n",
            "_________________________________________________________________\n",
            "conv2d (Conv2D)              (None, 10, 130, 256)      30208     \n",
            "_________________________________________________________________\n",
            "max_pooling2d (MaxPooling2D) (None, 5, 65, 256)        0         \n",
            "_________________________________________________________________\n",
            "dropout (Dropout)            (None, 5, 65, 256)        0         \n",
            "_________________________________________________________________\n",
            "conv2d_1 (Conv2D)            (None, 5, 65, 256)        590080    \n",
            "_________________________________________________________________\n",
            "max_pooling2d_1 (MaxPooling2 (None, 3, 33, 256)        0         \n",
            "_________________________________________________________________\n",
            "dropout_1 (Dropout)          (None, 3, 33, 256)        0         \n",
            "_________________________________________________________________\n",
            "conv2d_2 (Conv2D)            (None, 3, 33, 128)        295040    \n",
            "_________________________________________________________________\n",
            "max_pooling2d_2 (MaxPooling2 (None, 2, 17, 128)        0         \n",
            "_________________________________________________________________\n",
            "dropout_2 (Dropout)          (None, 2, 17, 128)        0         \n",
            "_________________________________________________________________\n",
            "conv2d_3 (Conv2D)            (None, 2, 17, 128)        147584    \n",
            "_________________________________________________________________\n",
            "max_pooling2d_3 (MaxPooling2 (None, 1, 9, 128)         0         \n",
            "_________________________________________________________________\n",
            "dropout_3 (Dropout)          (None, 1, 9, 128)         0         \n",
            "_________________________________________________________________\n",
            "flatten (Flatten)            (None, 1152)              0         \n",
            "_________________________________________________________________\n",
            "dense (Dense)                (None, 48)                55344     \n",
            "=================================================================\n",
            "Total params: 1,118,256\n",
            "Trainable params: 1,118,256\n",
            "Non-trainable params: 0\n",
            "_________________________________________________________________\n"
          ],
          "name": "stdout"
        }
      ]
    },
    {
      "cell_type": "code",
      "metadata": {
        "id": "gW81x7d5o3SW"
      },
      "source": [
        "#distance = layers.Lambda(euclidean_distance)([featsA, featsB])\n",
        "combined = layers.concatenate([featsA, featsB])\n",
        "combined = layers.Dense(64, activation = 'relu')(combined)\n",
        "combined = layers.BatchNormalization()(combined)\n",
        "combined = layers.Dense(32, activation = 'relu')(combined)\n",
        "combined = layers.BatchNormalization()(combined)\n",
        "combined = layers.Dense(16, activation = 'relu')(combined)\n",
        "combined = layers.BatchNormalization()(combined)\n",
        "outputs = layers.Dense(1, activation=\"sigmoid\")(combined)\n",
        "model = Model(inputs=[imgA, imgB], outputs=outputs)"
      ],
      "execution_count": 16,
      "outputs": []
    },
    {
      "cell_type": "code",
      "metadata": {
        "colab": {
          "base_uri": "https://localhost:8080/"
        },
        "id": "wDCZSyhwJE5L",
        "outputId": "e38763f6-10d1-4dca-d022-53775ba1f890"
      },
      "source": [
        "import gc\n",
        "\n",
        "del x_train\n",
        "del x_test\n",
        "del y_train\n",
        "del y_test\n",
        "gc.collect()"
      ],
      "execution_count": 17,
      "outputs": [
        {
          "output_type": "execute_result",
          "data": {
            "text/plain": [
              "1648"
            ]
          },
          "metadata": {
            "tags": []
          },
          "execution_count": 17
        }
      ]
    },
    {
      "cell_type": "code",
      "metadata": {
        "colab": {
          "base_uri": "https://localhost:8080/"
        },
        "id": "Ltw0Ey-XpFMR",
        "outputId": "0fb25672-2bb4-414f-f067-df0fed008fe1"
      },
      "source": [
        "\n",
        "#model.compile(loss=tfa.losses.TripletSemiHardLoss(), optimizer='adam',metrics=['accuracy'])\n",
        "model.compile(loss='binary_crossentropy', optimizer='adam',metrics=['accuracy'])\n",
        "# train the model\n",
        "print(\"training model...\")\n",
        "history = model.fit(\n",
        "\t[pairTrain[:, 0], pairTrain[:, 1]], labelTrain[:],\n",
        "\tvalidation_data=([pairTest[:, 0], pairTest[:, 1]], labelTest[:]),\n",
        "\tbatch_size=BATCH_SIZE, \n",
        "\tepochs=EPOCHS, shuffle = True)"
      ],
      "execution_count": 18,
      "outputs": [
        {
          "output_type": "stream",
          "text": [
            "training model...\n",
            "Epoch 1/50\n",
            "125/125 [==============================] - 4s 18ms/step - loss: 0.7758 - accuracy: 0.5135 - val_loss: 0.7263 - val_accuracy: 0.4887\n",
            "Epoch 2/50\n",
            "125/125 [==============================] - 2s 15ms/step - loss: 0.7314 - accuracy: 0.5035 - val_loss: 0.8634 - val_accuracy: 0.5150\n",
            "Epoch 3/50\n",
            "125/125 [==============================] - 2s 14ms/step - loss: 0.7094 - accuracy: 0.5065 - val_loss: 0.7685 - val_accuracy: 0.5332\n",
            "Epoch 4/50\n",
            "125/125 [==============================] - 2s 14ms/step - loss: 0.6949 - accuracy: 0.5330 - val_loss: 0.6853 - val_accuracy: 0.5651\n",
            "Epoch 5/50\n",
            "125/125 [==============================] - 2s 14ms/step - loss: 0.6910 - accuracy: 0.5345 - val_loss: 0.6831 - val_accuracy: 0.5569\n",
            "Epoch 6/50\n",
            "125/125 [==============================] - 2s 14ms/step - loss: 0.6900 - accuracy: 0.5325 - val_loss: 0.6900 - val_accuracy: 0.5401\n",
            "Epoch 7/50\n",
            "125/125 [==============================] - 2s 14ms/step - loss: 0.6877 - accuracy: 0.5360 - val_loss: 0.6780 - val_accuracy: 0.5663\n",
            "Epoch 8/50\n",
            "125/125 [==============================] - 2s 14ms/step - loss: 0.6887 - accuracy: 0.5490 - val_loss: 0.6824 - val_accuracy: 0.5476\n",
            "Epoch 9/50\n",
            "125/125 [==============================] - 2s 14ms/step - loss: 0.6860 - accuracy: 0.5430 - val_loss: 0.6793 - val_accuracy: 0.5820\n",
            "Epoch 10/50\n",
            "125/125 [==============================] - 2s 14ms/step - loss: 0.6828 - accuracy: 0.5640 - val_loss: 0.6818 - val_accuracy: 0.5582\n",
            "Epoch 11/50\n",
            "125/125 [==============================] - 2s 14ms/step - loss: 0.6806 - accuracy: 0.5795 - val_loss: 0.7098 - val_accuracy: 0.5144\n",
            "Epoch 12/50\n",
            "125/125 [==============================] - 2s 14ms/step - loss: 0.6841 - accuracy: 0.5545 - val_loss: 0.6837 - val_accuracy: 0.5563\n",
            "Epoch 13/50\n",
            "125/125 [==============================] - 2s 14ms/step - loss: 0.6848 - accuracy: 0.5610 - val_loss: 0.6887 - val_accuracy: 0.5438\n",
            "Epoch 14/50\n",
            "125/125 [==============================] - 2s 14ms/step - loss: 0.6824 - accuracy: 0.5630 - val_loss: 0.6872 - val_accuracy: 0.5438\n",
            "Epoch 15/50\n",
            "125/125 [==============================] - 2s 14ms/step - loss: 0.6792 - accuracy: 0.5745 - val_loss: 0.6862 - val_accuracy: 0.5413\n",
            "Epoch 16/50\n",
            "125/125 [==============================] - 2s 14ms/step - loss: 0.6841 - accuracy: 0.5560 - val_loss: 0.6803 - val_accuracy: 0.5682\n",
            "Epoch 17/50\n",
            "125/125 [==============================] - 2s 14ms/step - loss: 0.6801 - accuracy: 0.5685 - val_loss: 0.7098 - val_accuracy: 0.5194\n",
            "Epoch 18/50\n",
            "125/125 [==============================] - 2s 14ms/step - loss: 0.6786 - accuracy: 0.5870 - val_loss: 0.6922 - val_accuracy: 0.5494\n",
            "Epoch 19/50\n",
            "125/125 [==============================] - 2s 14ms/step - loss: 0.6796 - accuracy: 0.5620 - val_loss: 0.6899 - val_accuracy: 0.5401\n",
            "Epoch 20/50\n",
            "125/125 [==============================] - 2s 14ms/step - loss: 0.6831 - accuracy: 0.5595 - val_loss: 0.6965 - val_accuracy: 0.5407\n",
            "Epoch 21/50\n",
            "125/125 [==============================] - 2s 14ms/step - loss: 0.6880 - accuracy: 0.5465 - val_loss: 0.6836 - val_accuracy: 0.5507\n",
            "Epoch 22/50\n",
            "125/125 [==============================] - 2s 14ms/step - loss: 0.6855 - accuracy: 0.5565 - val_loss: 0.6879 - val_accuracy: 0.5444\n",
            "Epoch 23/50\n",
            "125/125 [==============================] - 2s 14ms/step - loss: 0.6815 - accuracy: 0.5620 - val_loss: 0.6885 - val_accuracy: 0.5357\n",
            "Epoch 24/50\n",
            "125/125 [==============================] - 2s 14ms/step - loss: 0.6825 - accuracy: 0.5610 - val_loss: 0.6817 - val_accuracy: 0.5482\n",
            "Epoch 25/50\n",
            "125/125 [==============================] - 2s 14ms/step - loss: 0.6786 - accuracy: 0.5715 - val_loss: 0.6822 - val_accuracy: 0.5676\n",
            "Epoch 26/50\n",
            "125/125 [==============================] - 2s 14ms/step - loss: 0.6789 - accuracy: 0.5660 - val_loss: 0.6874 - val_accuracy: 0.5344\n",
            "Epoch 27/50\n",
            "125/125 [==============================] - 2s 14ms/step - loss: 0.6799 - accuracy: 0.5730 - val_loss: 0.6762 - val_accuracy: 0.5757\n",
            "Epoch 28/50\n",
            "125/125 [==============================] - 2s 14ms/step - loss: 0.6760 - accuracy: 0.5705 - val_loss: 0.6812 - val_accuracy: 0.5563\n",
            "Epoch 29/50\n",
            "125/125 [==============================] - 2s 14ms/step - loss: 0.6749 - accuracy: 0.5825 - val_loss: 0.7039 - val_accuracy: 0.5081\n",
            "Epoch 30/50\n",
            "125/125 [==============================] - 2s 14ms/step - loss: 0.6750 - accuracy: 0.5690 - val_loss: 0.6802 - val_accuracy: 0.5707\n",
            "Epoch 31/50\n",
            "125/125 [==============================] - 2s 14ms/step - loss: 0.6738 - accuracy: 0.5930 - val_loss: 0.6850 - val_accuracy: 0.5557\n",
            "Epoch 32/50\n",
            "125/125 [==============================] - 2s 14ms/step - loss: 0.6714 - accuracy: 0.5830 - val_loss: 0.6759 - val_accuracy: 0.5820\n",
            "Epoch 33/50\n",
            "125/125 [==============================] - 2s 14ms/step - loss: 0.6753 - accuracy: 0.5880 - val_loss: 0.6927 - val_accuracy: 0.5275\n",
            "Epoch 34/50\n",
            "125/125 [==============================] - 2s 14ms/step - loss: 0.6787 - accuracy: 0.5715 - val_loss: 0.6783 - val_accuracy: 0.5801\n",
            "Epoch 35/50\n",
            "125/125 [==============================] - 2s 14ms/step - loss: 0.6677 - accuracy: 0.5935 - val_loss: 0.6760 - val_accuracy: 0.5907\n",
            "Epoch 36/50\n",
            "125/125 [==============================] - 2s 14ms/step - loss: 0.6764 - accuracy: 0.5780 - val_loss: 0.6868 - val_accuracy: 0.5544\n",
            "Epoch 37/50\n",
            "125/125 [==============================] - 2s 14ms/step - loss: 0.6695 - accuracy: 0.5910 - val_loss: 0.6882 - val_accuracy: 0.5369\n",
            "Epoch 38/50\n",
            "125/125 [==============================] - 2s 14ms/step - loss: 0.6697 - accuracy: 0.5855 - val_loss: 0.6969 - val_accuracy: 0.5469\n",
            "Epoch 39/50\n",
            "125/125 [==============================] - 2s 14ms/step - loss: 0.6683 - accuracy: 0.5960 - val_loss: 0.6835 - val_accuracy: 0.5519\n",
            "Epoch 40/50\n",
            "125/125 [==============================] - 2s 14ms/step - loss: 0.6641 - accuracy: 0.6125 - val_loss: 0.6902 - val_accuracy: 0.5663\n",
            "Epoch 41/50\n",
            "125/125 [==============================] - 2s 14ms/step - loss: 0.6717 - accuracy: 0.5790 - val_loss: 0.6783 - val_accuracy: 0.5763\n",
            "Epoch 42/50\n",
            "125/125 [==============================] - 2s 14ms/step - loss: 0.6811 - accuracy: 0.5600 - val_loss: 0.6938 - val_accuracy: 0.5338\n",
            "Epoch 43/50\n",
            "125/125 [==============================] - 2s 14ms/step - loss: 0.6830 - accuracy: 0.5555 - val_loss: 0.6763 - val_accuracy: 0.5757\n",
            "Epoch 44/50\n",
            "125/125 [==============================] - 2s 14ms/step - loss: 0.6740 - accuracy: 0.5775 - val_loss: 0.7064 - val_accuracy: 0.5225\n",
            "Epoch 45/50\n",
            "125/125 [==============================] - 2s 14ms/step - loss: 0.6699 - accuracy: 0.5895 - val_loss: 0.7080 - val_accuracy: 0.5207\n",
            "Epoch 46/50\n",
            "125/125 [==============================] - 2s 14ms/step - loss: 0.6660 - accuracy: 0.6010 - val_loss: 0.6729 - val_accuracy: 0.5864\n",
            "Epoch 47/50\n",
            "125/125 [==============================] - 2s 14ms/step - loss: 0.6691 - accuracy: 0.5880 - val_loss: 0.7010 - val_accuracy: 0.5494\n",
            "Epoch 48/50\n",
            "125/125 [==============================] - 2s 14ms/step - loss: 0.6640 - accuracy: 0.6060 - val_loss: 0.7356 - val_accuracy: 0.5125\n",
            "Epoch 49/50\n",
            "125/125 [==============================] - 2s 14ms/step - loss: 0.6601 - accuracy: 0.6075 - val_loss: 0.6946 - val_accuracy: 0.5563\n",
            "Epoch 50/50\n",
            "125/125 [==============================] - 2s 14ms/step - loss: 0.6639 - accuracy: 0.6000 - val_loss: 0.6801 - val_accuracy: 0.5839\n"
          ],
          "name": "stdout"
        }
      ]
    },
    {
      "cell_type": "code",
      "metadata": {
        "colab": {
          "base_uri": "https://localhost:8080/",
          "height": 299
        },
        "id": "jPKz_HhTpPBi",
        "outputId": "73045403-db82-427d-e22d-bb8b457b0187"
      },
      "source": [
        "plot_training(history)"
      ],
      "execution_count": 19,
      "outputs": [
        {
          "output_type": "display_data",
          "data": {
            "image/png": "[encoded data removed]",
            "text/plain": [
              "<Figure size 432x288 with 1 Axes>"
            ]
          },
          "metadata": {
            "tags": []
          }
        }
      ]
    }
  ]
}
{
  "nbformat": 4,
  "nbformat_minor": 0,
  "metadata": {
    "colab": {
      "name": "genre_siamese.ipynb",
      "provenance": [],
      "machine_shape": "hm"
    },
    "kernelspec": {
      "name": "python3",
      "display_name": "Python 3"
    },
    "language_info": {
      "name": "python"
    },
    "accelerator": "GPU"
  },
  "cells": [
    {
      "cell_type": "code",
      "metadata": {
        "colab": {
          "base_uri": "https://localhost:8080/"
        },
        "id": "oNXxaMb8rN5R",
        "outputId": "f3651db7-c684-4ca9-81c9-b03ddb794409"
      },
      "source": [
        "from google.colab import drive\n",
        "drive.mount(\"/content/drive\")"
      ],
      "execution_count": 1,
      "outputs": [
        {
          "output_type": "stream",
          "text": [
            "Mounted at /content/drive\n"
          ],
          "name": "stdout"
        }
      ]
    },
    {
      "cell_type": "code",
      "metadata": {
        "id": "IptnkqufqT4K"
      },
      "source": [
        "import random\n",
        "import numpy as np\n",
        "import keras\n",
        "from keras.models import Sequential, Model\n",
        "from keras.layers import Flatten, Dense, Concatenate, Dot, Lambda, Input\n",
        "from keras.optimizers import Adam\n",
        "import matplotlib.pyplot as plt\n",
        "import tensorflow as tf\n",
        "import pandas as pd\n",
        "from keras.preprocessing.image import ImageDataGenerator\n",
        "from keras.utils.np_utils import to_categorical"
      ],
      "execution_count": 1,
      "outputs": []
    },
    {
      "cell_type": "code",
      "metadata": {
        "id": "HdDA9o5jrq1o"
      },
      "source": [
        "def prepare_datasets():\n",
        "    \n",
        "    npzfile = np.load('/content/drive/MyDrive/fma_mfcc/shuffled_train.npz') #change path\n",
        "    print(npzfile.files)\n",
        "    x_train = npzfile['arr_0']\n",
        "    y_train = npzfile['arr_1']\n",
        "    x_train = x_train[0:1000]\n",
        "    y_train = y_train[0:1000]\n",
        "    print(x_train.shape, y_train.shape)\n",
        "\n",
        "    npzfile = np.load('/content/drive/MyDrive/fma_mfcc/shuffled_valid.npz') #change path\n",
        "    print(npzfile.files)\n",
        "    x_validation = npzfile['arr_0']\n",
        "    y_validation = npzfile['arr_1']\n",
        "    print(x_validation.shape, y_validation.shape)\n",
        "\n",
        "\n",
        "\n",
        "    #x_train = x_train[... , np.newaxis]\n",
        "    #x_validation = x_validation[... , np.newaxis]\n",
        "    #x_test = x_test[... , np.newaxis]\n",
        "    return x_train, x_validation, y_train, y_validation\n"
      ],
      "execution_count": 2,
      "outputs": []
    },
    {
      "cell_type": "code",
      "metadata": {
        "colab": {
          "base_uri": "https://localhost:8080/"
        },
        "id": "Mw3nXGMzr3Mj",
        "outputId": "54be2b0b-340b-428e-dd21-ce519cebbcc0"
      },
      "source": [
        "x_train, x_validation, y_train, y_validation = prepare_datasets()"
      ],
      "execution_count": 3,
      "outputs": [
        {
          "output_type": "stream",
          "text": [
            "['arr_0', 'arr_1']\n",
            "(1000, 10, 130, 13) (1000,)\n",
            "['arr_0', 'arr_1']\n",
            "(799, 10, 130, 13) (799,)\n"
          ],
          "name": "stdout"
        }
      ]
    },
    {
      "cell_type": "code",
      "metadata": {
        "colab": {
          "base_uri": "https://localhost:8080/"
        },
        "id": "OAM34YWYbuI9",
        "outputId": "ea2ba0cf-4b0b-4161-d763-b7d36284a613"
      },
      "source": [
        "x_test ,  y_test =  x_validation, y_validation\n",
        "#x_train = x_train[... , np.newaxis]\n",
        "#x_test = x_test[... , np.newaxis]\n",
        "print('Training', x_train.shape, x_train.max())\n",
        "print('Testing', x_test.shape, x_test.max())\n"
      ],
      "execution_count": 4,
      "outputs": [
        {
          "output_type": "stream",
          "text": [
            "Training (1000, 10, 130, 13) 74.13542604597258\n",
            "Testing (799, 10, 130, 13) 71.31276365835367\n"
          ],
          "name": "stdout"
        }
      ]
    },
    {
      "cell_type": "code",
      "metadata": {
        "colab": {
          "base_uri": "https://localhost:8080/"
        },
        "id": "SntLGP74d6yK",
        "outputId": "7d81baa7-3c5e-4c8b-ee9a-345ef1dd7444"
      },
      "source": [
        "'''\n",
        "Y_train = []\n",
        "Y_test = []\n",
        "for i in range(y_train.shape[0]):\n",
        "  index = tf.argmax(y_train[i], axis=0)\n",
        "  Y_train.append(index)\n",
        "y_train = np.array(Y_train)\n",
        "for i in range(y_test.shape[0]):\n",
        "  index = tf.argmax(y_test[i], axis=0)\n",
        "  Y_test.append(index)\n",
        "y_test = np.array(Y_test)\n",
        "print(y_train.shape, y_test.shape)\n",
        "'''\n",
        "print(y_train[2]) #check values"
      ],
      "execution_count": 5,
      "outputs": [
        {
          "output_type": "stream",
          "text": [
            "6\n"
          ],
          "name": "stdout"
        }
      ]
    },
    {
      "cell_type": "code",
      "metadata": {
        "colab": {
          "base_uri": "https://localhost:8080/"
        },
        "id": "Bx8T6St4dBVq",
        "outputId": "203e86c4-52e9-48b4-84d8-b180256189df"
      },
      "source": [
        "train_groups = [x_train[np.where(y_train==i)[0]] for i in np.unique(y_train)]\n",
        "test_groups = [x_test[np.where(y_test==i)[0]] for i in np.unique(y_train)]\n",
        "print('train groups:', [x.shape[0] for x in train_groups])\n",
        "print('test groups:', [x.shape[0] for x in test_groups])"
      ],
      "execution_count": 6,
      "outputs": [
        {
          "output_type": "stream",
          "text": [
            "train groups: [142, 111, 139, 119, 122, 109, 129, 129]\n",
            "test groups: [100, 100, 100, 100, 100, 99, 100, 100]\n"
          ],
          "name": "stdout"
        }
      ]
    },
    {
      "cell_type": "code",
      "metadata": {
        "id": "o-0B6A4ggGjh"
      },
      "source": [
        "def gen_random_batch(in_groups, batch_halfsize = 8):\n",
        "    out_img_a, out_img_b, out_score = [], [], []\n",
        "    all_groups = list(range(len(in_groups)))\n",
        "    for match_group in [True, False]:\n",
        "        group_idx = np.random.choice(all_groups, size = batch_halfsize)\n",
        "        out_img_a += [in_groups[c_idx][np.random.choice(range(in_groups[c_idx].shape[0]))] for c_idx in group_idx]\n",
        "        if match_group:\n",
        "            b_group_idx = group_idx\n",
        "            out_score += [1]*batch_halfsize\n",
        "        else:\n",
        "            # anything but the same group\n",
        "            non_group_idx = [np.random.choice([i for i in all_groups if i!=c_idx]) for c_idx in group_idx] \n",
        "            b_group_idx = non_group_idx\n",
        "            out_score += [0]*batch_halfsize\n",
        "            \n",
        "        out_img_b += [in_groups[c_idx][np.random.choice(range(in_groups[c_idx].shape[0]))] for c_idx in b_group_idx]\n",
        "            \n",
        "    return np.stack(out_img_a,0), np.stack(out_img_b,0), np.stack(out_score,0)\n",
        "    \n",
        "pv_a, pv_b, pv_sim = gen_random_batch(train_groups, 3)"
      ],
      "execution_count": 7,
      "outputs": []
    },
    {
      "cell_type": "code",
      "metadata": {
        "colab": {
          "base_uri": "https://localhost:8080/"
        },
        "id": "vFOStct_ge1M",
        "outputId": "f90648fe-c973-4ffd-e4ef-7cc994cdc765"
      },
      "source": [
        "#from kaggle notebook https://www.kaggle.com/kmader/image-similarity-with-siamese-networks\n",
        "from keras.models import Model\n",
        "from keras.layers import Input, Conv2D, BatchNormalization, MaxPool2D, Activation, Flatten, Dense, Dropout\n",
        "img_in = Input(shape = x_train.shape[1:], name = 'FeatureNet_ImageInput')\n",
        "n_layer = img_in\n",
        "'''\n",
        "n_layer = Conv2D(128, kernel_size = (4,4), activation = 'relu')(n_layer)\n",
        "n_layer = MaxPool2D((2,2))(n_layer)\n",
        "n_layer = Conv2D(128, kernel_size = (1,1), activation = 'relu')(n_layer)\n",
        "n_layer = MaxPool2D((1,1))(n_layer)\n",
        "n_layer = Conv2D(256, kernel_size = (1,1), activation = 'relu')(n_layer)\n",
        "n_layer = MaxPool2D((1,1))(n_layer)\n",
        "\n",
        "\n",
        "n_layer = Flatten()(n_layer)\n",
        "n_layer = Dense(300, activation = 'relu')(n_layer)\n",
        "n_layer = Dropout(0.2)(n_layer)\n",
        "n_layer = Dense(100, activation = 'relu')(n_layer)\n",
        "n_layer = Dropout(0.2)(n_layer)\n",
        "'''\n",
        "for i in range(3):\n",
        "    n_layer = Conv2D(8*2**i, kernel_size = (1,1), activation = 'linear')(n_layer)\n",
        "    n_layer = BatchNormalization()(n_layer)\n",
        "    n_layer = Activation('relu')(n_layer)\n",
        "    n_layer = Conv2D(16*2**i, kernel_size = (1,1), activation = 'linear')(n_layer)\n",
        "    n_layer = BatchNormalization()(n_layer)\n",
        "    n_layer = Activation('relu')(n_layer)\n",
        "    n_layer = MaxPool2D((2,2))(n_layer)\n",
        "n_layer = Flatten()(n_layer)\n",
        "n_layer = Dense(32, activation = 'linear')(n_layer)\n",
        "n_layer = Dropout(0.5)(n_layer)\n",
        "n_layer = BatchNormalization()(n_layer)\n",
        "n_layer = Activation('relu')(n_layer)\n",
        "\n",
        "feature_model = Model(inputs = [img_in], outputs = [n_layer], name = 'FeatureGenerationModel')\n",
        "feature_model.summary()"
      ],
      "execution_count": 12,
      "outputs": [
        {
          "output_type": "stream",
          "text": [
            "Model: \"FeatureGenerationModel\"\n",
            "_________________________________________________________________\n",
            "Layer (type)                 Output Shape              Param #   \n",
            "=================================================================\n",
            "FeatureNet_ImageInput (Input [(None, 10, 130, 13)]     0         \n",
            "_________________________________________________________________\n",
            "conv2d_19 (Conv2D)           (None, 10, 130, 8)        112       \n",
            "_________________________________________________________________\n",
            "batch_normalization_15 (Batc (None, 10, 130, 8)        32        \n",
            "_________________________________________________________________\n",
            "activation_15 (Activation)   (None, 10, 130, 8)        0         \n",
            "_________________________________________________________________\n",
            "conv2d_20 (Conv2D)           (None, 10, 130, 16)       144       \n",
            "_________________________________________________________________\n",
            "batch_normalization_16 (Batc (None, 10, 130, 16)       64        \n",
            "_________________________________________________________________\n",
            "activation_16 (Activation)   (None, 10, 130, 16)       0         \n",
            "_________________________________________________________________\n",
            "max_pooling2d_7 (MaxPooling2 (None, 5, 65, 16)         0         \n",
            "_________________________________________________________________\n",
            "conv2d_21 (Conv2D)           (None, 5, 65, 16)         272       \n",
            "_________________________________________________________________\n",
            "batch_normalization_17 (Batc (None, 5, 65, 16)         64        \n",
            "_________________________________________________________________\n",
            "activation_17 (Activation)   (None, 5, 65, 16)         0         \n",
            "_________________________________________________________________\n",
            "conv2d_22 (Conv2D)           (None, 5, 65, 32)         544       \n",
            "_________________________________________________________________\n",
            "batch_normalization_18 (Batc (None, 5, 65, 32)         128       \n",
            "_________________________________________________________________\n",
            "activation_18 (Activation)   (None, 5, 65, 32)         0         \n",
            "_________________________________________________________________\n",
            "max_pooling2d_8 (MaxPooling2 (None, 2, 32, 32)         0         \n",
            "_________________________________________________________________\n",
            "conv2d_23 (Conv2D)           (None, 2, 32, 32)         1056      \n",
            "_________________________________________________________________\n",
            "batch_normalization_19 (Batc (None, 2, 32, 32)         128       \n",
            "_________________________________________________________________\n",
            "activation_19 (Activation)   (None, 2, 32, 32)         0         \n",
            "_________________________________________________________________\n",
            "conv2d_24 (Conv2D)           (None, 2, 32, 64)         2112      \n",
            "_________________________________________________________________\n",
            "batch_normalization_20 (Batc (None, 2, 32, 64)         256       \n",
            "_________________________________________________________________\n",
            "activation_20 (Activation)   (None, 2, 32, 64)         0         \n",
            "_________________________________________________________________\n",
            "max_pooling2d_9 (MaxPooling2 (None, 1, 16, 64)         0         \n",
            "_________________________________________________________________\n",
            "flatten (Flatten)            (None, 1024)              0         \n",
            "_________________________________________________________________\n",
            "dense (Dense)                (None, 32)                32800     \n",
            "_________________________________________________________________\n",
            "dropout (Dropout)            (None, 32)                0         \n",
            "_________________________________________________________________\n",
            "batch_normalization_21 (Batc (None, 32)                128       \n",
            "_________________________________________________________________\n",
            "activation_21 (Activation)   (None, 32)                0         \n",
            "=================================================================\n",
            "Total params: 37,840\n",
            "Trainable params: 37,440\n",
            "Non-trainable params: 400\n",
            "_________________________________________________________________\n"
          ],
          "name": "stdout"
        }
      ]
    },
    {
      "cell_type": "code",
      "metadata": {
        "colab": {
          "base_uri": "https://localhost:8080/"
        },
        "id": "yKyIHiBtgtNG",
        "outputId": "3d0d3179-b089-42bd-aa64-5f4b598301fa"
      },
      "source": [
        "from keras.layers import concatenate\n",
        "img_a_in = Input(shape = x_train.shape[1:], name = 'ImageA_Input')\n",
        "img_b_in = Input(shape = x_train.shape[1:], name = 'ImageB_Input')\n",
        "img_a_feat = feature_model(img_a_in)\n",
        "img_b_feat = feature_model(img_b_in)\n",
        "combined_features = concatenate([img_a_feat, img_b_feat], name = 'merge_features')\n",
        "combined_features = Dense(16, activation = 'linear')(combined_features)\n",
        "combined_features = BatchNormalization()(combined_features)\n",
        "combined_features = Activation('relu')(combined_features)\n",
        "combined_features = Dense(4, activation = 'linear')(combined_features)\n",
        "combined_features = BatchNormalization()(combined_features)\n",
        "combined_features = Activation('relu')(combined_features)\n",
        "combined_features = Dense(1, activation = 'sigmoid')(combined_features)\n",
        "similarity_model = Model(inputs = [img_a_in, img_b_in], outputs = [combined_features], name = 'Similarity_Model')\n",
        "similarity_model.summary()"
      ],
      "execution_count": 13,
      "outputs": [
        {
          "output_type": "stream",
          "text": [
            "Model: \"Similarity_Model\"\n",
            "__________________________________________________________________________________________________\n",
            "Layer (type)                    Output Shape         Param #     Connected to                     \n",
            "==================================================================================================\n",
            "ImageA_Input (InputLayer)       [(None, 10, 130, 13) 0                                            \n",
            "__________________________________________________________________________________________________\n",
            "ImageB_Input (InputLayer)       [(None, 10, 130, 13) 0                                            \n",
            "__________________________________________________________________________________________________\n",
            "FeatureGenerationModel (Functio (None, 32)           37840       ImageA_Input[0][0]               \n",
            "                                                                 ImageB_Input[0][0]               \n",
            "__________________________________________________________________________________________________\n",
            "merge_features (Concatenate)    (None, 64)           0           FeatureGenerationModel[0][0]     \n",
            "                                                                 FeatureGenerationModel[1][0]     \n",
            "__________________________________________________________________________________________________\n",
            "dense_1 (Dense)                 (None, 16)           1040        merge_features[0][0]             \n",
            "__________________________________________________________________________________________________\n",
            "batch_normalization_22 (BatchNo (None, 16)           64          dense_1[0][0]                    \n",
            "__________________________________________________________________________________________________\n",
            "activation_22 (Activation)      (None, 16)           0           batch_normalization_22[0][0]     \n",
            "__________________________________________________________________________________________________\n",
            "dense_2 (Dense)                 (None, 4)            68          activation_22[0][0]              \n",
            "__________________________________________________________________________________________________\n",
            "batch_normalization_23 (BatchNo (None, 4)            16          dense_2[0][0]                    \n",
            "__________________________________________________________________________________________________\n",
            "activation_23 (Activation)      (None, 4)            0           batch_normalization_23[0][0]     \n",
            "__________________________________________________________________________________________________\n",
            "dense_3 (Dense)                 (None, 1)            5           activation_23[0][0]              \n",
            "==================================================================================================\n",
            "Total params: 39,033\n",
            "Trainable params: 38,593\n",
            "Non-trainable params: 440\n",
            "__________________________________________________________________________________________________\n"
          ],
          "name": "stdout"
        }
      ]
    },
    {
      "cell_type": "code",
      "metadata": {
        "colab": {
          "base_uri": "https://localhost:8080/"
        },
        "id": "ZhpvhyFzgvRD",
        "outputId": "459559fd-418c-44a3-ec8b-945d3bd6eb42"
      },
      "source": [
        "similarity_model.compile(optimizer='adam', loss = 'binary_crossentropy', metrics = ['acc'])\n",
        "\n",
        "def siam_gen(in_groups, batch_size = 32):\n",
        "    while True:\n",
        "        pv_a, pv_b, pv_sim = gen_random_batch(train_groups, batch_size//2)\n",
        "        yield [pv_a, pv_b], pv_sim\n",
        "# we want a constant validation group to have a frame of reference for model performance\n",
        "valid_a, valid_b, valid_sim = gen_random_batch(test_groups, 1024)\n",
        "loss_history = similarity_model.fit_generator(siam_gen(train_groups), \n",
        "                               steps_per_epoch = 500,\n",
        "                               validation_data=([valid_a, valid_b], valid_sim),\n",
        "                                              epochs = 10,\n",
        "                                             verbose = True)\n"
      ],
      "execution_count": 14,
      "outputs": [
        {
          "output_type": "stream",
          "text": [
            "/usr/local/lib/python3.7/dist-packages/keras/engine/training.py:1915: UserWarning: `Model.fit_generator` is deprecated and will be removed in a future version. Please use `Model.fit`, which supports generators.\n",
            "  warnings.warn('`Model.fit_generator` is deprecated and '\n"
          ],
          "name": "stderr"
        },
        {
          "output_type": "stream",
          "text": [
            "Epoch 1/10\n",
            "500/500 [==============================] - 26s 13ms/step - loss: 0.7240 - acc: 0.4919 - val_loss: 0.6923 - val_acc: 0.5127\n",
            "Epoch 2/10\n",
            "500/500 [==============================] - 5s 10ms/step - loss: 0.6955 - acc: 0.5000 - val_loss: 0.6924 - val_acc: 0.5181\n",
            "Epoch 3/10\n",
            "500/500 [==============================] - 5s 10ms/step - loss: 0.6929 - acc: 0.5093 - val_loss: 0.6926 - val_acc: 0.5088\n",
            "Epoch 4/10\n",
            "500/500 [==============================] - 5s 10ms/step - loss: 0.6909 - acc: 0.5200 - val_loss: 0.6868 - val_acc: 0.5449\n",
            "Epoch 5/10\n",
            "500/500 [==============================] - 5s 10ms/step - loss: 0.6857 - acc: 0.5371 - val_loss: 0.6817 - val_acc: 0.5610\n",
            "Epoch 6/10\n",
            "500/500 [==============================] - 5s 10ms/step - loss: 0.6828 - acc: 0.5574 - val_loss: 0.6674 - val_acc: 0.6045\n",
            "Epoch 7/10\n",
            "500/500 [==============================] - 5s 10ms/step - loss: 0.6793 - acc: 0.5674 - val_loss: 0.6636 - val_acc: 0.6084\n",
            "Epoch 8/10\n",
            "500/500 [==============================] - 5s 10ms/step - loss: 0.6724 - acc: 0.5877 - val_loss: 0.6552 - val_acc: 0.6221\n",
            "Epoch 9/10\n",
            "500/500 [==============================] - 5s 10ms/step - loss: 0.6602 - acc: 0.6037 - val_loss: 0.6567 - val_acc: 0.6099\n",
            "Epoch 10/10\n",
            "500/500 [==============================] - 5s 10ms/step - loss: 0.6555 - acc: 0.6110 - val_loss: 0.6750 - val_acc: 0.5996\n"
          ],
          "name": "stdout"
        }
      ]
    },
    {
      "cell_type": "code",
      "metadata": {
        "colab": {
          "base_uri": "https://localhost:8080/",
          "height": 573
        },
        "id": "fiI-T4aajbIv",
        "outputId": "f45ab8dc-d7fe-4244-f172-54ee560b495e"
      },
      "source": [
        "plt.plot(loss_history.history['acc'])\n",
        "plt.plot(loss_history.history['val_acc'])\n",
        "plt.title('model acc')\n",
        "plt.ylabel('acc')\n",
        "plt.xlabel('epoch')\n",
        "plt.legend(['train', 'test'], loc='upper left')\n",
        "plt.show()\n",
        "# summarize history for loss\n",
        "plt.plot(loss_history.history['loss'])\n",
        "plt.plot(loss_history.history['val_loss'])\n",
        "plt.title('model loss')\n",
        "plt.ylabel('loss')\n",
        "plt.xlabel('epoch')\n",
        "plt.legend(['train', 'test'], loc='upper left')\n",
        "plt.show()"
      ],
      "execution_count": 15,
      "outputs": [
        {
          "output_type": "display_data",
          "data": {
            "image/png": "[encoded data removed]",
            "text/plain": [
              "<Figure size 432x288 with 1 Axes>"
            ]
          },
          "metadata": {
            "tags": [],
            "needs_background": "light"
          }
        },
        {
          "output_type": "display_data",
          "data": {
            "image/png": "[encoded data removed]",
            "text/plain": [
              "<Figure size 432x288 with 1 Axes>"
            ]
          },
          "metadata": {
            "tags": [],
            "needs_background": "light"
          }
        }
      ]
    }
  ]
}
{
  "nbformat": 4,
  "nbformat_minor": 0,
  "metadata": {
    "colab": {
      "name": "genre_siamese.ipynb",
      "provenance": [],
      "machine_shape": "hm"
    },
    "kernelspec": {
      "name": "python3",
      "display_name": "Python 3"
    },
    "language_info": {
      "name": "python"
    },
    "accelerator": "GPU"
  },
  "cells": [
    {
      "cell_type": "code",
      "metadata": {
        "colab": {
          "base_uri": "https://localhost:8080/"
        },
        "id": "oNXxaMb8rN5R",
        "outputId": "f3651db7-c684-4ca9-81c9-b03ddb794409"
      },
      "source": [
        "from google.colab import drive\n",
        "drive.mount(\"/content/drive\")"
      ],
      "execution_count": 1,
      "outputs": [
        {
          "output_type": "stream",
          "text": [
            "Mounted at /content/drive\n"
          ],
          "name": "stdout"
        }
      ]
    },
    {
      "cell_type": "code",
      "metadata": {
        "id": "IptnkqufqT4K"
      },
      "source": [
        "import random\n",
        "import numpy as np\n",
        "import keras\n",
        "from keras.models import Sequential, Model\n",
        "from keras.layers import Flatten, Dense, Concatenate, Dot, Lambda, Input\n",
        "from keras.optimizers import Adam\n",
        "import matplotlib.pyplot as plt\n",
        "import tensorflow as tf\n",
        "import pandas as pd\n",
        "from keras.preprocessing.image import ImageDataGenerator\n",
        "from keras.utils.np_utils import to_categorical"
      ],
      "execution_count": 1,
      "outputs": []
    },
    {
      "cell_type": "code",
      "metadata": {
        "id": "HdDA9o5jrq1o"
      },
      "source": [
        "def prepare_datasets():\n",
        "    \n",
        "    npzfile = np.load('/content/drive/MyDrive/data/shuffled_train.npz') #change path\n",
        "    print(npzfile.files)\n",
        "    x_train = npzfile['arr_0']\n",
        "    y_train = npzfile['arr_1']\n",
        "    x_train = x_train[0:1000]\n",
        "    y_train = y_train[0:1000]\n",
        "    print(x_train.shape, y_train.shape)\n",
        "\n",
        "    npzfile = np.load('/content/drive/MyDrive/data/shuffled_valid.npz') #change path\n",
        "    print(npzfile.files)\n",
        "    x_validation = npzfile['arr_0']\n",
        "    y_validation = npzfile['arr_1']\n",
        "    print(x_validation.shape, y_validation.shape)\n",
        "\n",
        "\n",
        "\n",
        "    #x_train = x_train[... , np.newaxis]\n",
        "    #x_validation = x_validation[... , np.newaxis]\n",
        "    #x_test = x_test[... , np.newaxis]\n",
        "    return x_train, x_validation, y_train, y_validation\n"
      ],
      "execution_count": 2,
      "outputs": []
    },
    {
      "cell_type": "code",
      "metadata": {
        "colab": {
          "base_uri": "https://localhost:8080/"
        },
        "id": "Mw3nXGMzr3Mj",
        "outputId": "345383fc-381c-425e-9e3c-9a8c125d68f7"
      },
      "source": [
        "x_train, x_validation, y_train, y_validation = prepare_datasets()"
      ],
      "execution_count": 3,
      "outputs": [
        {
          "output_type": "stream",
          "text": [
            "['arr_0', 'arr_1']\n",
            "(1000, 640, 128) (1000, 8)\n",
            "['arr_0', 'arr_1']\n",
            "(800, 640, 128) (800, 8)\n"
          ],
          "name": "stdout"
        }
      ]
    },
    {
      "cell_type": "code",
      "metadata": {
        "colab": {
          "base_uri": "https://localhost:8080/"
        },
        "id": "OAM34YWYbuI9",
        "outputId": "fd2b70f7-8426-4b9e-b949-8da36a8be35f"
      },
      "source": [
        "x_test ,  y_test =  x_validation, y_validation\n",
        "x_train = x_train[... , np.newaxis]\n",
        "x_test = x_test[... , np.newaxis]\n",
        "print('Training', x_train.shape, x_train.max())\n",
        "print('Testing', x_test.shape, x_test.max())\n"
      ],
      "execution_count": 4,
      "outputs": [
        {
          "output_type": "stream",
          "text": [
            "Training (1000, 640, 128, 1) 1.554312234475218e-15\n",
            "Testing (800, 640, 128, 1) 1.554312234475218e-15\n"
          ],
          "name": "stdout"
        }
      ]
    },
    {
      "cell_type": "code",
      "metadata": {
        "colab": {
          "base_uri": "https://localhost:8080/"
        },
        "id": "SntLGP74d6yK",
        "outputId": "e7547a5f-3037-4f3a-8e00-d8c9e9adac82"
      },
      "source": [
        "Y_train = []\n",
        "Y_test = []\n",
        "for i in range(y_train.shape[0]):\n",
        "  index = tf.argmax(y_train[i], axis=0)\n",
        "  Y_train.append(index)\n",
        "y_train = np.array(Y_train)\n",
        "for i in range(y_test.shape[0]):\n",
        "  index = tf.argmax(y_test[i], axis=0)\n",
        "  Y_test.append(index)\n",
        "y_test = np.array(Y_test)\n",
        "print(y_train.shape, y_test.shape)\n",
        "print(y_train[2]) #check values"
      ],
      "execution_count": 5,
      "outputs": [
        {
          "output_type": "stream",
          "text": [
            "(1000,) (800,)\n",
            "5\n"
          ],
          "name": "stdout"
        }
      ]
    },
    {
      "cell_type": "code",
      "metadata": {
        "colab": {
          "base_uri": "https://localhost:8080/"
        },
        "id": "Bx8T6St4dBVq",
        "outputId": "bd028f75-c1dc-4ff6-cd13-7ff3eb4a283f"
      },
      "source": [
        "train_groups = [x_train[np.where(y_train==i)[0]] for i in np.unique(y_train)]\n",
        "test_groups = [x_test[np.where(y_test==i)[0]] for i in np.unique(y_train)]\n",
        "print('train groups:', [x.shape[0] for x in train_groups])\n",
        "print('test groups:', [x.shape[0] for x in test_groups])"
      ],
      "execution_count": 6,
      "outputs": [
        {
          "output_type": "stream",
          "text": [
            "train groups: [121, 116, 123, 135, 123, 134, 119, 129]\n",
            "test groups: [100, 100, 100, 100, 100, 100, 100, 100]\n"
          ],
          "name": "stdout"
        }
      ]
    },
    {
      "cell_type": "code",
      "metadata": {
        "id": "o-0B6A4ggGjh"
      },
      "source": [
        "def gen_random_batch(in_groups, batch_halfsize = 8):\n",
        "    out_img_a, out_img_b, out_score = [], [], []\n",
        "    all_groups = list(range(len(in_groups)))\n",
        "    for match_group in [True, False]:\n",
        "        group_idx = np.random.choice(all_groups, size = batch_halfsize)\n",
        "        out_img_a += [in_groups[c_idx][np.random.choice(range(in_groups[c_idx].shape[0]))] for c_idx in group_idx]\n",
        "        if match_group:\n",
        "            b_group_idx = group_idx\n",
        "            out_score += [1]*batch_halfsize\n",
        "        else:\n",
        "            # anything but the same group\n",
        "            non_group_idx = [np.random.choice([i for i in all_groups if i!=c_idx]) for c_idx in group_idx] \n",
        "            b_group_idx = non_group_idx\n",
        "            out_score += [0]*batch_halfsize\n",
        "            \n",
        "        out_img_b += [in_groups[c_idx][np.random.choice(range(in_groups[c_idx].shape[0]))] for c_idx in b_group_idx]\n",
        "            \n",
        "    return np.stack(out_img_a,0), np.stack(out_img_b,0), np.stack(out_score,0)\n",
        "    \n",
        "pv_a, pv_b, pv_sim = gen_random_batch(train_groups, 3)"
      ],
      "execution_count": 7,
      "outputs": []
    },
    {
      "cell_type": "code",
      "metadata": {
        "colab": {
          "base_uri": "https://localhost:8080/"
        },
        "id": "vFOStct_ge1M",
        "outputId": "10da3b21-4aa7-439a-8e75-4e4674697b80"
      },
      "source": [
        "from keras.models import Model\n",
        "from keras.layers import Input, Conv2D, BatchNormalization, MaxPool2D, Activation, Flatten, Dense, Dropout\n",
        "img_in = Input(shape = x_train.shape[1:], name = 'FeatureNet_ImageInput')\n",
        "n_layer = img_in\n",
        "\n",
        "n_layer = Conv2D(128, kernel_size = (4,4), activation = 'relu')(n_layer)\n",
        "n_layer = MaxPool2D((2,2))(n_layer)\n",
        "n_layer = Conv2D(128, kernel_size = (1,1), activation = 'relu')(n_layer)\n",
        "n_layer = MaxPool2D((2,2))(n_layer)\n",
        "n_layer = Conv2D(256, kernel_size = (1,1), activation = 'relu')(n_layer)\n",
        "n_layer = MaxPool2D((2,2))(n_layer)\n",
        "\n",
        "\n",
        "n_layer = Flatten()(n_layer)\n",
        "n_layer = Dense(300, activation = 'relu')(n_layer)\n",
        "n_layer = Dropout(0.2)(n_layer)\n",
        "n_layer = Dense(100, activation = 'relu')(n_layer)\n",
        "n_layer = Dropout(0.2)(n_layer)\n",
        "\n",
        "\n",
        "feature_model = Model(inputs = [img_in], outputs = [n_layer], name = 'FeatureGenerationModel')\n",
        "feature_model.summary()"
      ],
      "execution_count": 8,
      "outputs": [
        {
          "output_type": "stream",
          "text": [
            "Model: \"FeatureGenerationModel\"\n",
            "_________________________________________________________________\n",
            "Layer (type)                 Output Shape              Param #   \n",
            "=================================================================\n",
            "FeatureNet_ImageInput (Input [(None, 640, 128, 1)]     0         \n",
            "_________________________________________________________________\n",
            "conv2d (Conv2D)              (None, 637, 125, 128)     2176      \n",
            "_________________________________________________________________\n",
            "max_pooling2d (MaxPooling2D) (None, 318, 62, 128)      0         \n",
            "_________________________________________________________________\n",
            "conv2d_1 (Conv2D)            (None, 318, 62, 128)      16512     \n",
            "_________________________________________________________________\n",
            "max_pooling2d_1 (MaxPooling2 (None, 159, 31, 128)      0         \n",
            "_________________________________________________________________\n",
            "conv2d_2 (Conv2D)            (None, 159, 31, 256)      33024     \n",
            "_________________________________________________________________\n",
            "max_pooling2d_2 (MaxPooling2 (None, 79, 15, 256)       0         \n",
            "_________________________________________________________________\n",
            "flatten (Flatten)            (None, 303360)            0         \n",
            "_________________________________________________________________\n",
            "dense (Dense)                (None, 300)               91008300  \n",
            "_________________________________________________________________\n",
            "dropout (Dropout)            (None, 300)               0         \n",
            "_________________________________________________________________\n",
            "dense_1 (Dense)              (None, 100)               30100     \n",
            "_________________________________________________________________\n",
            "dropout_1 (Dropout)          (None, 100)               0         \n",
            "=================================================================\n",
            "Total params: 91,090,112\n",
            "Trainable params: 91,090,112\n",
            "Non-trainable params: 0\n",
            "_________________________________________________________________\n"
          ],
          "name": "stdout"
        }
      ]
    },
    {
      "cell_type": "code",
      "metadata": {
        "colab": {
          "base_uri": "https://localhost:8080/"
        },
        "id": "yKyIHiBtgtNG",
        "outputId": "fe55b1c7-8e26-4c83-fa39-48d921a83d55"
      },
      "source": [
        "from keras.layers import concatenate\n",
        "img_a_in = Input(shape = x_train.shape[1:], name = 'ImageA_Input')\n",
        "img_b_in = Input(shape = x_train.shape[1:], name = 'ImageB_Input')\n",
        "img_a_feat = feature_model(img_a_in)\n",
        "img_b_feat = feature_model(img_b_in)\n",
        "combined_features = concatenate([img_a_feat, img_b_feat], name = 'merge_features')\n",
        "combined_features = Dense(16, activation = 'linear')(combined_features)\n",
        "combined_features = BatchNormalization()(combined_features)\n",
        "combined_features = Activation('relu')(combined_features)\n",
        "combined_features = Dense(4, activation = 'linear')(combined_features)\n",
        "combined_features = BatchNormalization()(combined_features)\n",
        "combined_features = Activation('relu')(combined_features)\n",
        "combined_features = Dense(1, activation = 'sigmoid')(combined_features)\n",
        "similarity_model = Model(inputs = [img_a_in, img_b_in], outputs = [combined_features], name = 'Similarity_Model')\n",
        "similarity_model.summary()"
      ],
      "execution_count": 9,
      "outputs": [
        {
          "output_type": "stream",
          "text": [
            "Model: \"Similarity_Model\"\n",
            "__________________________________________________________________________________________________\n",
            "Layer (type)                    Output Shape         Param #     Connected to                     \n",
            "==================================================================================================\n",
            "ImageA_Input (InputLayer)       [(None, 640, 128, 1) 0                                            \n",
            "__________________________________________________________________________________________________\n",
            "ImageB_Input (InputLayer)       [(None, 640, 128, 1) 0                                            \n",
            "__________________________________________________________________________________________________\n",
            "FeatureGenerationModel (Functio (None, 100)          91090112    ImageA_Input[0][0]               \n",
            "                                                                 ImageB_Input[0][0]               \n",
            "__________________________________________________________________________________________________\n",
            "merge_features (Concatenate)    (None, 200)          0           FeatureGenerationModel[0][0]     \n",
            "                                                                 FeatureGenerationModel[1][0]     \n",
            "__________________________________________________________________________________________________\n",
            "dense_2 (Dense)                 (None, 16)           3216        merge_features[0][0]             \n",
            "__________________________________________________________________________________________________\n",
            "batch_normalization (BatchNorma (None, 16)           64          dense_2[0][0]                    \n",
            "__________________________________________________________________________________________________\n",
            "activation (Activation)         (None, 16)           0           batch_normalization[0][0]        \n",
            "__________________________________________________________________________________________________\n",
            "dense_3 (Dense)                 (None, 4)            68          activation[0][0]                 \n",
            "__________________________________________________________________________________________________\n",
            "batch_normalization_1 (BatchNor (None, 4)            16          dense_3[0][0]                    \n",
            "__________________________________________________________________________________________________\n",
            "activation_1 (Activation)       (None, 4)            0           batch_normalization_1[0][0]      \n",
            "__________________________________________________________________________________________________\n",
            "dense_4 (Dense)                 (None, 1)            5           activation_1[0][0]               \n",
            "==================================================================================================\n",
            "Total params: 91,093,481\n",
            "Trainable params: 91,093,441\n",
            "Non-trainable params: 40\n",
            "__________________________________________________________________________________________________\n"
          ],
          "name": "stdout"
        }
      ]
    },
    {
      "cell_type": "code",
      "metadata": {
        "colab": {
          "base_uri": "https://localhost:8080/"
        },
        "id": "ZhpvhyFzgvRD",
        "outputId": "3a2c1da1-2b38-45e1-cb9c-d9c1954820f3"
      },
      "source": [
        "similarity_model.compile(optimizer='adam', loss = 'binary_crossentropy', metrics = ['acc'])\n",
        "\n",
        "def siam_gen(in_groups, batch_size = 32):\n",
        "    while True:\n",
        "        pv_a, pv_b, pv_sim = gen_random_batch(train_groups, batch_size//2)\n",
        "        yield [pv_a, pv_b], pv_sim\n",
        "# we want a constant validation group to have a frame of reference for model performance\n",
        "valid_a, valid_b, valid_sim = gen_random_batch(test_groups, 1024)\n",
        "loss_history = similarity_model.fit_generator(siam_gen(train_groups), \n",
        "                               steps_per_epoch = 500,\n",
        "                               validation_data=([valid_a, valid_b], valid_sim),\n",
        "                                              epochs = 10,\n",
        "                                             verbose = True)\n"
      ],
      "execution_count": 10,
      "outputs": [
        {
          "output_type": "stream",
          "text": [
            "/usr/local/lib/python3.7/dist-packages/keras/engine/training.py:1915: UserWarning: `Model.fit_generator` is deprecated and will be removed in a future version. Please use `Model.fit`, which supports generators.\n",
            "  warnings.warn('`Model.fit_generator` is deprecated and '\n"
          ],
          "name": "stderr"
        },
        {
          "output_type": "stream",
          "text": [
            "Epoch 1/10\n",
            "500/500 [==============================] - 117s 200ms/step - loss: 0.7287 - acc: 0.4943 - val_loss: 0.6941 - val_acc: 0.5029\n",
            "Epoch 2/10\n",
            "500/500 [==============================] - 97s 195ms/step - loss: 0.6955 - acc: 0.5076 - val_loss: 0.6924 - val_acc: 0.5142\n",
            "Epoch 3/10\n",
            "500/500 [==============================] - 97s 195ms/step - loss: 0.6953 - acc: 0.5033 - val_loss: 0.6928 - val_acc: 0.5122\n",
            "Epoch 4/10\n",
            "500/500 [==============================] - 97s 195ms/step - loss: 0.6935 - acc: 0.5099 - val_loss: 0.6929 - val_acc: 0.5015\n",
            "Epoch 5/10\n",
            "500/500 [==============================] - 97s 194ms/step - loss: 0.6932 - acc: 0.5132 - val_loss: 0.6956 - val_acc: 0.5117\n",
            "Epoch 6/10\n",
            "500/500 [==============================] - 97s 194ms/step - loss: 0.6917 - acc: 0.5229 - val_loss: 0.6933 - val_acc: 0.5000\n",
            "Epoch 7/10\n",
            "500/500 [==============================] - 96s 193ms/step - loss: 0.6921 - acc: 0.5176 - val_loss: 0.6914 - val_acc: 0.5259\n",
            "Epoch 8/10\n",
            "500/500 [==============================] - 96s 193ms/step - loss: 0.6923 - acc: 0.5224 - val_loss: 0.6937 - val_acc: 0.5000\n",
            "Epoch 9/10\n",
            "500/500 [==============================] - 96s 192ms/step - loss: 0.6908 - acc: 0.5198 - val_loss: 0.6932 - val_acc: 0.5073\n",
            "Epoch 10/10\n",
            "500/500 [==============================] - 96s 192ms/step - loss: 0.6918 - acc: 0.5174 - val_loss: 0.6933 - val_acc: 0.5000\n"
          ],
          "name": "stdout"
        }
      ]
    },
    {
      "cell_type": "code",
      "metadata": {
        "colab": {
          "base_uri": "https://localhost:8080/",
          "height": 573
        },
        "id": "fiI-T4aajbIv",
        "outputId": "2d94a8fb-747f-4d06-d9dc-6504393f5e52"
      },
      "source": [
        "plt.plot(loss_history.history['acc'])\n",
        "plt.plot(loss_history.history['val_acc'])\n",
        "plt.title('model acc')\n",
        "plt.ylabel('acc')\n",
        "plt.xlabel('epoch')\n",
        "plt.legend(['train', 'test'], loc='upper left')\n",
        "plt.show()\n",
        "# summarize history for loss\n",
        "plt.plot(loss_history.history['loss'])\n",
        "plt.plot(loss_history.history['val_loss'])\n",
        "plt.title('model loss')\n",
        "plt.ylabel('loss')\n",
        "plt.xlabel('epoch')\n",
        "plt.legend(['train', 'test'], loc='upper left')\n",
        "plt.show()"
      ],
      "execution_count": 12,
      "outputs": [
        {
          "output_type": "display_data",
          "data": {
            "image/png": "[encoded data removed]",
            "text/plain": [
              "<Figure size 432x288 with 1 Axes>"
            ]
          },
          "metadata": {
            "tags": [],
            "needs_background": "light"
          }
        },
        {
          "output_type": "display_data",
          "data": {
            "image/png": "[encoded data removed]",
            "text/plain": [
              "<Figure size 432x288 with 1 Axes>"
            ]
          },
          "metadata": {
            "tags": [],
            "needs_background": "light"
          }
        }
      ]
    }
  ]
}
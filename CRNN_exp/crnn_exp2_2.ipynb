{
  "nbformat": 4,
  "nbformat_minor": 0,
  "metadata": {
    "colab": {
      "name": "crnn_exp1.ipynb",
      "provenance": [],
      "collapsed_sections": []
    },
    "kernelspec": {
      "name": "python3",
      "display_name": "Python 3"
    },
    "language_info": {
      "name": "python"
    },
    "accelerator": "GPU"
  },
  "cells": [
    {
      "cell_type": "code",
      "metadata": {
        "colab": {
          "base_uri": "https://localhost:8080/"
        },
        "id": "GeNEK9k7Hmwv",
        "outputId": "e9bb9bdd-49fa-453c-9431-5a566c418639"
      },
      "source": [
        "!git clone https://github.com/sourjyadip/genre_classification"
      ],
      "execution_count": 1,
      "outputs": [
        {
          "output_type": "stream",
          "text": [
            "fatal: destination path 'genre_classification' already exists and is not an empty directory.\n"
          ],
          "name": "stdout"
        }
      ]
    },
    {
      "cell_type": "code",
      "metadata": {
        "colab": {
          "base_uri": "https://localhost:8080/"
        },
        "id": "uKSXfRGsICDH",
        "outputId": "8dc79362-6b65-4a9b-ff52-ba0af26e080d"
      },
      "source": [
        "import cv2\n",
        "from google.colab import drive\n",
        "drive.mount(\"/content/drive\")"
      ],
      "execution_count": 2,
      "outputs": [
        {
          "output_type": "stream",
          "text": [
            "Drive already mounted at /content/drive; to attempt to forcibly remount, call drive.mount(\"/content/drive\", force_remount=True).\n"
          ],
          "name": "stdout"
        }
      ]
    },
    {
      "cell_type": "code",
      "metadata": {
        "colab": {
          "base_uri": "https://localhost:8080/"
        },
        "id": "kbF9Zcb0Id8f",
        "outputId": "d6bb9906-19c7-4dd5-eb74-27115e8cbee5"
      },
      "source": [
        "!sudo pip3 install python-dotenv"
      ],
      "execution_count": 3,
      "outputs": [
        {
          "output_type": "stream",
          "text": [
            "Requirement already satisfied: python-dotenv in /usr/local/lib/python3.7/dist-packages (0.18.0)\n"
          ],
          "name": "stdout"
        }
      ]
    },
    {
      "cell_type": "code",
      "metadata": {
        "colab": {
          "base_uri": "https://localhost:8080/",
          "height": 1000
        },
        "id": "UqFcl8GDK2Mt",
        "outputId": "1a74ac28-d91b-40e7-e598-a102466e1042"
      },
      "source": [
        "#Architecture taken from https://arxiv.org/abs/1609.04243  \n",
        "#No. of params = 0.1M\n",
        "import json\n",
        "import numpy as np \n",
        "from sklearn .model_selection import train_test_split\n",
        "import tensorflow.keras as keras\n",
        "import os\n",
        "import IPython.display as ipd\n",
        "import numpy as np\n",
        "import pandas as pd\n",
        "import matplotlib.pyplot as plt\n",
        "import seaborn as sns\n",
        "import sklearn as skl\n",
        "import sklearn.utils, sklearn.preprocessing, sklearn.decomposition, sklearn.svm\n",
        "import librosa\n",
        "import librosa.display\n",
        "import tensorflow as tf \n",
        "\n",
        "import sys\n",
        "sys.path.append('/content/genre_classification')\n",
        "import utils\n",
        "\n",
        "\n",
        "#DATA_PATH = \n",
        "\n",
        "def load_data(data_path):\n",
        "    #loads training data from json file\n",
        "    #params: data path \n",
        "    #returns: x (nd array) : Input\n",
        "    #y (nd array) : Targets\n",
        "    with open(data_path, \"r\") as fp:\n",
        "        data = json.load(fp)\n",
        "    x = np.array(data['mfcc'])\n",
        "    y = np.array(array['labels'])\n",
        "    return x,y\n",
        "\n",
        "def prepare_datasets():\n",
        "    # Directory where mp3 are stored.\n",
        "    #AUDIO_DIR = 'data/fma_small/'\n",
        "\n",
        "    # Load metadata and features.\n",
        "    #tracks = utils.load('/content/drive/MyDrive/genre_data/fma_metadata/tracks.csv')\n",
        "    #genres = utils.load('/content/drive/MyDrive/genre_data/fma_metadata/genres.csv')\n",
        "    #features = utils.load('/content/drive/MyDrive/genre_data/fma_metadata/features.csv')\n",
        "    #load data\n",
        "    #x,y = load_data(DATA_PATH)\n",
        "    #create train test split\n",
        "    #x_train, x_test, y_train, y_test = train_test_split(x, y, test_size = test_size)\n",
        "    #create train validation split\n",
        "    #x_train, x_validation, y_train, y_validationv = train_test_split(x_train, y_train, test_size = validation_size)\n",
        "    #3d array for each sample\n",
        "    #(130,140,1)\n",
        "    #small = tracks['set', 'subset'] <= 'small'\n",
        "    #getting mfcc directly for training\n",
        "    #train = tracks['set', 'split'] == 'training'\n",
        "    #val = tracks['set', 'split'] == 'validation'\n",
        "    #test = tracks['set', 'split'] == 'test'\n",
        "\n",
        "    #y_train = tracks.loc[small & train, ('track', 'genre_top')]\n",
        "    #y_test = tracks.loc[small & test, ('track', 'genre_top')]\n",
        "    #y_validation = tracks.loc[small & val, ('track', 'genre_top')]\n",
        "    #x_train = features.loc[small & train, 'mfcc']\n",
        "    #x_test = features.loc[small & test, 'mfcc']\n",
        "    #x_validation = features.loc[small & val, 'mfcc']\n",
        "\n",
        "    #y_train.to_numpy()\n",
        "    #y_test.to_numpy()\n",
        "    #y_validation.to_numpy()\n",
        "    #x_train.to_numpy()\n",
        "    #x_test.to_numpy()\n",
        "    #x_validation.to_numpy()\n",
        "    npzfile = np.load('/content/drive/MyDrive/data/shuffled_train.npz') #change path\n",
        "    print(npzfile.files)\n",
        "    x_train = npzfile['arr_0']\n",
        "    y_train = npzfile['arr_1']\n",
        "    print(x_train.shape, y_train.shape)\n",
        "    \n",
        "    npzfile = np.load('/content/drive/MyDrive/data/shuffled_valid.npz') #change path\n",
        "    print(npzfile.files)\n",
        "    x_validation = npzfile['arr_0']\n",
        "    y_validation = npzfile['arr_1']\n",
        "    print(x_validation.shape, y_validation.shape)\n",
        "    '''\n",
        "    npzfile = np.load('/content/drive/MyDrive/data/test_arr.npz') #change path\n",
        "    print(npzfile.files)\n",
        "    x_test= npzfile['arr_0']\n",
        "    y_test = npzfile['arr_1']\n",
        "    print(x_test.shape, y_test.shape)\n",
        "    '''\n",
        "    x_train, x_test, y_train, y_test = train_test_split(x_train, y_train, test_size = 0.125)\n",
        "\n",
        "\n",
        "    x_train = x_train[... , np.newaxis]\n",
        "    x_validation = x_validation[... , np.newaxis]\n",
        "    x_test = x_test[... , np.newaxis]\n",
        "    return x_train, x_validation, x_test, y_train, y_validation, y_test \n",
        "def build_model(input_shape):\n",
        "    #create model\n",
        "    model = keras.Sequential()\n",
        "    model.add(keras.layers.Conv2D(48, (3,3),  activation = 'relu', input_shape = input_shape, padding ='same'))\n",
        "    model.add(keras.layers.MaxPool2D((13,1), padding = 'same'))\n",
        "    model.add(keras.layers.BatchNormalization())\n",
        "    model.add(keras.layers.Dropout(0.1))\n",
        "    \n",
        "    model.add(keras.layers.Conv2D(96, (3,3), activation = 'relu', input_shape = input_shape, padding ='same'))\n",
        "    model.add(keras.layers.MaxPool2D((3,1), padding = 'same'))\n",
        "    model.add(keras.layers.BatchNormalization())\n",
        "    model.add(keras.layers.Dropout(0.1))\n",
        "    \n",
        "    model.add(keras.layers.Conv2D(96, (3,3), activation = 'relu', input_shape = input_shape, padding ='same'))\n",
        "    model.add(keras.layers.MaxPool2D((4,2), padding = 'same'))\n",
        "    model.add(keras.layers.BatchNormalization())\n",
        "    model.add(keras.layers.Dropout(0.1))\n",
        "\n",
        "    model.add(keras.layers.Conv2D(96, (3,3), activation = 'relu', input_shape = input_shape, padding ='same'))\n",
        "    model.add(keras.layers.MaxPool2D((4,4), padding = 'same'))\n",
        "    model.add(keras.layers.BatchNormalization())\n",
        "    model.add(keras.layers.Dropout(0.1))\n",
        "\n",
        "    model.add(keras.layers.Reshape(target_shape=(32,96)))\n",
        "    #model.add(keras.layers.Dense(113, activation = 'relu'))\n",
        "    #model.add(keras.layers.Flatten())\n",
        "\n",
        "    #model = keras.Sequential()\n",
        "    #model.add(keras.layers.TimeDistributed(cnn))\n",
        "    model.add(keras.layers.LSTM(48, return_sequences = True))\n",
        "    #model.add(keras.layers.Dropout(0.4))\n",
        "    model.add(keras.layers.LSTM(48))\n",
        "    #model.add(keras.layers.Dropout(0.4))\n",
        "\n",
        "    #model.add(keras.layers.Dense(169, activation = 'relu'))\n",
        "    #model.add(keras.layers.Dropout(0.4))\n",
        "    \n",
        "    model.add(keras.layers.Dense(8, activation = 'softmax')) #8 genres\n",
        "    #cnn.build(input_shape)\n",
        "    print(model.summary())\n",
        "    return model\n",
        "\n",
        "def predict(model, x, y):\n",
        "    x = x[np.newaxis, ...]\n",
        "    prediction = model.predict(x)\n",
        "    predicted_index = np.argmax(prediction, axis = 1)\n",
        "    print(\"Expected index : {}, Predicted index : {}\".format(y, predicted_index))\n",
        "\n",
        "def show_summary_stats(history):\n",
        "    # List all data in history\n",
        "    print(history.history.keys())\n",
        "\n",
        "    # Summarize history for accuracy\n",
        "    plt.plot(history.history['auc'])\n",
        "    plt.plot(history.history['val_auc'])\n",
        "    plt.title('model auc')\n",
        "    plt.ylabel('auc')\n",
        "    plt.xlabel('epoch')\n",
        "    plt.legend(['train', 'test'], loc='upper left')\n",
        "    plt.show()\n",
        "\n",
        "    # Summarize history for loss\n",
        "    plt.plot(history.history['loss'])\n",
        "    plt.plot(history.history['val_loss'])\n",
        "    plt.title('model loss')\n",
        "    plt.ylabel('loss')\n",
        "    plt.xlabel('epoch')\n",
        "    plt.legend(['train', 'test'], loc='upper left')\n",
        "    plt.show()\n",
        "\n",
        "#Create train, valiadtion and test sets\n",
        "x_train, x_validation, x_test, y_train, y_validation, y_test = prepare_datasets() #test size, validation size\n",
        "print(\"Dataset split\")\n",
        "#build CNN net\n",
        "input_shape = (x_train.shape[1], x_train.shape[2], x_train.shape[3])\n",
        "model = build_model(input_shape)\n",
        "print(\"Model built\")\n",
        "#compile the network\n",
        "optimizer = keras.optimizers.Adam(learning_rate=0.0001)\n",
        "\n",
        "#model.compile(optimizer = optimizer, loss = \"categorical_crossentropy\", metrics = ['accuracy'])\n",
        "model.compile(optimizer = optimizer, loss = \"categorical_crossentropy\", metrics = [tf.keras.metrics.AUC()])\n",
        "print(\"Network compiled\")\n",
        "#train the network\n",
        "#print(x_train.shape)\n",
        "#y_validation = tf.one_hot(y_validation, 8)\n",
        "history = model.fit(x_train, y_train, validation_data = (x_validation, y_validation), batch_size = 32, shuffle=True, epochs = 10)\n",
        "#print(\"Network trained\")\n",
        "#evaluate the CNN on test set\n",
        "#y_test = tf.one_hot(y_test, 8)\n",
        "test_error, test_auc = model.evaluate(x_test, y_test, verbose = 1)\n",
        "print(\"AUC on test set : {}\".format(test_auc))\n",
        "show_summary_stats(history)\n",
        "#print(\"Evaluated\")"
      ],
      "execution_count": 4,
      "outputs": [
        {
          "output_type": "stream",
          "text": [
            "['arr_0', 'arr_1']\n",
            "(6394, 640, 128) (6394, 8)\n",
            "['arr_0', 'arr_1']\n",
            "(800, 640, 128) (800, 8)\n",
            "Dataset split\n",
            "Model: \"sequential\"\n",
            "_________________________________________________________________\n",
            "Layer (type)                 Output Shape              Param #   \n",
            "=================================================================\n",
            "conv2d (Conv2D)              (None, 640, 128, 48)      480       \n",
            "_________________________________________________________________\n",
            "max_pooling2d (MaxPooling2D) (None, 50, 128, 48)       0         \n",
            "_________________________________________________________________\n",
            "batch_normalization (BatchNo (None, 50, 128, 48)       192       \n",
            "_________________________________________________________________\n",
            "dropout (Dropout)            (None, 50, 128, 48)       0         \n",
            "_________________________________________________________________\n",
            "conv2d_1 (Conv2D)            (None, 50, 128, 96)       41568     \n",
            "_________________________________________________________________\n",
            "max_pooling2d_1 (MaxPooling2 (None, 17, 128, 96)       0         \n",
            "_________________________________________________________________\n",
            "batch_normalization_1 (Batch (None, 17, 128, 96)       384       \n",
            "_________________________________________________________________\n",
            "dropout_1 (Dropout)          (None, 17, 128, 96)       0         \n",
            "_________________________________________________________________\n",
            "conv2d_2 (Conv2D)            (None, 17, 128, 96)       83040     \n",
            "_________________________________________________________________\n",
            "max_pooling2d_2 (MaxPooling2 (None, 5, 64, 96)         0         \n",
            "_________________________________________________________________\n",
            "batch_normalization_2 (Batch (None, 5, 64, 96)         384       \n",
            "_________________________________________________________________\n",
            "dropout_2 (Dropout)          (None, 5, 64, 96)         0         \n",
            "_________________________________________________________________\n",
            "conv2d_3 (Conv2D)            (None, 5, 64, 96)         83040     \n",
            "_________________________________________________________________\n",
            "max_pooling2d_3 (MaxPooling2 (None, 2, 16, 96)         0         \n",
            "_________________________________________________________________\n",
            "batch_normalization_3 (Batch (None, 2, 16, 96)         384       \n",
            "_________________________________________________________________\n",
            "dropout_3 (Dropout)          (None, 2, 16, 96)         0         \n",
            "_________________________________________________________________\n",
            "reshape (Reshape)            (None, 32, 96)            0         \n",
            "_________________________________________________________________\n",
            "lstm (LSTM)                  (None, 32, 48)            27840     \n",
            "_________________________________________________________________\n",
            "lstm_1 (LSTM)                (None, 48)                18624     \n",
            "_________________________________________________________________\n",
            "dense (Dense)                (None, 8)                 392       \n",
            "=================================================================\n",
            "Total params: 256,328\n",
            "Trainable params: 255,656\n",
            "Non-trainable params: 672\n",
            "_________________________________________________________________\n",
            "None\n",
            "Model built\n",
            "Network compiled\n",
            "Epoch 1/10\n",
            "175/175 [==============================] - 53s 97ms/step - loss: 1.8124 - auc: 0.7479 - val_loss: 2.2778 - val_auc: 0.5606\n",
            "Epoch 2/10\n",
            "175/175 [==============================] - 15s 84ms/step - loss: 1.6073 - auc: 0.8092 - val_loss: 2.0446 - val_auc: 0.6633\n",
            "Epoch 3/10\n",
            "175/175 [==============================] - 15s 84ms/step - loss: 1.4923 - auc: 0.8356 - val_loss: 1.6887 - val_auc: 0.7758\n",
            "Epoch 4/10\n",
            "175/175 [==============================] - 15s 85ms/step - loss: 1.4317 - auc: 0.8486 - val_loss: 1.7540 - val_auc: 0.7652\n",
            "Epoch 5/10\n",
            "175/175 [==============================] - 15s 85ms/step - loss: 1.3765 - auc: 0.8607 - val_loss: 1.7160 - val_auc: 0.7788\n",
            "Epoch 6/10\n",
            "175/175 [==============================] - 15s 85ms/step - loss: 1.3379 - auc: 0.8689 - val_loss: 1.6188 - val_auc: 0.7993\n",
            "Epoch 7/10\n",
            "175/175 [==============================] - 15s 85ms/step - loss: 1.2999 - auc: 0.8760 - val_loss: 1.6168 - val_auc: 0.8011\n",
            "Epoch 8/10\n",
            "175/175 [==============================] - 15s 85ms/step - loss: 1.2742 - auc: 0.8809 - val_loss: 1.6331 - val_auc: 0.7995\n",
            "Epoch 9/10\n",
            "175/175 [==============================] - 15s 85ms/step - loss: 1.2352 - auc: 0.8885 - val_loss: 1.3661 - val_auc: 0.8580\n",
            "Epoch 10/10\n",
            "175/175 [==============================] - 15s 86ms/step - loss: 1.2152 - auc: 0.8918 - val_loss: 1.4441 - val_auc: 0.8402\n",
            "25/25 [==============================] - 1s 32ms/step - loss: 1.4665 - auc: 0.8401\n",
            "AUC on test set : 0.840059220790863\n",
            "dict_keys(['loss', 'auc', 'val_loss', 'val_auc'])\n"
          ],
          "name": "stdout"
        },
        {
          "output_type": "display_data",
          "data": {
            "image/png": "[encoded data removed]",
            "text/plain": [
              "<Figure size 432x288 with 1 Axes>"
            ]
          },
          "metadata": {
            "tags": [],
            "needs_background": "light"
          }
        },
        {
          "output_type": "display_data",
          "data": {
            "image/png": "[encoded data removed]",
            "text/plain": [
              "<Figure size 432x288 with 1 Axes>"
            ]
          },
          "metadata": {
            "tags": [],
            "needs_background": "light"
          }
        }
      ]
    }
  ]
}
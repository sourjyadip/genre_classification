{
  "nbformat": 4,
  "nbformat_minor": 0,
  "metadata": {
    "colab": {
      "name": "crnn_exp2.ipynb",
      "provenance": [],
      "collapsed_sections": []
    },
    "kernelspec": {
      "name": "python3",
      "display_name": "Python 3"
    },
    "language_info": {
      "name": "python"
    },
    "accelerator": "GPU"
  },
  "cells": [
    {
      "cell_type": "code",
      "metadata": {
        "colab": {
          "base_uri": "https://localhost:8080/"
        },
        "id": "GeNEK9k7Hmwv",
        "outputId": "3e85bf42-2d64-4e5d-be13-bf3c19482bc6"
      },
      "source": [
        "!git clone https://github.com/sourjyadip/genre_classification"
      ],
      "execution_count": 1,
      "outputs": [
        {
          "output_type": "stream",
          "text": [
            "fatal: destination path 'genre_classification' already exists and is not an empty directory.\n"
          ],
          "name": "stdout"
        }
      ]
    },
    {
      "cell_type": "code",
      "metadata": {
        "colab": {
          "base_uri": "https://localhost:8080/"
        },
        "id": "uKSXfRGsICDH",
        "outputId": "e149e821-268d-4111-af5b-08c4aa81a267"
      },
      "source": [
        "import cv2\n",
        "from google.colab import drive\n",
        "drive.mount(\"/content/drive\")"
      ],
      "execution_count": 2,
      "outputs": [
        {
          "output_type": "stream",
          "text": [
            "Drive already mounted at /content/drive; to attempt to forcibly remount, call drive.mount(\"/content/drive\", force_remount=True).\n"
          ],
          "name": "stdout"
        }
      ]
    },
    {
      "cell_type": "code",
      "metadata": {
        "colab": {
          "base_uri": "https://localhost:8080/"
        },
        "id": "kbF9Zcb0Id8f",
        "outputId": "2eb54a3a-06d0-4c05-a92d-d24490050614"
      },
      "source": [
        "!sudo pip3 install python-dotenv"
      ],
      "execution_count": 3,
      "outputs": [
        {
          "output_type": "stream",
          "text": [
            "Requirement already satisfied: python-dotenv in /usr/local/lib/python3.7/dist-packages (0.18.0)\n"
          ],
          "name": "stdout"
        }
      ]
    },
    {
      "cell_type": "code",
      "metadata": {
        "colab": {
          "base_uri": "https://localhost:8080/",
          "height": 1000
        },
        "id": "UqFcl8GDK2Mt",
        "outputId": "78b87576-4039-4587-ebbc-6bdd26a64d57"
      },
      "source": [
        "#Architecture taken from https://arxiv.org/abs/1609.04243  \n",
        "import json\n",
        "import numpy as np \n",
        "from sklearn .model_selection import train_test_split\n",
        "import tensorflow.keras as keras\n",
        "import os\n",
        "import IPython.display as ipd\n",
        "import numpy as np\n",
        "import pandas as pd\n",
        "import matplotlib.pyplot as plt\n",
        "import seaborn as sns\n",
        "import sklearn as skl\n",
        "import sklearn.utils, sklearn.preprocessing, sklearn.decomposition, sklearn.svm\n",
        "import librosa\n",
        "import librosa.display\n",
        "import tensorflow as tf \n",
        "\n",
        "import sys\n",
        "sys.path.append('/content/genre_classification')\n",
        "import utils\n",
        "\n",
        "\n",
        "#DATA_PATH = \n",
        "\n",
        "def load_data(data_path):\n",
        "    #loads training data from json file\n",
        "    #params: data path \n",
        "    #returns: x (nd array) : Input\n",
        "    #y (nd array) : Targets\n",
        "    with open(data_path, \"r\") as fp:\n",
        "        data = json.load(fp)\n",
        "    x = np.array(data['mfcc'])\n",
        "    y = np.array(array['labels'])\n",
        "    return x,y\n",
        "\n",
        "def prepare_datasets():\n",
        "    # Directory where mp3 are stored.\n",
        "    #AUDIO_DIR = 'data/fma_small/'\n",
        "\n",
        "    # Load metadata and features.\n",
        "    #tracks = utils.load('/content/drive/MyDrive/genre_data/fma_metadata/tracks.csv')\n",
        "    #genres = utils.load('/content/drive/MyDrive/genre_data/fma_metadata/genres.csv')\n",
        "    #features = utils.load('/content/drive/MyDrive/genre_data/fma_metadata/features.csv')\n",
        "    #load data\n",
        "    #x,y = load_data(DATA_PATH)\n",
        "    #create train test split\n",
        "    #x_train, x_test, y_train, y_test = train_test_split(x, y, test_size = test_size)\n",
        "    #create train validation split\n",
        "    #x_train, x_validation, y_train, y_validationv = train_test_split(x_train, y_train, test_size = validation_size)\n",
        "    #3d array for each sample\n",
        "    #(130,140,1)\n",
        "    #small = tracks['set', 'subset'] <= 'small'\n",
        "    #getting mfcc directly for training\n",
        "    #train = tracks['set', 'split'] == 'training'\n",
        "    #val = tracks['set', 'split'] == 'validation'\n",
        "    #test = tracks['set', 'split'] == 'test'\n",
        "\n",
        "    #y_train = tracks.loc[small & train, ('track', 'genre_top')]\n",
        "    #y_test = tracks.loc[small & test, ('track', 'genre_top')]\n",
        "    #y_validation = tracks.loc[small & val, ('track', 'genre_top')]\n",
        "    #x_train = features.loc[small & train, 'mfcc']\n",
        "    #x_test = features.loc[small & test, 'mfcc']\n",
        "    #x_validation = features.loc[small & val, 'mfcc']\n",
        "\n",
        "    #y_train.to_numpy()\n",
        "    #y_test.to_numpy()\n",
        "    #y_validation.to_numpy()\n",
        "    #x_train.to_numpy()\n",
        "    #x_test.to_numpy()\n",
        "    #x_validation.to_numpy()\n",
        "    npzfile = np.load('/content/drive/MyDrive/data/shuffled_train.npz') #change path\n",
        "    print(npzfile.files)\n",
        "    x_train = npzfile['arr_0']\n",
        "    y_train = npzfile['arr_1']\n",
        "    print(x_train.shape, y_train.shape)\n",
        "    \n",
        "    npzfile = np.load('/content/drive/MyDrive/data/shuffled_valid.npz') #change path\n",
        "    print(npzfile.files)\n",
        "    x_validation = npzfile['arr_0']\n",
        "    y_validation = npzfile['arr_1']\n",
        "    print(x_validation.shape, y_validation.shape)\n",
        "    '''\n",
        "    npzfile = np.load('/content/drive/MyDrive/data/test_arr.npz') #change path\n",
        "    print(npzfile.files)\n",
        "    x_test= npzfile['arr_0']\n",
        "    y_test = npzfile['arr_1']\n",
        "    print(x_test.shape, y_test.shape)\n",
        "    '''\n",
        "    x_train, x_test, y_train, y_test = train_test_split(x_train, y_train, test_size = 0.125)\n",
        "\n",
        "\n",
        "    x_train = x_train[... , np.newaxis]\n",
        "    x_validation = x_validation[... , np.newaxis]\n",
        "    x_test = x_test[... , np.newaxis]\n",
        "    return x_train, x_validation, x_test, y_train, y_validation, y_test \n",
        "def build_model(input_shape):\n",
        "    #create model\n",
        "    model = keras.Sequential()\n",
        "    model.add(keras.layers.Conv2D(169, (3,3),  activation = 'relu', input_shape = input_shape, padding ='same'))\n",
        "    model.add(keras.layers.MaxPool2D((13,1), padding = 'same'))\n",
        "    model.add(keras.layers.BatchNormalization())\n",
        "    model.add(keras.layers.Dropout(0.1))\n",
        "    \n",
        "    model.add(keras.layers.Conv2D(339, (3,3), activation = 'relu', input_shape = input_shape, padding ='same'))\n",
        "    model.add(keras.layers.MaxPool2D((3,1), padding = 'same'))\n",
        "    model.add(keras.layers.BatchNormalization())\n",
        "    model.add(keras.layers.Dropout(0.1))\n",
        "    \n",
        "    model.add(keras.layers.Conv2D(339, (3,3), activation = 'relu', input_shape = input_shape, padding ='same'))\n",
        "    model.add(keras.layers.MaxPool2D((4,2), padding = 'same'))\n",
        "    model.add(keras.layers.BatchNormalization())\n",
        "    model.add(keras.layers.Dropout(0.1))\n",
        "\n",
        "    model.add(keras.layers.Conv2D(339, (3,3), activation = 'relu', input_shape = input_shape, padding ='same'))\n",
        "    model.add(keras.layers.MaxPool2D((4,4), padding = 'same'))\n",
        "    model.add(keras.layers.BatchNormalization())\n",
        "    model.add(keras.layers.Dropout(0.1))\n",
        "\n",
        "    model.add(keras.layers.Reshape(target_shape=(32,339)))\n",
        "    #model.add(keras.layers.Dense(113, activation = 'relu'))\n",
        "    #model.add(keras.layers.Flatten())\n",
        "\n",
        "    #model = keras.Sequential()\n",
        "    #model.add(keras.layers.TimeDistributed(cnn))\n",
        "    model.add(keras.layers.LSTM(169, return_sequences = True))\n",
        "    #model.add(keras.layers.Dropout(0.4))\n",
        "    model.add(keras.layers.LSTM(169))\n",
        "    #model.add(keras.layers.Dropout(0.4))\n",
        "\n",
        "    #model.add(keras.layers.Dense(169, activation = 'relu'))\n",
        "    #model.add(keras.layers.Dropout(0.4))\n",
        "    \n",
        "    model.add(keras.layers.Dense(8, activation = 'softmax')) #8 genres\n",
        "    #cnn.build(input_shape)\n",
        "    print(model.summary())\n",
        "    return model\n",
        "\n",
        "def predict(model, x, y):\n",
        "    x = x[np.newaxis, ...]\n",
        "    prediction = model.predict(x)\n",
        "    predicted_index = np.argmax(prediction, axis = 1)\n",
        "    print(\"Expected index : {}, Predicted index : {}\".format(y, predicted_index))\n",
        "\n",
        "def show_summary_stats(history):\n",
        "    # List all data in history\n",
        "    print(history.history.keys())\n",
        "\n",
        "    # Summarize history for accuracy\n",
        "    plt.plot(history.history['auc'])\n",
        "    plt.plot(history.history['val_auc'])\n",
        "    plt.title('model auc')\n",
        "    plt.ylabel('auc')\n",
        "    plt.xlabel('epoch')\n",
        "    plt.legend(['train', 'test'], loc='upper left')\n",
        "    plt.show()\n",
        "\n",
        "    # Summarize history for loss\n",
        "    plt.plot(history.history['loss'])\n",
        "    plt.plot(history.history['val_loss'])\n",
        "    plt.title('model loss')\n",
        "    plt.ylabel('loss')\n",
        "    plt.xlabel('epoch')\n",
        "    plt.legend(['train', 'test'], loc='upper left')\n",
        "    plt.show()\n",
        "\n",
        "#Create train, valiadtion and test sets\n",
        "x_train, x_validation, x_test, y_train, y_validation, y_test = prepare_datasets() #test size, validation size\n",
        "print(\"Dataset split\")\n",
        "#build CNN net\n",
        "input_shape = (x_train.shape[1], x_train.shape[2], x_train.shape[3])\n",
        "model = build_model(input_shape)\n",
        "print(\"Model built\")\n",
        "#compile the network\n",
        "optimizer = keras.optimizers.Adam(learning_rate=0.0001)\n",
        "#model.compile(optimizer = optimizer, loss = \"categorical_crossentropy\", metrics = ['accuracy'])\n",
        "model.compile(optimizer = optimizer, loss = \"categorical_crossentropy\", metrics = [tf.keras.metrics.AUC()])\n",
        "print(\"Network compiled\")\n",
        "#train the network\n",
        "#print(x_train.shape)\n",
        "#y_validation = tf.one_hot(y_validation, 8)\n",
        "history = model.fit(x_train, y_train, validation_data = (x_validation, y_validation), batch_size = 32, shuffle=True, epochs = 10)\n",
        "#print(\"Network trained\")\n",
        "#evaluate the CNN on test set\n",
        "#y_test = tf.one_hot(y_test, 8)\n",
        "test_error, test_auc = model.evaluate(x_test, y_test, verbose = 1)\n",
        "print(\"AUC on test set : {}\".format(test_auc))\n",
        "show_summary_stats(history)\n",
        "#print(\"Evaluated\")"
      ],
      "execution_count": 4,
      "outputs": [
        {
          "output_type": "stream",
          "text": [
            "['arr_0', 'arr_1']\n",
            "(6394, 640, 128) (6394, 8)\n",
            "['arr_0', 'arr_1']\n",
            "(800, 640, 128) (800, 8)\n",
            "Dataset split\n",
            "Model: \"sequential\"\n",
            "_________________________________________________________________\n",
            "Layer (type)                 Output Shape              Param #   \n",
            "=================================================================\n",
            "conv2d (Conv2D)              (None, 640, 128, 169)     1690      \n",
            "_________________________________________________________________\n",
            "max_pooling2d (MaxPooling2D) (None, 50, 128, 169)      0         \n",
            "_________________________________________________________________\n",
            "batch_normalization (BatchNo (None, 50, 128, 169)      676       \n",
            "_________________________________________________________________\n",
            "dropout (Dropout)            (None, 50, 128, 169)      0         \n",
            "_________________________________________________________________\n",
            "conv2d_1 (Conv2D)            (None, 50, 128, 339)      515958    \n",
            "_________________________________________________________________\n",
            "max_pooling2d_1 (MaxPooling2 (None, 17, 128, 339)      0         \n",
            "_________________________________________________________________\n",
            "batch_normalization_1 (Batch (None, 17, 128, 339)      1356      \n",
            "_________________________________________________________________\n",
            "dropout_1 (Dropout)          (None, 17, 128, 339)      0         \n",
            "_________________________________________________________________\n",
            "conv2d_2 (Conv2D)            (None, 17, 128, 339)      1034628   \n",
            "_________________________________________________________________\n",
            "max_pooling2d_2 (MaxPooling2 (None, 5, 64, 339)        0         \n",
            "_________________________________________________________________\n",
            "batch_normalization_2 (Batch (None, 5, 64, 339)        1356      \n",
            "_________________________________________________________________\n",
            "dropout_2 (Dropout)          (None, 5, 64, 339)        0         \n",
            "_________________________________________________________________\n",
            "conv2d_3 (Conv2D)            (None, 5, 64, 339)        1034628   \n",
            "_________________________________________________________________\n",
            "max_pooling2d_3 (MaxPooling2 (None, 2, 16, 339)        0         \n",
            "_________________________________________________________________\n",
            "batch_normalization_3 (Batch (None, 2, 16, 339)        1356      \n",
            "_________________________________________________________________\n",
            "dropout_3 (Dropout)          (None, 2, 16, 339)        0         \n",
            "_________________________________________________________________\n",
            "reshape (Reshape)            (None, 32, 339)           0         \n",
            "_________________________________________________________________\n",
            "lstm (LSTM)                  (None, 32, 169)           344084    \n",
            "_________________________________________________________________\n",
            "lstm_1 (LSTM)                (None, 169)               229164    \n",
            "_________________________________________________________________\n",
            "dense (Dense)                (None, 8)                 1360      \n",
            "=================================================================\n",
            "Total params: 3,166,256\n",
            "Trainable params: 3,163,884\n",
            "Non-trainable params: 2,372\n",
            "_________________________________________________________________\n",
            "None\n",
            "Model built\n",
            "Network compiled\n",
            "Epoch 1/10\n",
            "175/175 [==============================] - 107s 381ms/step - loss: 1.6420 - auc: 0.7922 - val_loss: 2.3950 - val_auc: 0.5629\n",
            "Epoch 2/10\n",
            "175/175 [==============================] - 61s 349ms/step - loss: 1.4409 - auc: 0.8449 - val_loss: 1.8764 - val_auc: 0.7073\n",
            "Epoch 3/10\n",
            "175/175 [==============================] - 62s 352ms/step - loss: 1.3339 - auc: 0.8689 - val_loss: 1.4595 - val_auc: 0.8419\n",
            "Epoch 4/10\n",
            "175/175 [==============================] - 61s 351ms/step - loss: 1.2748 - auc: 0.8804 - val_loss: 1.5749 - val_auc: 0.8160\n",
            "Epoch 5/10\n",
            "175/175 [==============================] - 62s 352ms/step - loss: 1.2186 - auc: 0.8914 - val_loss: 1.3757 - val_auc: 0.8581\n",
            "Epoch 6/10\n",
            "175/175 [==============================] - 62s 352ms/step - loss: 1.1760 - auc: 0.8994 - val_loss: 1.4504 - val_auc: 0.8443\n",
            "Epoch 7/10\n",
            "175/175 [==============================] - 62s 352ms/step - loss: 1.1213 - auc: 0.9088 - val_loss: 1.3530 - val_auc: 0.8653\n",
            "Epoch 8/10\n",
            "175/175 [==============================] - 62s 352ms/step - loss: 1.0900 - auc: 0.9142 - val_loss: 1.3537 - val_auc: 0.8651\n",
            "Epoch 9/10\n",
            "175/175 [==============================] - 61s 352ms/step - loss: 1.0193 - auc: 0.9249 - val_loss: 1.4794 - val_auc: 0.8395\n",
            "Epoch 10/10\n",
            "175/175 [==============================] - 62s 353ms/step - loss: 0.9617 - auc: 0.9331 - val_loss: 1.3361 - val_auc: 0.8709\n",
            "25/25 [==============================] - 3s 121ms/step - loss: 1.1715 - auc: 0.9012\n",
            "AUC on test set : 0.9011849164962769\n",
            "dict_keys(['loss', 'auc', 'val_loss', 'val_auc'])\n"
          ],
          "name": "stdout"
        },
        {
          "output_type": "display_data",
          "data": {
            "image/png": "[encoded data removed]",
            "text/plain": [
              "<Figure size 432x288 with 1 Axes>"
            ]
          },
          "metadata": {
            "tags": [],
            "needs_background": "light"
          }
        },
        {
          "output_type": "display_data",
          "data": {
            "image/png": "[encoded data removed]",
            "text/plain": [
              "<Figure size 432x288 with 1 Axes>"
            ]
          },
          "metadata": {
            "tags": [],
            "needs_background": "light"
          }
        }
      ]
    }
  ]
}
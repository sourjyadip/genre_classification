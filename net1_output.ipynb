{
  "nbformat": 4,
  "nbformat_minor": 0,
  "metadata": {
    "colab": {
      "name": "genre_cnn.ipynb",
      "provenance": [],
      "collapsed_sections": []
    },
    "kernelspec": {
      "name": "python3",
      "display_name": "Python 3"
    },
    "language_info": {
      "name": "python"
    },
    "accelerator": "GPU"
  },
  "cells": [
    {
      "cell_type": "code",
      "metadata": {
        "colab": {
          "base_uri": "https://localhost:8080/"
        },
        "id": "GeNEK9k7Hmwv",
        "outputId": "23b78834-7d0d-4855-d635-26ec85ee7214"
      },
      "source": [
        "!git clone https://github.com/sourjyadip/genre_classification"
      ],
      "execution_count": 1,
      "outputs": [
        {
          "output_type": "stream",
          "text": [
            "Cloning into 'genre_classification'...\n",
            "remote: Enumerating objects: 11, done.\u001b[K\n",
            "remote: Counting objects: 100% (11/11), done.\u001b[K\n",
            "remote: Compressing objects: 100% (9/9), done.\u001b[K\n",
            "remote: Total 11 (delta 2), reused 11 (delta 2), pack-reused 0\u001b[K\n",
            "Unpacking objects: 100% (11/11), done.\n"
          ],
          "name": "stdout"
        }
      ]
    },
    {
      "cell_type": "code",
      "metadata": {
        "colab": {
          "base_uri": "https://localhost:8080/"
        },
        "id": "uKSXfRGsICDH",
        "outputId": "122f6882-2ad0-4cd5-d61f-ddd0e05afa07"
      },
      "source": [
        "import cv2\n",
        "from google.colab import drive\n",
        "drive.mount(\"/content/drive\")"
      ],
      "execution_count": 2,
      "outputs": [
        {
          "output_type": "stream",
          "text": [
            "Mounted at /content/drive\n"
          ],
          "name": "stdout"
        }
      ]
    },
    {
      "cell_type": "code",
      "metadata": {
        "colab": {
          "base_uri": "https://localhost:8080/"
        },
        "id": "kbF9Zcb0Id8f",
        "outputId": "e01f2957-d807-451a-c00c-6fc881b7153f"
      },
      "source": [
        "!sudo pip3 install python-dotenv"
      ],
      "execution_count": 3,
      "outputs": [
        {
          "output_type": "stream",
          "text": [
            "Collecting python-dotenv\n",
            "  Downloading https://files.pythonhosted.org/packages/86/62/aacbd1489fc6026c9278e9fd5cfdd49c5b1b5375d3c97a624e8f8f999eb2/python_dotenv-0.17.0-py2.py3-none-any.whl\n",
            "Installing collected packages: python-dotenv\n",
            "Successfully installed python-dotenv-0.17.0\n"
          ],
          "name": "stdout"
        }
      ]
    },
    {
      "cell_type": "code",
      "metadata": {
        "colab": {
          "base_uri": "https://localhost:8080/"
        },
        "id": "TlVCjNsjONBz",
        "outputId": "a4781d8e-0bfa-4d00-ed93-bf3fde373f2d"
      },
      "source": [
        "!python /content/genre_classification/net1.py"
      ],
      "execution_count": 4,
      "outputs": [
        {
          "output_type": "stream",
          "text": [
            "2021-04-09 03:13:49.882297: I tensorflow/stream_executor/platform/default/dso_loader.cc:49] Successfully opened dynamic library libcudart.so.11.0\n",
            "['arr_0', 'arr_1']\n",
            "tcmalloc: large alloc 4190371840 bytes == 0x55ea421cc000 @  0x7f758e8d21e7 0x7f758c28046e 0x7f758c2d0c7b 0x7f758c283ce8 0x55ea3bd57c25 0x55ea3bd188e9 0x55ea3bd8cade 0x55ea3bd86b0e 0x55ea3bd1977a 0x55ea3bd8886a 0x55ea3bd1b72b 0x55ea3bd5c5e9 0x55ea3bd5c55c 0x55ea3bdffe59 0x55ea3bd87fad 0x55ea3bd1969a 0x55ea3bd87a45 0x55ea3bd86b0e 0x55ea3bd86813 0x55ea3be50592 0x55ea3be5090d 0x55ea3be507b6 0x55ea3be28103 0x55ea3be27dac 0x7f758d6bcbf7 0x55ea3be27c8a\n",
            "(6394, 640, 128) (6394, 8)\n",
            "['arr_0', 'arr_1']\n",
            "(800, 640, 128) (800, 8)\n",
            "['arr_0', 'arr_1']\n",
            "(800, 640, 128) (800,)\n",
            "Dataset split\n",
            "2021-04-09 03:14:53.038946: I tensorflow/compiler/jit/xla_cpu_device.cc:41] Not creating XLA devices, tf_xla_enable_xla_devices not set\n",
            "2021-04-09 03:14:53.050065: I tensorflow/stream_executor/platform/default/dso_loader.cc:49] Successfully opened dynamic library libcuda.so.1\n",
            "2021-04-09 03:14:53.122023: I tensorflow/stream_executor/cuda/cuda_gpu_executor.cc:941] successful NUMA node read from SysFS had negative value (-1), but there must be at least one NUMA node, so returning NUMA node zero\n",
            "2021-04-09 03:14:53.122713: I tensorflow/core/common_runtime/gpu/gpu_device.cc:1720] Found device 0 with properties: \n",
            "pciBusID: 0000:00:04.0 name: Tesla P100-PCIE-16GB computeCapability: 6.0\n",
            "coreClock: 1.3285GHz coreCount: 56 deviceMemorySize: 15.90GiB deviceMemoryBandwidth: 681.88GiB/s\n",
            "2021-04-09 03:14:53.122777: I tensorflow/stream_executor/platform/default/dso_loader.cc:49] Successfully opened dynamic library libcudart.so.11.0\n",
            "2021-04-09 03:14:53.259248: I tensorflow/stream_executor/platform/default/dso_loader.cc:49] Successfully opened dynamic library libcublas.so.11\n",
            "2021-04-09 03:14:53.259405: I tensorflow/stream_executor/platform/default/dso_loader.cc:49] Successfully opened dynamic library libcublasLt.so.11\n",
            "2021-04-09 03:14:53.425924: I tensorflow/stream_executor/platform/default/dso_loader.cc:49] Successfully opened dynamic library libcufft.so.10\n",
            "2021-04-09 03:14:53.473752: I tensorflow/stream_executor/platform/default/dso_loader.cc:49] Successfully opened dynamic library libcurand.so.10\n",
            "2021-04-09 03:14:53.661463: I tensorflow/stream_executor/platform/default/dso_loader.cc:49] Successfully opened dynamic library libcusolver.so.10\n",
            "2021-04-09 03:14:53.701357: I tensorflow/stream_executor/platform/default/dso_loader.cc:49] Successfully opened dynamic library libcusparse.so.11\n",
            "2021-04-09 03:14:53.710723: I tensorflow/stream_executor/platform/default/dso_loader.cc:49] Successfully opened dynamic library libcudnn.so.8\n",
            "2021-04-09 03:14:53.710985: I tensorflow/stream_executor/cuda/cuda_gpu_executor.cc:941] successful NUMA node read from SysFS had negative value (-1), but there must be at least one NUMA node, so returning NUMA node zero\n",
            "2021-04-09 03:14:53.712019: I tensorflow/stream_executor/cuda/cuda_gpu_executor.cc:941] successful NUMA node read from SysFS had negative value (-1), but there must be at least one NUMA node, so returning NUMA node zero\n",
            "2021-04-09 03:14:53.715399: I tensorflow/core/common_runtime/gpu/gpu_device.cc:1862] Adding visible gpu devices: 0\n",
            "2021-04-09 03:14:53.716632: I tensorflow/compiler/jit/xla_gpu_device.cc:99] Not creating XLA devices, tf_xla_enable_xla_devices not set\n",
            "2021-04-09 03:14:53.716779: I tensorflow/stream_executor/cuda/cuda_gpu_executor.cc:941] successful NUMA node read from SysFS had negative value (-1), but there must be at least one NUMA node, so returning NUMA node zero\n",
            "2021-04-09 03:14:53.717652: I tensorflow/core/common_runtime/gpu/gpu_device.cc:1720] Found device 0 with properties: \n",
            "pciBusID: 0000:00:04.0 name: Tesla P100-PCIE-16GB computeCapability: 6.0\n",
            "coreClock: 1.3285GHz coreCount: 56 deviceMemorySize: 15.90GiB deviceMemoryBandwidth: 681.88GiB/s\n",
            "2021-04-09 03:14:53.717720: I tensorflow/stream_executor/platform/default/dso_loader.cc:49] Successfully opened dynamic library libcudart.so.11.0\n",
            "2021-04-09 03:14:53.717771: I tensorflow/stream_executor/platform/default/dso_loader.cc:49] Successfully opened dynamic library libcublas.so.11\n",
            "2021-04-09 03:14:53.717799: I tensorflow/stream_executor/platform/default/dso_loader.cc:49] Successfully opened dynamic library libcublasLt.so.11\n",
            "2021-04-09 03:14:53.717826: I tensorflow/stream_executor/platform/default/dso_loader.cc:49] Successfully opened dynamic library libcufft.so.10\n",
            "2021-04-09 03:14:53.717848: I tensorflow/stream_executor/platform/default/dso_loader.cc:49] Successfully opened dynamic library libcurand.so.10\n",
            "2021-04-09 03:14:53.717882: I tensorflow/stream_executor/platform/default/dso_loader.cc:49] Successfully opened dynamic library libcusolver.so.10\n",
            "2021-04-09 03:14:53.717908: I tensorflow/stream_executor/platform/default/dso_loader.cc:49] Successfully opened dynamic library libcusparse.so.11\n",
            "2021-04-09 03:14:53.717935: I tensorflow/stream_executor/platform/default/dso_loader.cc:49] Successfully opened dynamic library libcudnn.so.8\n",
            "2021-04-09 03:14:53.718018: I tensorflow/stream_executor/cuda/cuda_gpu_executor.cc:941] successful NUMA node read from SysFS had negative value (-1), but there must be at least one NUMA node, so returning NUMA node zero\n",
            "2021-04-09 03:14:53.718814: I tensorflow/stream_executor/cuda/cuda_gpu_executor.cc:941] successful NUMA node read from SysFS had negative value (-1), but there must be at least one NUMA node, so returning NUMA node zero\n",
            "2021-04-09 03:14:53.719589: I tensorflow/core/common_runtime/gpu/gpu_device.cc:1862] Adding visible gpu devices: 0\n",
            "2021-04-09 03:14:53.722319: I tensorflow/stream_executor/platform/default/dso_loader.cc:49] Successfully opened dynamic library libcudart.so.11.0\n",
            "2021-04-09 03:14:56.112708: I tensorflow/core/common_runtime/gpu/gpu_device.cc:1261] Device interconnect StreamExecutor with strength 1 edge matrix:\n",
            "2021-04-09 03:14:56.112761: I tensorflow/core/common_runtime/gpu/gpu_device.cc:1267]      0 \n",
            "2021-04-09 03:14:56.115635: I tensorflow/core/common_runtime/gpu/gpu_device.cc:1280] 0:   N \n",
            "2021-04-09 03:14:56.121800: I tensorflow/stream_executor/cuda/cuda_gpu_executor.cc:941] successful NUMA node read from SysFS had negative value (-1), but there must be at least one NUMA node, so returning NUMA node zero\n",
            "2021-04-09 03:14:56.122471: I tensorflow/stream_executor/cuda/cuda_gpu_executor.cc:941] successful NUMA node read from SysFS had negative value (-1), but there must be at least one NUMA node, so returning NUMA node zero\n",
            "2021-04-09 03:14:56.123089: I tensorflow/stream_executor/cuda/cuda_gpu_executor.cc:941] successful NUMA node read from SysFS had negative value (-1), but there must be at least one NUMA node, so returning NUMA node zero\n",
            "2021-04-09 03:14:56.123658: W tensorflow/core/common_runtime/gpu/gpu_bfc_allocator.cc:39] Overriding allow_growth setting because the TF_FORCE_GPU_ALLOW_GROWTH environment variable is set. Original config value was 0.\n",
            "2021-04-09 03:14:56.123720: I tensorflow/core/common_runtime/gpu/gpu_device.cc:1406] Created TensorFlow device (/job:localhost/replica:0/task:0/device:GPU:0 with 14975 MB memory) -> physical GPU (device: 0, name: Tesla P100-PCIE-16GB, pci bus id: 0000:00:04.0, compute capability: 6.0)\n",
            "Model built\n",
            "Network compiled\n",
            "tcmalloc: large alloc 2095185920 bytes == 0x55eb8d2e6000 @  0x7f758e8d21e7 0x7f758c28046e 0x7f758c2d0c7b 0x7f758c2d0d97 0x7f758c2d0fe9 0x7f758c2d3d7d 0x7f754be46b01 0x7f754bdf0e10 0x7f754bdf1c21 0x55ea3bd57c84 0x55ea3bd187f2 0x55ea3bd8c63d 0x55ea3bd86b0e 0x55ea3bd1977a 0x55ea3bd87a45 0x55ea3bd1969a 0x55ea3bd87a45 0x55ea3bd86b0e 0x55ea3bd1977a 0x55ea3bd8886a 0x55ea3bd86b0e 0x55ea3bd1977a 0x55ea3bd8886a 0x55ea3bd86b0e 0x55ea3bd1977a 0x55ea3bd8886a 0x55ea3bd86b0e 0x55ea3bc58e2b 0x55ea3bd891e6 0x55ea3bd86e0d 0x55ea3bd1977a\n",
            "2021-04-09 03:14:58.290317: I tensorflow/compiler/mlir/mlir_graph_optimization_pass.cc:116] None of the MLIR optimization passes are enabled (registered 2)\n",
            "2021-04-09 03:14:58.301339: I tensorflow/core/platform/profile_utils/cpu_utils.cc:112] CPU Frequency: 2199995000 Hz\n",
            "Epoch 1/30\n",
            "2021-04-09 03:14:59.012022: I tensorflow/stream_executor/platform/default/dso_loader.cc:49] Successfully opened dynamic library libcublas.so.11\n",
            "2021-04-09 03:15:00.247651: I tensorflow/stream_executor/platform/default/dso_loader.cc:49] Successfully opened dynamic library libcublasLt.so.11\n",
            "2021-04-09 03:15:00.300714: I tensorflow/stream_executor/platform/default/dso_loader.cc:49] Successfully opened dynamic library libcudnn.so.8\n",
            "200/200 [==============================] - 24s 40ms/step - loss: 2.0295 - accuracy: 0.2848 - val_loss: 1.8004 - val_accuracy: 0.3288\n",
            "Epoch 2/30\n",
            "200/200 [==============================] - 7s 34ms/step - loss: 1.5618 - accuracy: 0.4240 - val_loss: 1.7147 - val_accuracy: 0.4225\n",
            "Epoch 3/30\n",
            "200/200 [==============================] - 7s 34ms/step - loss: 1.3326 - accuracy: 0.5167 - val_loss: 1.5760 - val_accuracy: 0.4737\n",
            "Epoch 4/30\n",
            "200/200 [==============================] - 7s 34ms/step - loss: 1.0631 - accuracy: 0.6119 - val_loss: 1.6262 - val_accuracy: 0.4775\n",
            "Epoch 5/30\n",
            "200/200 [==============================] - 7s 34ms/step - loss: 0.8888 - accuracy: 0.6737 - val_loss: 1.6355 - val_accuracy: 0.4913\n",
            "Epoch 6/30\n",
            "200/200 [==============================] - 7s 34ms/step - loss: 0.6995 - accuracy: 0.7563 - val_loss: 1.8016 - val_accuracy: 0.4512\n",
            "Epoch 7/30\n",
            "200/200 [==============================] - 7s 34ms/step - loss: 0.5443 - accuracy: 0.8106 - val_loss: 1.7430 - val_accuracy: 0.4913\n",
            "Epoch 8/30\n",
            "200/200 [==============================] - 7s 34ms/step - loss: 0.4419 - accuracy: 0.8482 - val_loss: 1.8824 - val_accuracy: 0.4675\n",
            "Epoch 9/30\n",
            "200/200 [==============================] - 7s 34ms/step - loss: 0.3773 - accuracy: 0.8725 - val_loss: 2.0171 - val_accuracy: 0.4913\n",
            "Epoch 10/30\n",
            "200/200 [==============================] - 7s 34ms/step - loss: 0.2877 - accuracy: 0.9094 - val_loss: 1.9210 - val_accuracy: 0.4812\n",
            "Epoch 11/30\n",
            "200/200 [==============================] - 7s 34ms/step - loss: 0.2249 - accuracy: 0.9307 - val_loss: 2.2083 - val_accuracy: 0.4512\n",
            "Epoch 12/30\n",
            "200/200 [==============================] - 7s 34ms/step - loss: 0.1898 - accuracy: 0.9437 - val_loss: 2.1114 - val_accuracy: 0.5000\n",
            "Epoch 13/30\n",
            "200/200 [==============================] - 7s 34ms/step - loss: 0.1727 - accuracy: 0.9471 - val_loss: 2.4393 - val_accuracy: 0.4875\n",
            "Epoch 14/30\n",
            "200/200 [==============================] - 7s 34ms/step - loss: 0.1385 - accuracy: 0.9567 - val_loss: 2.1479 - val_accuracy: 0.4900\n",
            "Epoch 15/30\n",
            "200/200 [==============================] - 7s 34ms/step - loss: 0.1310 - accuracy: 0.9573 - val_loss: 2.1782 - val_accuracy: 0.4938\n",
            "Epoch 16/30\n",
            "200/200 [==============================] - 7s 34ms/step - loss: 0.1126 - accuracy: 0.9638 - val_loss: 2.4158 - val_accuracy: 0.4787\n",
            "Epoch 17/30\n",
            "200/200 [==============================] - 7s 34ms/step - loss: 0.0966 - accuracy: 0.9711 - val_loss: 2.3432 - val_accuracy: 0.4938\n",
            "Epoch 18/30\n",
            "200/200 [==============================] - 7s 34ms/step - loss: 0.1008 - accuracy: 0.9664 - val_loss: 2.4287 - val_accuracy: 0.4812\n",
            "Epoch 19/30\n",
            "200/200 [==============================] - 7s 34ms/step - loss: 0.0940 - accuracy: 0.9689 - val_loss: 2.5020 - val_accuracy: 0.4812\n",
            "Epoch 20/30\n",
            "200/200 [==============================] - 7s 34ms/step - loss: 0.0686 - accuracy: 0.9811 - val_loss: 2.6135 - val_accuracy: 0.4800\n",
            "Epoch 21/30\n",
            "200/200 [==============================] - 7s 34ms/step - loss: 0.0737 - accuracy: 0.9776 - val_loss: 2.6589 - val_accuracy: 0.4812\n",
            "Epoch 22/30\n",
            "200/200 [==============================] - 7s 34ms/step - loss: 0.0668 - accuracy: 0.9799 - val_loss: 2.6670 - val_accuracy: 0.5088\n",
            "Epoch 23/30\n",
            "200/200 [==============================] - 7s 34ms/step - loss: 0.0674 - accuracy: 0.9799 - val_loss: 2.8460 - val_accuracy: 0.4825\n",
            "Epoch 24/30\n",
            "200/200 [==============================] - 7s 34ms/step - loss: 0.0638 - accuracy: 0.9814 - val_loss: 3.1177 - val_accuracy: 0.4400\n",
            "Epoch 25/30\n",
            "200/200 [==============================] - 7s 34ms/step - loss: 0.0523 - accuracy: 0.9821 - val_loss: 2.9152 - val_accuracy: 0.4750\n",
            "Epoch 26/30\n",
            "200/200 [==============================] - 7s 34ms/step - loss: 0.0575 - accuracy: 0.9821 - val_loss: 2.9529 - val_accuracy: 0.4850\n",
            "Epoch 27/30\n",
            "200/200 [==============================] - 7s 34ms/step - loss: 0.0492 - accuracy: 0.9846 - val_loss: 3.0064 - val_accuracy: 0.4750\n",
            "Epoch 28/30\n",
            "200/200 [==============================] - 7s 34ms/step - loss: 0.0487 - accuracy: 0.9874 - val_loss: 3.1579 - val_accuracy: 0.4387\n",
            "Epoch 29/30\n",
            "200/200 [==============================] - 7s 34ms/step - loss: 0.0582 - accuracy: 0.9815 - val_loss: 3.1015 - val_accuracy: 0.4663\n",
            "Epoch 30/30\n",
            "200/200 [==============================] - 7s 34ms/step - loss: 0.0545 - accuracy: 0.9837 - val_loss: 3.0751 - val_accuracy: 0.4762\n",
            "Network trained\n",
            "25/25 [==============================] - 0s 14ms/step - loss: 39.1474 - accuracy: 0.1025\n",
            "Accuracy on test set : 0.10249999910593033\n",
            "Evaluated\n"
          ],
          "name": "stdout"
        }
      ]
    }
  ]
}